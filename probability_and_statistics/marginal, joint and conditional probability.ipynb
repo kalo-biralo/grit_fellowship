{
 "cells": [
  {
   "cell_type": "markdown",
   "id": "17d24cd9",
   "metadata": {},
   "source": [
    "# Probabilty: Marginal Probability, Joint Probability and Conditional Probability"
   ]
  },
  {
   "cell_type": "code",
   "execution_count": 1,
   "id": "d97d05e8",
   "metadata": {},
   "outputs": [],
   "source": [
    "%matplotlib inline\n",
    "import pandas as pd\n",
    "import seaborn as sns\n",
    "from statistics import mean\n",
    "import matplotlib.pyplot as plt"
   ]
  },
  {
   "cell_type": "code",
   "execution_count": 2,
   "id": "c4296489",
   "metadata": {},
   "outputs": [],
   "source": [
    "#pima_indians_diabetes_db represent our diabetes.csv database as a pandas dataframe\n",
    "pima_indians_diabetes_db = pd.read_csv(\"diabetes.csv\") "
   ]
  },
  {
   "cell_type": "markdown",
   "id": "cd471fbb",
   "metadata": {},
   "source": [
    "## EDA of relevant data"
   ]
  },
  {
   "cell_type": "code",
   "execution_count": 3,
   "id": "014df249",
   "metadata": {},
   "outputs": [
    {
     "data": {
      "text/html": [
       "<div>\n",
       "<style scoped>\n",
       "    .dataframe tbody tr th:only-of-type {\n",
       "        vertical-align: middle;\n",
       "    }\n",
       "\n",
       "    .dataframe tbody tr th {\n",
       "        vertical-align: top;\n",
       "    }\n",
       "\n",
       "    .dataframe thead th {\n",
       "        text-align: right;\n",
       "    }\n",
       "</style>\n",
       "<table border=\"1\" class=\"dataframe\">\n",
       "  <thead>\n",
       "    <tr style=\"text-align: right;\">\n",
       "      <th></th>\n",
       "      <th>Pregnancies</th>\n",
       "      <th>Glucose</th>\n",
       "      <th>BloodPressure</th>\n",
       "      <th>SkinThickness</th>\n",
       "      <th>Insulin</th>\n",
       "      <th>BMI</th>\n",
       "      <th>DiabetesPedigreeFunction</th>\n",
       "      <th>Age</th>\n",
       "      <th>Outcome</th>\n",
       "    </tr>\n",
       "  </thead>\n",
       "  <tbody>\n",
       "    <tr>\n",
       "      <th>0</th>\n",
       "      <td>6</td>\n",
       "      <td>148</td>\n",
       "      <td>72</td>\n",
       "      <td>35</td>\n",
       "      <td>0</td>\n",
       "      <td>33.6</td>\n",
       "      <td>0.627</td>\n",
       "      <td>50</td>\n",
       "      <td>1</td>\n",
       "    </tr>\n",
       "    <tr>\n",
       "      <th>1</th>\n",
       "      <td>1</td>\n",
       "      <td>85</td>\n",
       "      <td>66</td>\n",
       "      <td>29</td>\n",
       "      <td>0</td>\n",
       "      <td>26.6</td>\n",
       "      <td>0.351</td>\n",
       "      <td>31</td>\n",
       "      <td>0</td>\n",
       "    </tr>\n",
       "    <tr>\n",
       "      <th>2</th>\n",
       "      <td>8</td>\n",
       "      <td>183</td>\n",
       "      <td>64</td>\n",
       "      <td>0</td>\n",
       "      <td>0</td>\n",
       "      <td>23.3</td>\n",
       "      <td>0.672</td>\n",
       "      <td>32</td>\n",
       "      <td>1</td>\n",
       "    </tr>\n",
       "    <tr>\n",
       "      <th>3</th>\n",
       "      <td>1</td>\n",
       "      <td>89</td>\n",
       "      <td>66</td>\n",
       "      <td>23</td>\n",
       "      <td>94</td>\n",
       "      <td>28.1</td>\n",
       "      <td>0.167</td>\n",
       "      <td>21</td>\n",
       "      <td>0</td>\n",
       "    </tr>\n",
       "    <tr>\n",
       "      <th>4</th>\n",
       "      <td>0</td>\n",
       "      <td>137</td>\n",
       "      <td>40</td>\n",
       "      <td>35</td>\n",
       "      <td>168</td>\n",
       "      <td>43.1</td>\n",
       "      <td>2.288</td>\n",
       "      <td>33</td>\n",
       "      <td>1</td>\n",
       "    </tr>\n",
       "  </tbody>\n",
       "</table>\n",
       "</div>"
      ],
      "text/plain": [
       "   Pregnancies  Glucose  BloodPressure  SkinThickness  Insulin   BMI  \\\n",
       "0            6      148             72             35        0  33.6   \n",
       "1            1       85             66             29        0  26.6   \n",
       "2            8      183             64              0        0  23.3   \n",
       "3            1       89             66             23       94  28.1   \n",
       "4            0      137             40             35      168  43.1   \n",
       "\n",
       "   DiabetesPedigreeFunction  Age  Outcome  \n",
       "0                     0.627   50        1  \n",
       "1                     0.351   31        0  \n",
       "2                     0.672   32        1  \n",
       "3                     0.167   21        0  \n",
       "4                     2.288   33        1  "
      ]
     },
     "execution_count": 3,
     "metadata": {},
     "output_type": "execute_result"
    }
   ],
   "source": [
    "pima_indians_diabetes_db.head() #top five rows of the database"
   ]
  },
  {
   "cell_type": "code",
   "execution_count": 4,
   "id": "c80f160f",
   "metadata": {},
   "outputs": [
    {
     "name": "stdout",
     "output_type": "stream",
     "text": [
      "<class 'pandas.core.frame.DataFrame'>\n",
      "RangeIndex: 768 entries, 0 to 767\n",
      "Data columns (total 9 columns):\n",
      " #   Column                    Non-Null Count  Dtype  \n",
      "---  ------                    --------------  -----  \n",
      " 0   Pregnancies               768 non-null    int64  \n",
      " 1   Glucose                   768 non-null    int64  \n",
      " 2   BloodPressure             768 non-null    int64  \n",
      " 3   SkinThickness             768 non-null    int64  \n",
      " 4   Insulin                   768 non-null    int64  \n",
      " 5   BMI                       768 non-null    float64\n",
      " 6   DiabetesPedigreeFunction  768 non-null    float64\n",
      " 7   Age                       768 non-null    int64  \n",
      " 8   Outcome                   768 non-null    int64  \n",
      "dtypes: float64(2), int64(7)\n",
      "memory usage: 54.1 KB\n"
     ]
    }
   ],
   "source": [
    "pima_indians_diabetes_db.info() #datatypes and non-null count of the columns in the database"
   ]
  },
  {
   "cell_type": "code",
   "execution_count": 5,
   "id": "281762c2",
   "metadata": {},
   "outputs": [
    {
     "data": {
      "image/png": "[encoded data removed]",
      "text/plain": [
       "<Figure size 1200x800 with 1 Axes>"
      ]
     },
     "metadata": {},
     "output_type": "display_data"
    }
   ],
   "source": [
    "#represent the total number of people who have diabetes and don't have diabetes as a pie charta\n",
    "\n",
    "diabetes_count = pima_indians_diabetes_db[\"Outcome\"].value_counts()\n",
    "diabetes_total = diabetes_count.reset_index()\n",
    "\n",
    "color_pallete = sns.color_palette('pastel')\n",
    "plt.figure(figsize = (12,8))\n",
    "plt.pie(diabetes_total['count'], labels = diabetes_total['Outcome'],\n",
    "           autopct = \"%.2f%%\",\n",
    "           colors = color_pallete)\n",
    "plt.legend(['Does not have Diabetes', \"Has Diabetes\"])\n",
    "plt.title(\"Diabetes Pie Chart\")\n",
    "plt.show()"
   ]
  },
  {
   "cell_type": "code",
   "execution_count": 6,
   "id": "e082e9f3",
   "metadata": {},
   "outputs": [
    {
     "data": {
      "text/plain": [
       "<Axes: xlabel='BloodPressure', ylabel='Count'>"
      ]
     },
     "execution_count": 6,
     "metadata": {},
     "output_type": "execute_result"
    },
    {
     "data": {
      "image/png": "[encoded data removed]",
      "text/plain": [
       "<Figure size 640x480 with 1 Axes>"
      ]
     },
     "metadata": {},
     "output_type": "display_data"
    }
   ],
   "source": [
    "sns.histplot(pima_indians_diabetes_db['BloodPressure']) #display the different values of BloodPressure as a histogram"
   ]
  },
  {
   "cell_type": "markdown",
   "id": "5dcef5ee",
   "metadata": {},
   "source": [
    "#### There seems to be around ~38 people whose blood pressure is 0, which is not plausible"
   ]
  },
  {
   "cell_type": "code",
   "execution_count": 7,
   "id": "fd0d4d69",
   "metadata": {},
   "outputs": [],
   "source": [
    "#remove rows where blood pressure was 0\n",
    "plausible_blood_pressure = pima_indians_diabetes_db.loc[pima_indians_diabetes_db[\"BloodPressure\"] > 20, \"BloodPressure\"]"
   ]
  },
  {
   "cell_type": "code",
   "execution_count": 8,
   "id": "a06ea101",
   "metadata": {},
   "outputs": [
    {
     "data": {
      "text/plain": [
       "<Axes: xlabel='BloodPressure', ylabel='Count'>"
      ]
     },
     "execution_count": 8,
     "metadata": {},
     "output_type": "execute_result"
    },
    {
     "data": {
      "image/png": "[encoded data removed]",
      "text/plain": [
       "<Figure size 640x480 with 1 Axes>"
      ]
     },
     "metadata": {},
     "output_type": "display_data"
    }
   ],
   "source": [
    "#display the histogram of plausible blood pressures in the dataset\n",
    "sns.histplot(plausible_blood_pressure)"
   ]
  },
  {
   "cell_type": "code",
   "execution_count": 308,
   "id": "b87e0032",
   "metadata": {},
   "outputs": [],
   "source": [
    "#find average value of blood pressure for plausible values of the blood pressure\n",
    "average_blood_pressure = mean(plausible_blood_pressure)"
   ]
  },
  {
   "cell_type": "markdown",
   "id": "ce3393ee",
   "metadata": {},
   "source": [
    "## Class for calculating marginal, joint and conditioanl probabilities"
   ]
  },
  {
   "cell_type": "code",
   "execution_count": 309,
   "id": "3e4ee265",
   "metadata": {},
   "outputs": [],
   "source": [
    "class SeriesProbability:\n",
    "    \"\"\"\n",
    "    Class to calculate the marginal probability of given pandas.Series object type\n",
    "    \"\"\"\n",
    "    def __init__(self):\n",
    "        pass\n",
    "    def _marginal_prob(self, series, target):\n",
    "        \"\"\"\n",
    "        parameters:\n",
    "            series => pandas.Series type => This is the series which represent the dataset \n",
    "            target => int type => This is the value whose probability is calculated\n",
    "        for eg:\n",
    "            SeriesProbability._marginal_prob(pd.Series[1,1,1,2,2], 1)\n",
    "            the probability of 1 in the pd.Series[1,1,1,2,2] is returned, which is 3/5\n",
    "        returns:\n",
    "            the marginal probability of target in series\n",
    "        \"\"\"\n",
    "        try:\n",
    "            return round((series.value_counts()[target])/len(series), 4)\n",
    "        except:\n",
    "            raise KeyError(f\"{target} is not part of the given series\")"
   ]
  },
  {
   "cell_type": "code",
   "execution_count": 310,
   "id": "36ee09d3",
   "metadata": {},
   "outputs": [],
   "source": [
    "class DataFrameProbability(SeriesProbability):\n",
    "    def __init__(self, target_series, support_series):\n",
    "        \"\"\"\n",
    "        Class to calculate marginal, joint and conditional probability between two pandas.Series object\n",
    "        Parameters:\n",
    "            target_series (pd.Series) => the pandas series which contains the outcomes we are testing for.\n",
    "                                            For eg:Diabetes [0,1,0,1,1,1] here there are four 1s which means the outcome\n",
    "                                                            was positive for Diabestes four times out of six cases\n",
    "                                                                    \n",
    "            support_series (pd.Series) => the pandas series which contains the supporting attributes we want to test with.\n",
    "                                            For eg: Blood pressure [80, 130, 80, 50, 50, 50] here the 6 values for blood\n",
    "                                                            pressure correspond with the 6 values of Diabetes given by\n",
    "                                                            target_series\n",
    "        \"\"\"\n",
    "        super().__init__() # call the __init__ method of the parent class\n",
    "        self.target_series = target_series\n",
    "        self.support_series = support_series\n",
    "        \n",
    "        \n",
    "        \n",
    "    def _marginal_prob(self, series, target, conditional = None):\n",
    "        \"\"\"\n",
    "        this function is used to find the marginal probability of given value\n",
    "        parameters:\n",
    "            series (pandas.Series) => This is the series which represent the dataset \n",
    "            target (int type) => This is the value whose probability is calculated\n",
    "            conditional (str type) => Can be \">\", \"<\" or \"=\" to get the marginal probability of datae greater than, smaller\n",
    "                                        than or equal to given target\n",
    "                                        for eg:\n",
    "                                            self._marginal_prob(pd.Series[3,5,6,100,2,3,50], 6, '>')\n",
    "                                            returns the marginal probability of value being greater than 6 in the given\n",
    "                                            series.\n",
    "                                            In this case it would return 2/7 as there are two values 100 and 50 greater than \n",
    "                                            6\n",
    "        returns:\n",
    "            the marginal probability of target in series, according to given condition if any \n",
    "            \n",
    "        \"\"\"\n",
    "        if conditional == '>':\n",
    "            total = len(series)\n",
    "            greater_than = len(series[series > target])\n",
    "            return round(greater_than/total, 4) # round output\n",
    "        \n",
    "        elif conditional == '<':\n",
    "            total = len(series)\n",
    "            lesser_than = len(series[series < target])\n",
    "            return round(lesser_than/total, 4) # round output\n",
    "        elif conditional == '=':\n",
    "            total = len(series)\n",
    "            lesser_than = len(series[series == target])\n",
    "            return round(lesser_than/total, 4) # round output\n",
    "        else:\n",
    "            return round(super()._marginal_prob(series, target), 4)  # round output\n",
    "\n",
    "        \n",
    "        \n",
    "    def joint_prob(self, target_condition, support_target, support_condition = None):\n",
    "        \"\"\"\n",
    "        this function is used to find the joint probability between two values from two datasets\n",
    "        parameters:\n",
    "            target_condtition (int) => value of target data from the self.target_series\n",
    "            support_target (int) => value of support data from the self.support_series\n",
    "            support_condition (str) => \"<\", \">\" or \"=\" used to specify condition\n",
    "            \n",
    "            for eg:\n",
    "                self.joint_prob(0, 80, \"=\")\n",
    "                returns the joint probability of target outcome (diabetes) being 0 and the support value (bloodpressure)\n",
    "                being 80\n",
    "                \n",
    "                self.joint_prob(0, 80, \">\")\n",
    "                returns the joint probability of target outcome (diabetes) being 0 and the support value (bloodpressure)\n",
    "                being greater than 80\n",
    "        \"\"\"\n",
    "        #find the marginal prob of the support value\n",
    "        marginal_support = self._marginal_prob(self.support_series, support_target, support_condition )\n",
    "        #find the marginal prob of the target value\n",
    "        marginal_target = self._marginal_prob(self.target_series, target_condition)\n",
    "        \n",
    "        # joint prob(a, b) = marginal_prob(a) * marginal_prob(b)\n",
    "        return round(marginal_target * marginal_support, 4)\n",
    "    \n",
    "    \n",
    "    def conditional_prob_find_diabetes(self, target_condition, support_target, support_condition = None):\n",
    "        \"\"\"\n",
    "        This functions returns the conditional probability  of target_condition based on the given support_target\n",
    "        parameters:\n",
    "            target_condition (int) => either 0 or 1, specifies whether we want to find the conditional prob of 0 or 1 outcome\n",
    "            support_target (int) => the value of the support, against which we will find the condition\n",
    "            support_condition (str) => \"<\", \">\" or \"=\" used to specify condition\n",
    "            \n",
    "            for eg:\n",
    "                self.conditional_prob_find_diabetes(0,80,\">\")\n",
    "                returns the probability of target_condition (diabetes outcome) being 0 when the value of supporting\n",
    "                dataset (BloodPressure) is greater than 80\n",
    "                                \n",
    "                self.conditional_prob_find_diabetes(0,80,\"<\")\n",
    "                returns the probability of target_condition (diabetes outcome) being 0 when the value of supporting\n",
    "                dataset (BloodPressure) is less than 80\n",
    "        \"\"\"\n",
    "        #find joint prob of the given two values\n",
    "        joint = self.joint_prob(target_condition, support_target, support_condition)\n",
    "        #find the marginal prob of the supporting value\n",
    "        marginal_support = self._marginal_prob(self.support_series, support_target, support_condition)\n",
    "        # conditional_prob(a/b) = joint_prob(a,b)/marginal_prob(b)\n",
    "        return round(joint / marginal_support, 4)\n",
    "    \n",
    "    \n",
    "    def conditional_prob_find_blood_pressure(self, target_condition, support_target, support_condition = None):\n",
    "        \"\"\"\n",
    "        This functions returns the conditional probability  of support_target based on the given target_condition\n",
    "        parameters:\n",
    "            target_condition (int) => either 0 or 1, the value of the target, against which we will find the condition\n",
    "            support_target (int) => the value of the support, whose prob we will find based on the given condition\n",
    "            support_condition (str) => \"<\", \">\" or \"=\" used to specify condition\n",
    "            \n",
    "            for eg:\n",
    "                self.conditional_prob_find_diabetes(0,80,\">\")\n",
    "                returns the probability of suppport value (blood pressure) being greater than 80 when the value of\n",
    "                target dataset (diabetes outcome) is 0\n",
    "                                \n",
    "                self.conditional_prob_find_diabetes(0,80,\"<\")\n",
    "                returns the probability of suppport value (blood pressure) being lesser than 80 when the value of\n",
    "                target dataset (diabetes outcome) is 0\n",
    "        \"\"\"\n",
    "        #find joint prob of the given two values\n",
    "        joint = self.joint_prob(target_condition, support_target, support_condition)\n",
    "        #find the marginal prob of the supporting value\n",
    "        marginal_support = self._marginal_prob(self.target_series, target_condition)\n",
    "        # conditional_prob(a/b) = joint_prob(a,b)/marginal_prob(b)\n",
    "        return round(joint / marginal_support, 4)\n",
    "    \n"
   ]
  },
  {
   "cell_type": "markdown",
   "id": "788beea5",
   "metadata": {},
   "source": [
    "## Testing"
   ]
  },
  {
   "cell_type": "code",
   "execution_count": 311,
   "id": "d22d7a43",
   "metadata": {},
   "outputs": [
    {
     "name": "stdout",
     "output_type": "stream",
     "text": [
      "All tests passed!!!\n"
     ]
    }
   ],
   "source": [
    "test_outcome = pd.Series([0,1,1,0,1,0,0])\n",
    "test_support = pd.Series([100,200,90,40,70,100,20])\n",
    "\n",
    "test_code = DataFrameProbability(target_series=test_outcome, support_series=test_support)\n",
    "\n",
    "assert test_code._marginal_prob(series = test_code.target_series, target = 0) == 0.5714, \"Marginal Probability is incorrect\"\n",
    "assert test_code._marginal_prob(series = test_code.target_series, target = 1) == 1 - 0.5714, \"Marginal Probability is incorrect\"\n",
    "assert test_code.joint_prob(target_condition=0, support_target= 90, support_condition ='>') == 0.2449, \"Joint Probability is incorrect\"\n",
    "assert test_code.joint_prob(target_condition=1, support_target= 90, support_condition ='<') ==  0.1837, \"Joint Probability is incorrect\"\n",
    "assert test_code.conditional_prob_find_diabetes(target_condition=0, support_target= 70, support_condition='>') == 0.5714, \"Conditional Probability of determining diabetes is incorrect\"\n",
    "assert test.conditional_prob_find_blood_pressure(target_condition=1, support_target= 90, support_condition='<') == 0.4286, \"Conditional Probability of determing blood pressure is incorrect\"\n",
    "print(\"All tests passed!!!\")\n",
    "\n"
   ]
  },
  {
   "cell_type": "markdown",
   "id": "fe79180a",
   "metadata": {},
   "source": [
    "## Probability between blood pressure and diabetes outcome in pima indian database"
   ]
  },
  {
   "cell_type": "code",
   "execution_count": 312,
   "id": "9be48de7",
   "metadata": {},
   "outputs": [
    {
     "data": {
      "text/plain": [
       "'Outcome'"
      ]
     },
     "execution_count": 312,
     "metadata": {},
     "output_type": "execute_result"
    }
   ],
   "source": [
    "target_series = pima_indians_diabetes_db['Outcome']\n",
    "support_series = pima_indians_diabetes_db['BloodPressure']\n",
    "target_series.name"
   ]
  },
  {
   "cell_type": "code",
   "execution_count": 313,
   "id": "768ef8ba",
   "metadata": {},
   "outputs": [
    {
     "name": "stdout",
     "output_type": "stream",
     "text": [
      "0.5714 0.4286\n"
     ]
    }
   ],
   "source": [
    "probability_of_no_diabetes = test._marginal_prob(series = test.target_series, target = 0)\n",
    "probabiilty_of_yes_diabetes = test._marginal_prob(series = test.target_series, target = 1)\n",
    "print(probability_of_no_diabetes, probabiilty_of_yes_diabetes)\n",
    "\n",
    "def find_probabilities(target_series, support_series, support_target):\n",
    "    test = DataFrameProbability(target_series, support_series)\n",
    "    print(f'given value = {support_target}')\n",
    "    print(f\"\"\"The marginal, joint and conditional probabilites between {target_series.name} and {support_series.name}\n",
    "        for the given value of {support_series.name} being {support_target} are displayed below\"\"\")\n",
    "\n",
    "    print('\\n')\n",
    "    \n",
    "    print(\"Marginal Probabilities\")\n",
    "    print(f\"Marginal probability of {target_series.name} value, 0: {test._marginal_prob(series=test.target_series, target=0)}\")\n",
    "    print(f\"Marginal probability of {target_series.name} value, 1: {test._marginal_prob(series=test.target_series, target=1)}\")\n",
    "    print(f\"Marginal probability of {support_series.name} value, greater than {support_target}: {test._marginal_prob(series=test.support_series, target=support_target, conditional= '>')}\")\n",
    "    print(f\"Marginal probability of {support_series.name} value, lesser than {support_target}: {test._marginal_prob(series=test.support_series, target=support_target, conditional= '<')}\")\n",
    "    print(f\"Marginal probability of {support_series.name} value, equal {support_target}: {test._marginal_prob(series=test.support_series, target=support_target, conditional= '=')}\")\n",
    "    print(test.joint_prob(target_condition=0, support_target= support_target, support_condition ='<'))\n",
    "    \n",
    "    print('\\n')\n",
    "    \n",
    "    print(\"Joint Probabilities\")\n",
    "    print(f\"Joint Probabilites with diabetes 0 (no diabetes), greater than given value = {test.joint_prob(target_condition=0, support_target= support_target, support_condition ='>')}\")\n",
    "    print(f\"Joint Probabilites with diabetes 0 (no diabetes), equal to given value = {test.joint_prob(target_condition=0, support_target= support_target, support_condition ='=')}\")\n",
    "    print(f\"Joint Probabilites with diabetes 0 (no diabetes), less than given value = {test.joint_prob(target_condition=0, support_target= support_target, support_condition ='<')}\")\n",
    "    print(f\"Joint Probabilites with diabetes 1 (no diabetes), greater than given value = {test.joint_prob(target_condition=1, support_target= support_target, support_condition ='>')}\")\n",
    "    print(f\"Joint Probabilites with diabetes 1 (no diabetes), equal to given value = {test.joint_prob(target_condition=1, support_target= support_target, support_condition ='=')}\")\n",
    "    print(f\"Joint Probabilites with diabetes 1 (no diabetes), less than given value = {test.joint_prob(target_condition=1, support_target= support_target, support_condition ='<')}\")\n",
    "\n",
    "    print('\\n')\n",
    "    print(\"Conditional Probabilities\")\n",
    "    print(f\"Probability of not having diabetes given blood pressure is greater than given value = {test.conditional_prob_find_diabetes(target_condition=0, support_target= support_target, support_condition='>')}\")\n",
    "    print(f\"Probability of having diabetes given blood pressure is lesser than given value = {test.conditional_prob_find_diabetes(target_condition=1, support_target= support_target, support_condition='<')}\")\n",
    "    print(f\"Probability of not having diabetes given blood pressure is lesser than given value = {test.conditional_prob_find_diabetes(target_condition=0, support_target= support_target, support_condition='<')}\")\n",
    "    print(f\"Probability of having diabetes given blood pressure is greater than given value = {test.conditional_prob_find_diabetes(target_condition=1, support_target= support_target, support_condition='>')}\")\n",
    "    print(f\"Probability of blood pressure being higher than {support_target} when they dont have diabetes is given value = {test.conditional_prob_find_blood_pressure(target_condition=0, support_target= support_target, support_condition='>')}\")\n",
    "    print(f\"Probability of blood pressure being lesser than {support_target} when they dont have diabetes is given value = {test.conditional_prob_find_blood_pressure(target_condition=0, support_target= support_target, support_condition='<')}\")\n",
    "    print(f\"Probability of blood pressure being higher than {support_target} when they have diabetes is given value = {test.conditional_prob_find_blood_pressure(target_condition=1, support_target= support_target, support_condition='>')}\")\n",
    "    print(f\"Probability of blood pressure being lesser than {support_target} when they have diabetes is given value = {test.conditional_prob_find_blood_pressure(target_condition=1, support_target= support_target, support_condition='<')}\")"
   ]
  },
  {
   "cell_type": "code",
   "execution_count": 314,
   "id": "432be80f",
   "metadata": {},
   "outputs": [
    {
     "name": "stdout",
     "output_type": "stream",
     "text": [
      "given value = 72.40518417462484\n",
      "The marginal, joint and conditional probabilites between Outcome and BloodPressure\n",
      "        for the given value of BloodPressure being 72.40518417462484 are displayed below\n",
      "\n",
      "\n",
      "Marginal Probabilities\n",
      "Marginal probability of Outcome value, 0: 0.651\n",
      "Marginal probability of Outcome value, 1: 0.349\n",
      "Marginal probability of BloodPressure value, greater than 72.40518417462484: 0.4544\n",
      "Marginal probability of BloodPressure value, lesser than 72.40518417462484: 0.5456\n",
      "Marginal probability of BloodPressure value, equal 72.40518417462484: 0.0\n",
      "0.3552\n",
      "\n",
      "\n",
      "Joint Probabilities\n",
      "Joint Probabilites with diabetes 0 (no diabetes), greater than given value = 0.2958\n",
      "Joint Probabilites with diabetes 0 (no diabetes), equal to given value = 0.0\n",
      "Joint Probabilites with diabetes 0 (no diabetes), less than given value = 0.3552\n",
      "Joint Probabilites with diabetes 1 (no diabetes), greater than given value = 0.1586\n",
      "Joint Probabilites with diabetes 1 (no diabetes), equal to given value = 0.0\n",
      "Joint Probabilites with diabetes 1 (no diabetes), less than given value = 0.1904\n",
      "\n",
      "\n",
      "Conditional Probabilities\n",
      "Probability of not having diabetes given blood pressure is greater than given value = 0.651\n",
      "Probability of having diabetes given blood pressure is lesser than given value = 0.349\n",
      "Probability of not having diabetes given blood pressure is lesser than given value = 0.651\n",
      "Probability of having diabetes given blood pressure is greater than given value = 0.349\n",
      "Probability of blood pressure being higher than 72.40518417462484 when they dont have diabetes is given value = 0.4544\n",
      "Probability of blood pressure being lesser than 72.40518417462484 when they dont have diabetes is given value = 0.5456\n",
      "Probability of blood pressure being higher than 72.40518417462484 when they have diabetes is given value = 0.4544\n",
      "Probability of blood pressure being lesser than 72.40518417462484 when they have diabetes is given value = 0.5456\n"
     ]
    }
   ],
   "source": [
    "find_probabilities(target_series, support_series, average_blood_pressure)"
   ]
  },
  {
   "cell_type": "code",
   "execution_count": null,
   "id": "64b21589",
   "metadata": {},
   "outputs": [],
   "source": []
  }
 ],
 "metadata": {
  "kernelspec": {
   "display_name": "Python 3 (ipykernel)",
   "language": "python",
   "name": "python3"
  },
  "language_info": {
   "codemirror_mode": {
    "name": "ipython",
    "version": 3
   },
   "file_extension": ".py",
   "mimetype": "text/x-python",
   "name": "python",
   "nbconvert_exporter": "python",
   "pygments_lexer": "ipython3",
   "version": "3.9.0"
  }
 },
 "nbformat": 4,
 "nbformat_minor": 5
}
