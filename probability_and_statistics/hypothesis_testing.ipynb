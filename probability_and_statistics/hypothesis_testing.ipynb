{
 "cells": [
  {
   "cell_type": "markdown",
   "id": "a0aac896",
   "metadata": {},
   "source": [
    "# Hypothesis Testing"
   ]
  },
  {
   "cell_type": "code",
   "execution_count": 1,
   "id": "e7d39444",
   "metadata": {},
   "outputs": [],
   "source": [
    "%matplotlib inline\n",
    "import pandas as pd\n",
    "import numpy as np\n",
    "import math\n",
    "import scipy.stats as stats\n",
    "import matplotlib.pyplot as plt\n",
    "import statsmodels.api as sm"
   ]
  },
  {
   "cell_type": "code",
   "execution_count": 2,
   "id": "dc347f1e",
   "metadata": {},
   "outputs": [],
   "source": [
    "pima_indians_diabetes_db = pd.read_csv(\"diabetes.csv\")"
   ]
  },
  {
   "cell_type": "code",
   "execution_count": 125,
   "id": "2dc464fb",
   "metadata": {},
   "outputs": [
    {
     "data": {
      "image/png": "[encoded data removed]",
      "text/plain": [
       "<Figure size 640x480 with 1 Axes>"
      ]
     },
     "metadata": {},
     "output_type": "display_data"
    }
   ],
   "source": [
    "plt.hist(blood_pressure_series, bins = 30, alpha = 0.7, edgecolor = 'black')\n",
    "plt.show()"
   ]
  },
  {
   "cell_type": "code",
   "execution_count": 131,
   "id": "8e3fc241",
   "metadata": {},
   "outputs": [
    {
     "name": "stdout",
     "output_type": "stream",
     "text": [
      "\n",
      "    Actual Population mean = 69.10546875.\n",
      "    We shall now test whether hypothesis testing outputs plausible\n",
      "    results according to the actual population mean\n",
      "    \n"
     ]
    }
   ],
   "source": [
    "blood_pressure_series = pima_indians_diabetes_db['BloodPressure']\n",
    "population_mean = blood_pressure_series.mean()\n",
    "population_std = blood_pressure_series.std()\n",
    "print(f\"\"\"\n",
    "    Actual Population mean = {population_mean}.\n",
    "    We shall now test whether hypothesis testing outputs plausible\n",
    "    results according to the actual population mean\n",
    "    \"\"\")\n",
    "#generate a random sample from the population of size 50\n",
    "dataset = blood_pressure_series.sample(n = 50, replace = True) # sample size = 50\n"
   ]
  },
  {
   "cell_type": "code",
   "execution_count": 126,
   "id": "ca16688d",
   "metadata": {},
   "outputs": [],
   "source": [
    "def z_hypothesis_test(dataset, significance_level, population_mean, population_std, test_type = 'two'):\n",
    "    \"\"\"\n",
    "    Function to perform hypothesis test using z-values.\n",
    "    Parameters:\n",
    "        dataset (pandas.Series) -> sampled dataset of the total population\n",
    "        siginificance_level (int) -> probability of type 1 error\n",
    "        population_mean (int) -> the mean of the total population\n",
    "        population_std (int) -> the standard deviation of the total population\n",
    "        test_type (str) -> the kind of hypothesis test you want to perform, two tailed or one-tailed specified by\n",
    "                            'two' to perform two test\n",
    "                            'one_left' to perform one tailed test for lesser value\n",
    "                            'one_right' to perform one tailed test for greater value\n",
    "    Returns:\n",
    "        prints the result of whether the null hypothesis is accepted or rejected\n",
    "    \"\"\"\n",
    "    dataset_mean = dataset.mean()\n",
    "    if test_type == 'two':\n",
    "        print(f'''The sampled dataset mean = {dataset_mean}\\n\n",
    "        Null Hypothesis (H0): The population mean == The sample mean ({dataset_mean})\\n\n",
    "        Alternate Hypothesis (H1): The population mean != The sample mean({dataset_mean})\n",
    "        ''')\n",
    "        z_critical = abs(stats.norm.ppf(significance_level/2))\n",
    "        z_statistics = (dataset.mean() - population_mean) / (population_std/math.sqrt(len(dataset)))\n",
    "        print(f\"Value of Z critical: {z_critical}\\nCalculated Z value: {z_statistics}\")\n",
    "        if z_statistics > z_critical or z_statistics < -z_critical:\n",
    "            print(\"Reject Null Hypothesis\")\n",
    "        else:\n",
    "            print(\"Accept Null Hypothesis\")\n",
    "    elif test_type == 'one_left':\n",
    "        print(f'''The sampled dataset mean = {dataset.mean()}\\n\n",
    "        Null Hypothesis (H0): The population mean == The sample mean ({dataset_mean})\\n\n",
    "        Alternate Hypothesis (H1): The population mean < The sample mean({dataset_mean})\n",
    "        ''')\n",
    "        z_critical = abs(stats.norm.ppf(significance_level))\n",
    "        z_statistics = (dataset.mean() - population_mean) / (population_std/math.sqrt(len(dataset)))\n",
    "        print(f\"Value of Z critical: {z_critical}\\nCalculated Z value: {z_statistics}\")\n",
    "        if z_statistics < -z_critical:\n",
    "            print(\"Reject Null Hypothesis\")\n",
    "        else:\n",
    "            print(\"Accept Null Hypothesis\")\n",
    "    elif test_type == 'one_right':\n",
    "        print(f'''The sampled dataset mean = {dataset_mean}\\n\n",
    "        Null Hypothesis (H0): The population mean == The sample mean ({dataset_mean})\\n\n",
    "        Alternate Hypothesis (H1): The population mean > The sample mean({dataset_mean})\n",
    "        ''')\n",
    "        z_critical = abs(stats.norm.ppf(significance_level))\n",
    "        z_statistics = (dataset.mean() - population_mean) / (population_std/math.sqrt(len(dataset)))\n",
    "        print(f\"Value of Z critical: {z_critical}\\nCalculated Z value: {z_statistics}\")\n",
    "        if z_statistics > z_critical:\n",
    "            print(\"Reject Null Hypothesis\")\n",
    "        else:\n",
    "            print(\"Accept Null Hypothesis\")\n",
    "    else:\n",
    "        raise Exception(\"Unknown test_type. Pick 'two', 'one_left' or 'one_right'\")"
   ]
  },
  {
   "cell_type": "code",
   "execution_count": 128,
   "id": "bdfdb3e3",
   "metadata": {},
   "outputs": [
    {
     "name": "stdout",
     "output_type": "stream",
     "text": [
      "The sampled dataset mean = 67.58\n",
      "\n",
      "        Null Hypothesis (H0): The population mean == The sample mean (67.58)\n",
      "\n",
      "        Alternate Hypothesis (H1): The population mean < The sample mean(67.58)\n",
      "        \n",
      "Value of Z critical: 1.6448536269514729\n",
      "Calculated Z value: -0.5572845855010835\n",
      "Accept Null Hypothesis\n"
     ]
    }
   ],
   "source": [
    "z_hypothesis_test(dataset=dataset, significance_level=0.05, population_mean=population_mean,\n",
    "                 population_std = population_std, test_type='one_left')"
   ]
  },
  {
   "cell_type": "code",
   "execution_count": 120,
   "id": "be73fee3",
   "metadata": {},
   "outputs": [],
   "source": [
    "def t_hypothesis_test(dataset, significance_level, population_mean, population_std, test_type = 'two'):\n",
    "    \"\"\"\n",
    "    Function to perform hypothesis test using z-values.\n",
    "    Parameters:\n",
    "        dataset (pandas.Series) -> sampled dataset of the total population\n",
    "        siginificance_level (int) -> probability of type 1 error\n",
    "        population_mean (int) -> the mean of the total population\n",
    "        population_std (int) -> the standard deviation of the total population\n",
    "        test_type (str) -> the kind of hypothesis test you want to perform, two tailed or one-tailed specified by\n",
    "                            'two' to perform two test\n",
    "                            'one_left' to perform one tailed test for lesser value\n",
    "                            'one_right' to perform one tailed test for greater value\n",
    "    Returns:\n",
    "        prints the result of whether the null hypothesis is accepted or rejected\n",
    "    \"\"\"\n",
    "    if test_type == 'two':\n",
    "        print(f'''The sampled dataset mean = {dataset_mean}\\n\n",
    "        Null Hypothesis (H0): The population mean == The sample mean ({dataset_mean})\\n\n",
    "        Alternate Hypothesis (H1): The population mean != The sample mean({dataset_mean})\n",
    "        ''')\n",
    "        sample_std = 0\n",
    "        s = 0\n",
    "        for i in dataset:\n",
    "            s += (i-dataset_mean)**2\n",
    "        sample_std = math.sqrt(s/(len(dataset) - 1)) # n-1 is used while calculating standard deviation for sample to account for the variance of the data\n",
    "        t_statistics = (dataset_mean - population_mean) / (sample_std / math.sqrt(len(dataset)))\n",
    "        t_critical = abs(stats.t.ppf(q=significance_level/2,df=len(dataset) - 1)) # q = significance_level / 2 because it is a two-tailed test\n",
    "        print(f\"Value of t critical: {t_critical}\\nCalculated t value: {t_statistics}\")\n",
    "        if t_statistics > t_critical or t_statistics < -t_critical:\n",
    "            print(\"Reject Null Hypothesis\")\n",
    "        else:\n",
    "            print(\"Accept Null Hypothesis\")\n",
    "    elif test_type == 'one_left':\n",
    "        print(f'''The sampled dataset mean = {dataset_mean}\\n\n",
    "        Null Hypothesis (H0): The population mean == The sample mean ({dataset_mean})\\n\n",
    "        Alternate Hypothesis (H1): The population mean < The sample mean({dataset_mean})\n",
    "        ''')\n",
    "        sample_std = 0\n",
    "        s = 0\n",
    "        for i in dataset:\n",
    "            s += (i-dataset_mean)**2\n",
    "        sample_std = math.sqrt(s/(len(dataset) - 1)) # n-1 is used while calculating standard deviation for sample to account for the variance of the data\n",
    "        t_statistics = (dataset_mean - population_mean) / (sample_std / math.sqrt(len(dataset)))\n",
    "        t_critical = abs(stats.t.ppf(q=significance_level, df=len(dataset) - 1))  # q = significance_level / 2 because it is a two-tailed test\n",
    "        print(f\"Value of t critical: {t_critical}\\nCalculated t value: {t_statistics}\")\n",
    "        if z_statistics < -z_critical:\n",
    "            print(\"Reject Null Hypothesis\")\n",
    "        else:\n",
    "            print(\"Accept Null Hypothesis\")\n",
    "    elif test_type == 'one_right':\n",
    "        print(f'''The sampled dataset mean = {dataset_mean}\\n\n",
    "        Null Hypothesis (H0): The population mean == The sample mean ({dataset_mean})\\n\n",
    "        Alternate Hypothesis (H1): The population mean > The sample mean({dataset_mean})\n",
    "        ''')\n",
    "        sample_std = 0\n",
    "        s = 0\n",
    "        for i in dataset:\n",
    "            s += (i-dataset_mean)**2\n",
    "        sample_std = math.sqrt(s/(len(dataset) - 1)) # n-1 is used while calculating standard deviation for sample to account for the variance of the data\n",
    "        t_statistics = (dataset_mean - population_mean) / (sample_std / math.sqrt(len(dataset)))\n",
    "        t_critical = abs(stats.t.ppf(q=significance_level, df=len(dataset) - 1))  # q = significance_level / 2 because it is a two-tailed test\n",
    "        print(f\"Value of t critical: {t_critical}\\nCalculated t value: {t_statistics}\")\n",
    "        if z_statistics < -z_critical:\n",
    "            print(\"Reject Null Hypothesis\")\n",
    "        else:\n",
    "            print(\"Accept Null Hypothesis\")\n",
    "    else:\n",
    "        raise Exception(\"Unknown test_type. Pick 'two', 'one_left' or 'one_right'\")"
   ]
  },
  {
   "cell_type": "code",
   "execution_count": 121,
   "id": "ecc56c92",
   "metadata": {},
   "outputs": [
    {
     "name": "stdout",
     "output_type": "stream",
     "text": [
      "The sampled dataset mean = 72.44\n",
      "\n",
      "        Null Hypothesis (H0): The population mean == The sample mean (72.44)\n",
      "\n",
      "        Alternate Hypothesis (H1): The population mean > The sample mean(72.44)\n",
      "        \n",
      "Value of t critical: 1.6765508919142635\n",
      "Calculated t value: 1.076371857857165\n",
      "Accept Null Hypothesis\n"
     ]
    }
   ],
   "source": [
    "t_hypothesis_test(dataset=dataset, significance_level=0.05, population_mean=population_mean,\n",
    "                 population_std = population_std, test_type='one_right')"
   ]
  },
  {
   "cell_type": "code",
   "execution_count": null,
   "id": "5adea1e6",
   "metadata": {},
   "outputs": [],
   "source": []
  }
 ],
 "metadata": {
  "kernelspec": {
   "display_name": "Python 3 (ipykernel)",
   "language": "python",
   "name": "python3"
  },
  "language_info": {
   "codemirror_mode": {
    "name": "ipython",
    "version": 3
   },
   "file_extension": ".py",
   "mimetype": "text/x-python",
   "name": "python",
   "nbconvert_exporter": "python",
   "pygments_lexer": "ipython3",
   "version": "3.9.0"
  }
 },
 "nbformat": 4,
 "nbformat_minor": 5
}
