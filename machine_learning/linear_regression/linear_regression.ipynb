{
 "cells": [
  {
   "cell_type": "markdown",
   "id": "f8572afa",
   "metadata": {},
   "source": [
    "# Linear Regression"
   ]
  },
  {
   "cell_type": "code",
   "execution_count": 72,
   "id": "dddf0248",
   "metadata": {},
   "outputs": [],
   "source": [
    "import numpy as np\n",
    "import pandas as pd\n",
    "from sklearn.model_selection import train_test_split\n",
    "from sklearn.datasets import load_diabetes\n",
    "from sklearn.preprocessing import StandardScaler\n",
    "import matplotlib.pyplot as plt\n",
    "import seaborn as sns"
   ]
  },
  {
   "cell_type": "markdown",
   "id": "8f8cfdf3",
   "metadata": {},
   "source": [
    "## Linear Regression Using Ordinary Least Squares"
   ]
  },
  {
   "cell_type": "code",
   "execution_count": 2,
   "id": "b2ef25b4",
   "metadata": {},
   "outputs": [],
   "source": [
    "class OrdinaryLeastSquaresRegression:\n",
    "    \"\"\"\n",
    "    Ordinary Least Squares Regression model.\n",
    "    \n",
    "    Parameters:\n",
    "    - intercept: bool, default=False\n",
    "        Whether to include an intercept term in the model.\n",
    "    \n",
    "    Attributes:\n",
    "    - r_square: float or None\n",
    "        Coefficient of determination (R^2) of the prediction.\n",
    "    - adj_r_square: float or None\n",
    "        Adjusted R^2 value of the prediction.\n",
    "    - coeff>: numpy.ndarray\n",
    "        Coefficeints of regression model.\n",
    "    - bias_: numpy.ndarray\n",
    "        bias of the regression model.\n",
    "    - independent_variables: int or None\n",
    "        Number of independent variables (features) in the model.\n",
    "    \"\"\"\n",
    "    \n",
    "    def __init__(self, intercept=False):\n",
    "        \"\"\"\n",
    "        Initialize the OrdinaryLeastSquaresRegression object.\n",
    "        \n",
    "        Parameters:\n",
    "        - intercept: bool, default=False\n",
    "            Whether to include an intercept term in the model.\n",
    "        \"\"\"\n",
    "        self.r_square = None\n",
    "        self.adj_r_square = None\n",
    "        self.coeff_ = None\n",
    "        self.bias_ = None\n",
    "        self.intercept = intercept\n",
    "        self.independent_variables = None\n",
    "        self.theta_ = None\n",
    "    \n",
    "    def fit(self, X, y):\n",
    "        \"\"\"\n",
    "        Fit the regression model to the training data.\n",
    "        \n",
    "        Parameters:\n",
    "        - X: numpy.ndarray\n",
    "            Features (independent variables) of the training data.\n",
    "        - y: numpy.ndarray\n",
    "            Target variable (dependent variable) of the training data.\n",
    "        \n",
    "        Raises:\n",
    "        - ValueError: If the number of rows in X and y are not equal.\n",
    "        \"\"\"\n",
    "        if len(X) != len(y):\n",
    "            raise ValueError(\"Features and Target value should have the same number of rows\")\n",
    "        \n",
    "        # Include intercept term if specified\n",
    "        if self.intercept:\n",
    "            X = np.hstack((X, np.ones((X.shape[0], 1))))\n",
    "        \n",
    "        # Calculate coefficients using the normal equation\n",
    "        theta = np.dot(np.linalg.inv(np.dot(X.T, X)), np.dot(X.T, y))\n",
    "        \n",
    "        self.theta_ = theta\n",
    "        # Separate coefficients and bias\n",
    "        self.coeff_ = theta[:-1]\n",
    "        self.bias_ = theta[-1]\n",
    "        self.independent_variables = len(X.T)\n",
    "        \n",
    "    def predict(self, X):\n",
    "        \"\"\"\n",
    "        Make predictions using the fitted model.\n",
    "        \n",
    "        Parameters:\n",
    "        - X: numpy.ndarray\n",
    "            Features (independent variables) of the data to predict.\n",
    "        \n",
    "        Returns:\n",
    "        - numpy.ndarray\n",
    "            Predicted target variable values.\n",
    "        \"\"\"\n",
    "        # Include intercept term if specified\n",
    "        if self.intercept:\n",
    "            X = np.hstack((X, np.ones((X.shape[0], 1))))\n",
    "        \n",
    "        # Make predictions\n",
    "        return np.dot(X, self.theta_)\n",
    "    \n",
    "    def r_squared(self, y_test, y_pred):\n",
    "        \"\"\"\n",
    "        Calculate the coefficient of determination (R^2).\n",
    "        \n",
    "        Parameters:\n",
    "        - y_test: numpy.ndarray\n",
    "            Actual target variable values.\n",
    "        - y_pred: numpy.ndarray\n",
    "            Predicted target variable values.\n",
    "        \n",
    "        Raises:\n",
    "        - ValueError: If the number of rows in y_test and y_pred are not equal.\n",
    "        \"\"\"\n",
    "        if len(X) != len(y):\n",
    "            raise ValueError(\"Prediction and actual results should have the same number of rows\")\n",
    "        \n",
    "        # Calculate R^2\n",
    "        self.r_square = np.sum((y_pred - y_test.mean())**2) / np.sum(((y_pred - y_test.mean())**2) + ((y_pred - y_test)**2))\n",
    "    \n",
    "    def adjusted_r_square(self, y_test, y_pred):\n",
    "        \"\"\"\n",
    "        Calculate the adjusted R^2 value.\n",
    "        \n",
    "        Parameters:\n",
    "        - y_test: numpy.ndarray\n",
    "            Actual target variable values.\n",
    "        - y_pred: numpy.ndarray\n",
    "            Predicted target variable values.\n",
    "        \n",
    "        Raises:\n",
    "        - ValueError: If the number of rows in y_test and y_pred are not equal.\n",
    "        \"\"\"\n",
    "        if len(X) != len(y):\n",
    "            raise ValueError(\"Prediction and actual results should have the same number of rows\")\n",
    "        \n",
    "        # Calculate R^2 and adjust it\n",
    "        self.r_squared(y_test=y_test, y_pred=y_pred)\n",
    "        n = len(y_test)\n",
    "        self.adj_r_square = 1 - (1-self.r_square) * ((n - 1)/(n - self.independent_variables - 1))\n"
   ]
  },
  {
   "cell_type": "markdown",
   "id": "e3e43dcd",
   "metadata": {},
   "source": [
    "## Linear Regression Using Gradient Descent"
   ]
  },
  {
   "cell_type": "code",
   "execution_count": 27,
   "id": "9588ccd2",
   "metadata": {},
   "outputs": [],
   "source": [
    "class GradientDescentLinearRegression():\n",
    "    \"\"\"\n",
    "    Gradient Descent Linear Regression model.\n",
    "    \n",
    "    Attributes:\n",
    "    - coeff_: numpy.ndarray\n",
    "        Coefficients of the linear regression model.\n",
    "    - bias_: numpy.ndarray\n",
    "        Bias term of the linear regression model.\n",
    "    - theta_: numpy.ndarray\n",
    "        Parameters (coefficients and bias) of the linear regression model.\n",
    "    - cost: float or None\n",
    "        Final cost (mean squared error) after gradient descent optimization.\n",
    "    \"\"\"\n",
    "    \n",
    "    def __init__(self):\n",
    "        \"\"\"\n",
    "        Initialize the GradientDescentLinearRegression object.\n",
    "        \"\"\"\n",
    "        self.coeff_ = None\n",
    "        self.bias_ = None\n",
    "        self.theta_ = None\n",
    "        self.cost = None\n",
    "    \n",
    "    def predict(self, X):\n",
    "        \"\"\"\n",
    "        Predict target variable values using the fitted model.\n",
    "        \n",
    "        Parameters:\n",
    "        - X: numpy.ndarray\n",
    "            Features (independent variables) of the data to predict.\n",
    "        \n",
    "        Returns:\n",
    "        - numpy.ndarray\n",
    "            Predicted target variable values.\n",
    "        \n",
    "        Raises:\n",
    "        - TypeError: If the model has not been trained yet.\n",
    "        \"\"\"\n",
    "        if self.theta_ is None or len(self.theta_) == 0:\n",
    "            raise TypeError(\"First use gradient descent function to estimate values for regression\")\n",
    "        X = np.hstack((X, np.ones((X.shape[0], 1))))\n",
    "        return X @ self.theta_\n",
    "    \n",
    "    def mse_(self, y_pred, y):\n",
    "        \"\"\"\n",
    "        Compute the mean squared error (cost) between predicted and actual values.\n",
    "        \n",
    "        Parameters:\n",
    "        - y_pred: numpy.ndarray\n",
    "            Predicted target variable values.\n",
    "        - y: numpy.ndarray\n",
    "            Actual target variable values.\n",
    "        \n",
    "        Returns:\n",
    "        - float\n",
    "            Mean squared error (cost).\n",
    "        \n",
    "        Raises:\n",
    "        - ValueError: If the number of instances for predicted and actual values are not the same.\n",
    "        \"\"\"\n",
    "        if len(y_pred) != len(y):\n",
    "            raise ValueError(\"Number of instances for predicted values and actual values should be the same\")\n",
    "        return  np.mean((y - y_pred)**2)\n",
    "    \n",
    "    def gradient_descent(self, X, y, iterations=1000, stopping_threshold=1e-6, learning_rate=0.0001):\n",
    "        \"\"\"\n",
    "        Perform gradient descent optimization to train the linear regression model.\n",
    "        \n",
    "        Parameters:\n",
    "        - X: numpy.ndarray\n",
    "            Features (independent variables) of the training data.\n",
    "        - y: numpy.ndarray\n",
    "            Target variable (dependent variable) of the training data.\n",
    "        - iterations: int, default=10000\n",
    "            Maximum number of iterations for gradient descent.\n",
    "        - stopping_threshold: float, default=1e-6\n",
    "            Threshold to stop iterations if the change in cost is below this value.\n",
    "        - learning_rate: float, default=0.0001\n",
    "            Learning rate (step size) for gradient descent.\n",
    "        \"\"\"\n",
    "        X = np.hstack((X, np.ones((X.shape[0], 1))))\n",
    "        self.theta_ = np.random.rand(X.shape[1], 1)\n",
    "        prev_cost = float('inf')  # Initialize previous cost with a large value\n",
    "        for i in range(iterations):\n",
    "            y_pred = X @ self.theta_\n",
    "            loss = y_pred - y\n",
    "            cost = self.mse_(y_pred=y_pred, y=y) \n",
    "            self.theta_ = self.theta_ - learning_rate * (X.T @ loss)\n",
    "            if abs(prev_cost - cost) < stopping_threshold:  # Check change in cost\n",
    "                break\n",
    "            prev_cost = cost  # Update previous cost\n",
    "        self.cost = cost\n",
    "        self.bias_ = self.theta_[-1]\n",
    "        self.coeff_ = self.theta_[:-1]\n",
    "        self.independent_variables = len(X.T)\n",
    "        \n",
    "        \n",
    "        \n",
    "    def r_squared(self, y_test, y_pred):\n",
    "        \"\"\"\n",
    "        Calculate the coefficient of determination (R^2).\n",
    "        \n",
    "        Parameters:\n",
    "        - y_test: numpy.ndarray\n",
    "            Actual target variable values.\n",
    "        - y_pred: numpy.ndarray\n",
    "            Predicted target variable values.\n",
    "        \n",
    "        Raises:\n",
    "        - ValueError: If the number of rows in y_test and y_pred are not equal.\n",
    "        \"\"\"\n",
    "        if len(X) != len(y):\n",
    "            raise ValueError(\"Prediction and actual results should have the same number of rows\")\n",
    "        \n",
    "        # Calculate R^2\n",
    "        self.r_square = np.sum((y_pred - y_test.mean())**2) / np.sum(((y_pred - y_test.mean())**2) + ((y_pred - y_test)**2))\n",
    "    \n",
    "    def adjusted_r_square(self, y_test, y_pred):\n",
    "        \"\"\"\n",
    "        Calculate the adjusted R^2 value.\n",
    "        \n",
    "        Parameters:\n",
    "        - y_test: numpy.ndarray\n",
    "            Actual target variable values.\n",
    "        - y_pred: numpy.ndarray\n",
    "            Predicted target variable values.\n",
    "        \n",
    "        Raises:\n",
    "        - ValueError: If the number of rows in y_test and y_pred are not equal.\n",
    "        \"\"\"\n",
    "        if len(X) != len(y):\n",
    "            raise ValueError(\"Prediction and actual results should have the same number of rows\")\n",
    "        \n",
    "        # Calculate R^2 and adjust it\n",
    "        self.r_squared(y_test=y_test, y_pred=y_pred)\n",
    "        n = len(y_test)\n",
    "        self.adj_r_square = 1 - (1-self.r_square) * ((n - 1)/(n - self.independent_variables - 1))\n"
   ]
  },
  {
   "cell_type": "markdown",
   "id": "94cc6e14",
   "metadata": {},
   "source": [
    "## Testing OLS and Gradient Descent performance"
   ]
  },
  {
   "cell_type": "code",
   "execution_count": 21,
   "id": "3e3c3a62",
   "metadata": {},
   "outputs": [],
   "source": [
    "diabetes = load_diabetes()\n",
    "X, y = diabetes.data, diabetes.target"
   ]
  },
  {
   "cell_type": "code",
   "execution_count": 22,
   "id": "a4f2dcb6",
   "metadata": {},
   "outputs": [],
   "source": [
    "X_train, X_test, y_train, y_test = train_test_split(X, y, test_size = 0.2, random_state = 42)"
   ]
  },
  {
   "cell_type": "code",
   "execution_count": 23,
   "id": "80f72f2a",
   "metadata": {},
   "outputs": [
    {
     "name": "stdout",
     "output_type": "stream",
     "text": [
      "Bias value using OLS: 151.34560453985998\n",
      "\n",
      "\n",
      "Coefficients using OLS: [  37.90402135 -241.96436231  542.42875852  347.70384391 -931.48884588\n",
      "  518.06227698  163.41998299  275.31790158  736.1988589    48.67065743]\n",
      "\n",
      "\n",
      "r square value: 0.5030394093180369\n",
      "Adjusted r square value: 0.43204503922061366\n"
     ]
    }
   ],
   "source": [
    "check_ols = OrdinaryLeastSquaresRegression(intercept = True)\n",
    "check_ols.fit(X_train, y_train)\n",
    "print(f\"Bias value using OLS: {check_ols.bias_}\")\n",
    "print('\\n')\n",
    "print(f\"Coefficients using OLS: {check_ols.coeff_}\")\n",
    "print('\\n')\n",
    "y_pred = check_ols.predict(X_test)\n",
    "check_ols.adjusted_r_square(y_pred=y_pred, y_test=y_test)\n",
    "check_ols.r_squared(y_pred = y_pred, y_test = y_test)\n",
    "print(f\"r square value: {check_ols.r_square}\")\n",
    "print(f\"Adjusted r square value: {check_ols.adj_r_square}\")\n"
   ]
  },
  {
   "cell_type": "code",
   "execution_count": 7,
   "id": "be52c5f5",
   "metadata": {},
   "outputs": [
    {
     "data": {
      "text/plain": [
       "(11,)"
      ]
     },
     "execution_count": 7,
     "metadata": {},
     "output_type": "execute_result"
    }
   ],
   "source": [
    "check_ols.theta_.shape"
   ]
  },
  {
   "cell_type": "code",
   "execution_count": 8,
   "id": "32d22ac5",
   "metadata": {},
   "outputs": [
    {
     "name": "stdout",
     "output_type": "stream",
     "text": [
      "Bias value using sklearn LinearRegression: 151.34560453985995\n",
      "\n",
      "\n",
      "Coefficient values using sklearn LinearRegression: [  37.90402135 -241.96436231  542.42875852  347.70384391 -931.48884588\n",
      "  518.06227698  163.41998299  275.31790158  736.1988589    48.67065743]\n",
      "\n",
      "\n",
      "R square values using sklearn LinearRegression: 0.4526027629719195\n"
     ]
    }
   ],
   "source": [
    "# comparing OrdinaryLeastSquares class with the LinearRegression class of sklearn\n",
    "from sklearn.linear_model import LinearRegression\n",
    "\n",
    "test_OLS = LinearRegression(fit_intercept= True)\n",
    "test_OLS.fit(X_train, y_train)\n",
    "print(f'Bias value using sklearn LinearRegression: {test_OLS.intercept_}')\n",
    "print('\\n')\n",
    "print(f'Coefficient values using sklearn LinearRegression: {test_OLS.coef_}')\n",
    "print('\\n')\n",
    "test_OLS.coef_\n",
    "print(f'R square values using sklearn LinearRegression: {test_OLS.score(X_test, y_test)}')"
   ]
  },
  {
   "cell_type": "code",
   "execution_count": 16,
   "id": "7752106c",
   "metadata": {},
   "outputs": [],
   "source": [
    "train_standard = StandardScaler()\n",
    "train_standard.fit(X_train)\n",
    "X_train_standard = train_standard.transform(X_train)"
   ]
  },
  {
   "cell_type": "code",
   "execution_count": 24,
   "id": "4ebf5ba0",
   "metadata": {},
   "outputs": [],
   "source": [
    "check_gradient_descent = GradientDescentLinearRegression()\n",
    "check_gradient_descent.gradient_descent(X_train_standard, y_train[:,np.newaxis])"
   ]
  },
  {
   "cell_type": "code",
   "execution_count": 25,
   "id": "18e2dc39",
   "metadata": {
    "scrolled": false
   },
   "outputs": [
    {
     "name": "stdout",
     "output_type": "stream",
     "text": [
      "Bias value using Gradient Descent: [149.52441564]\n",
      "\n",
      "\n",
      "Coefficients using Gradient Descent: [[  1.86743476]\n",
      " [-10.92683171]\n",
      " [ 25.73269267]\n",
      " [ 16.23023369]\n",
      " [ -4.79118379]\n",
      " [ -5.77797081]\n",
      " [ -9.90927926]\n",
      " [  7.15091468]\n",
      " [ 19.29753195]\n",
      " [  4.07314109]]\n",
      "r square value: 0.0028916021065976175\n",
      "Adjusted r square value: -0.13955245473531686\n"
     ]
    }
   ],
   "source": [
    "print(f\"Bias value using Gradient Descent: {check_gradient_descent.bias_}\")\n",
    "print('\\n')\n",
    "print(f\"Coefficients using Gradient Descent: {check_gradient_descent.coeff_}\")\n",
    "test_standard = StandardScaler()\n",
    "test_standard.fit(X_test)\n",
    "X_test_standard = train_standard.transform(X_test)\n",
    "y_pred = check_gradient_descent.predict(X_test_standard)\n",
    "check_gradient_descent.adjusted_r_square(y_pred=y_pred, y_test=y_test)\n",
    "check_gradient_descent.r_squared(y_pred = y_pred, y_test = y_test)\n",
    "print(f\"r square value: {check_gradient_descent.r_square}\")\n",
    "print(f\"Adjusted r square value: {check_gradient_descent.adj_r_square}\")"
   ]
  },
  {
   "cell_type": "markdown",
   "id": "b9b6c8f5",
   "metadata": {},
   "source": [
    "##### Findings\n",
    "<li> The performance for both the OLS and Gradient Descent are not very good. This is likely due to the dataset not being preprocessed and feature engineering not being done on it. </li>"
   ]
  },
  {
   "cell_type": "markdown",
   "id": "05669672",
   "metadata": {},
   "source": [
    "## Testing OLS and Gradient Descent after doing feature engineering"
   ]
  },
  {
   "cell_type": "code",
   "execution_count": 40,
   "id": "f62f31a6",
   "metadata": {},
   "outputs": [],
   "source": [
    "diabetes_features_df = pd.DataFrame(diabetes.data)"
   ]
  },
  {
   "cell_type": "code",
   "execution_count": 41,
   "id": "d5f4a4c1",
   "metadata": {},
   "outputs": [
    {
     "name": "stdout",
     "output_type": "stream",
     "text": [
      "<class 'pandas.core.frame.DataFrame'>\n",
      "RangeIndex: 442 entries, 0 to 441\n",
      "Data columns (total 10 columns):\n",
      " #   Column  Non-Null Count  Dtype  \n",
      "---  ------  --------------  -----  \n",
      " 0   0       442 non-null    float64\n",
      " 1   1       442 non-null    float64\n",
      " 2   2       442 non-null    float64\n",
      " 3   3       442 non-null    float64\n",
      " 4   4       442 non-null    float64\n",
      " 5   5       442 non-null    float64\n",
      " 6   6       442 non-null    float64\n",
      " 7   7       442 non-null    float64\n",
      " 8   8       442 non-null    float64\n",
      " 9   9       442 non-null    float64\n",
      "dtypes: float64(10)\n",
      "memory usage: 34.7 KB\n"
     ]
    }
   ],
   "source": [
    "diabetes_features_df.info()"
   ]
  },
  {
   "cell_type": "code",
   "execution_count": 45,
   "id": "ff515397",
   "metadata": {},
   "outputs": [
    {
     "data": {
      "text/plain": [
       "<Axes: >"
      ]
     },
     "execution_count": 45,
     "metadata": {},
     "output_type": "execute_result"
    },
    {
     "data": {
      "image/png": "[encoded data removed]",
      "text/plain": [
       "<Figure size 640x480 with 2 Axes>"
      ]
     },
     "metadata": {},
     "output_type": "display_data"
    }
   ],
   "source": [
    "sns.heatmap(diabetes_features_df.corr())"
   ]
  },
  {
   "cell_type": "code",
   "execution_count": 60,
   "id": "a80306ba",
   "metadata": {},
   "outputs": [],
   "source": [
    "from sklearn.decomposition import PCA\n",
    "\n",
    "pca_features = PCA(n_components=4)\n",
    "pca_features.fit(diabetes_features_df)\n",
    "pca_features.explained_variance_ratio_\n",
    "dimension_reduced_df = pca_features.transform(diabetes_features_df)"
   ]
  },
  {
   "cell_type": "code",
   "execution_count": 73,
   "id": "d21fe18b",
   "metadata": {},
   "outputs": [
    {
     "data": {
      "image/png": "[encoded data removed]",
      "text/plain": [
       "<Figure size 800x600 with 1 Axes>"
      ]
     },
     "metadata": {},
     "output_type": "display_data"
    }
   ],
   "source": [
    "# Calculate the explained variance ratio, which the the percentage of variance captured by each principal component\n",
    "explained_variance_ratio = pca_features.explained_variance_ratio_\n",
    "\n",
    "# Plot the scree plot\n",
    "plt.figure(figsize=(8, 6))\n",
    "plt.bar(range(1, len(explained_variance_ratio) + 1), explained_variance_ratio, align='center')\n",
    "plt.title('Scree Plot from sklearn.decomposition')\n",
    "plt.xlabel('Principal Component')\n",
    "plt.ylabel('Explained Variance Ratio')\n",
    "plt.xticks(range(1, len(explained_variance_ratio) + 1))\n",
    "plt.grid(axis='y', linestyle='--', alpha=0.7)\n",
    "plt.show()"
   ]
  },
  {
   "cell_type": "code",
   "execution_count": 61,
   "id": "c745b3c4",
   "metadata": {},
   "outputs": [],
   "source": [
    "X_train_pca, X_test_pca, y_train_pca, y_test_pca = train_test_split(dimension_reduced_df, y, test_size = 0.2, random_state = 42)"
   ]
  },
  {
   "cell_type": "markdown",
   "id": "123c2497",
   "metadata": {},
   "source": [
    "### OLS"
   ]
  },
  {
   "cell_type": "code",
   "execution_count": 67,
   "id": "aa4bbe9a",
   "metadata": {},
   "outputs": [
    {
     "name": "stdout",
     "output_type": "stream",
     "text": [
      "Bias value using OLS: 151.21095321102754\n",
      "\n",
      "\n",
      "Coefficients using OLS: [ 445.58902466 -287.09851438  263.57562698  576.54308026]\n",
      "\n",
      "\n",
      "r square value: 0.46988622709563765\n",
      "Adjusted r square value: 0.43795166246284467\n"
     ]
    }
   ],
   "source": [
    "check_ols = OrdinaryLeastSquaresRegression(intercept = True)\n",
    "check_ols.fit(X_train_pca, y_train_pca)\n",
    "print(f\"Bias value using OLS: {check_ols.bias_}\")\n",
    "print('\\n')\n",
    "print(f\"Coefficients using OLS: {check_ols.coeff_}\")\n",
    "print('\\n')\n",
    "y_pred = check_ols.predict(X_test_pca)\n",
    "check_ols.adjusted_r_square(y_pred=y_pred, y_test=y_test)\n",
    "check_ols.r_squared(y_pred = y_pred, y_test = y_test)\n",
    "print(f\"r square value: {check_ols.r_square}\")\n",
    "print(f\"Adjusted r square value: {check_ols.adj_r_square}\")"
   ]
  },
  {
   "cell_type": "markdown",
   "id": "b83122bd",
   "metadata": {},
   "source": [
    "### Gradient Descent"
   ]
  },
  {
   "cell_type": "code",
   "execution_count": 68,
   "id": "202e58e7",
   "metadata": {},
   "outputs": [],
   "source": [
    "train_standard = StandardScaler()\n",
    "train_standard.fit(X_train_pca)\n",
    "X_train_standard = train_standard.transform(X_train_pca)"
   ]
  },
  {
   "cell_type": "code",
   "execution_count": 69,
   "id": "9ea4264c",
   "metadata": {},
   "outputs": [],
   "source": [
    "check_gradient_descent = GradientDescentLinearRegression()\n",
    "check_gradient_descent.gradient_descent(X_train_standard, y_train[:,np.newaxis])"
   ]
  },
  {
   "cell_type": "code",
   "execution_count": 70,
   "id": "c27c8157",
   "metadata": {},
   "outputs": [
    {
     "name": "stdout",
     "output_type": "stream",
     "text": [
      "Bias value using Gradient Descent: [153.73324978]\n",
      "\n",
      "\n",
      "Coefficients using Gradient Descent: [[ 42.26597593]\n",
      " [-16.54032387]\n",
      " [ 14.00131996]\n",
      " [ 27.45263771]]\n",
      "r square value: 0.0027514393064608893\n",
      "Adjusted r square value: -0.057323775193149906\n"
     ]
    }
   ],
   "source": [
    "print(f\"Bias value using Gradient Descent: {check_gradient_descent.bias_}\")\n",
    "print('\\n')\n",
    "print(f\"Coefficients using Gradient Descent: {check_gradient_descent.coeff_}\")\n",
    "test_standard = StandardScaler()\n",
    "test_standard.fit(X_test)\n",
    "X_test_standard = train_standard.transform(X_test_pca)\n",
    "y_pred = check_gradient_descent.predict(X_test_standard)\n",
    "check_gradient_descent.adjusted_r_square(y_pred=y_pred, y_test=y_test)\n",
    "check_gradient_descent.r_squared(y_pred = y_pred, y_test = y_test)\n",
    "print(f\"r square value: {check_gradient_descent.r_square}\")\n",
    "print(f\"Adjusted r square value: {check_gradient_descent.adj_r_square}\")"
   ]
  },
  {
   "cell_type": "markdown",
   "id": "a4ee4cd4",
   "metadata": {},
   "source": [
    "##### Findings\n",
    "<li> After doing PCA and reducing the dimensions to 4, for a total explained variance ratio of 75%, OLS and Gradient descent perform similarly as before. </li>"
   ]
  },
  {
   "cell_type": "markdown",
   "id": "0e9252f1",
   "metadata": {},
   "source": [
    "## Visualization"
   ]
  },
  {
   "cell_type": "code",
   "execution_count": 81,
   "id": "9603ffe7",
   "metadata": {},
   "outputs": [],
   "source": [
    "# Generate synthetic data\n",
    "np.random.seed(42)\n",
    "X = 2 * np.random.rand(100, 1)\n",
    "y = 4 + 3 * X + np.random.randn(100, 1)"
   ]
  },
  {
   "cell_type": "code",
   "execution_count": 82,
   "id": "5ed36496",
   "metadata": {},
   "outputs": [
    {
     "data": {
      "image/png": "[encoded data removed]",
      "text/plain": [
       "<Figure size 1000x600 with 1 Axes>"
      ]
     },
     "metadata": {},
     "output_type": "display_data"
    }
   ],
   "source": [
    "# Fit the GradientDescentLinearRegression model to the data\n",
    "model = GradientDescentLinearRegression()\n",
    "model.gradient_descent(X, y)\n",
    "\n",
    "# Make predictions using the fitted model\n",
    "y_pred = model.predict(X)\n",
    "\n",
    "# Plot the scatter plot of the original data points and the fitted line\n",
    "plt.figure(figsize=(10, 6))\n",
    "plt.scatter(X, y, color='blue', label='Original data')\n",
    "plt.plot(X, y_pred, color='red', label='Fitted line')\n",
    "plt.xlabel('X')\n",
    "plt.ylabel('y')\n",
    "plt.title('Scatter plot with Fitted Line')\n",
    "plt.legend()\n",
    "plt.grid(True)\n",
    "plt.show()\n"
   ]
  },
  {
   "cell_type": "code",
   "execution_count": 84,
   "id": "5ac0d944",
   "metadata": {},
   "outputs": [
    {
     "data": {
      "image/png": "[encoded data removed]",
      "text/plain": [
       "<Figure size 1000x600 with 1 Axes>"
      ]
     },
     "metadata": {},
     "output_type": "display_data"
    }
   ],
   "source": [
    "# Fit Ordinary Least Squares Regression model\n",
    "ols_model = OrdinaryLeastSquaresRegression(intercept = True)\n",
    "ols_model.fit(X, y)\n",
    "\n",
    "# Predictions\n",
    "y_pred = ols_model.predict(X)\n",
    "\n",
    "# Scatter plot\n",
    "plt.figure(figsize=(10, 6))\n",
    "plt.scatter(X, y, color='blue', label='Original data')\n",
    "plt.plot(X, y_pred, color='red', label='Fitted line')\n",
    "plt.xlabel('X')\n",
    "plt.ylabel('y')\n",
    "plt.title('Scatter plot with Fitted Line')\n",
    "plt.legend()\n",
    "plt.grid(True)\n",
    "plt.show()"
   ]
  },
  {
   "cell_type": "markdown",
   "id": "8b5e4865",
   "metadata": {},
   "source": [
    "## What we know\n",
    "\n",
    "Actual Linear Regression equation:\n",
    "$$ y = \\beta_0 + \\beta_1 \\cdot x_{i1} + \\ldots + \\beta_n \\cdot x_{in} + \\epsilon_i $$\n",
    "\n",
    "We need to get our best estimates for the values of $\\beta$ using the sample data given to us:\n",
    "$$ \\hat{y} = b_0 + b_1 \\cdot x_{i1} + \\ldots + b_n \\cdot x_{in} $$\n",
    "\n",
    "Here, values of $\\beta$ and $b$ can be represented as matrices.\n",
    "\n",
    "$$  \\quad \\mathbf{y} = X \\boldsymbol{\\beta} + \\boldsymbol{\\epsilon} $$\n",
    "\n",
    "$$  \\quad \\hat{\\mathbf{y}} = X \\mathbf{b} $$\n"
   ]
  },
  {
   "cell_type": "markdown",
   "id": "eff2ce81",
   "metadata": {},
   "source": [
    "The error term can then be\n",
    "$$ e: (y - \\hat{y})^2 $$\n",
    "Our goal will be to minimize $e$ <br>\n",
    "$e$ can also be written as\n",
    "$$ e: (y - X \\mathbf{b})^2 $$\n",
    "$$ e: (y - X \\mathbf{b})^T.(y_i - X \\mathbf{b}) $$"
   ]
  },
  {
   "cell_type": "markdown",
   "id": "1171e29c",
   "metadata": {},
   "source": [
    "We can minimize $e$ by\n",
    "$$\\frac{\\partial}{\\partial b} e = 0$$\n",
    "$$\\frac{\\partial}{\\partial b} (y - X \\mathbf{b})^T.(y - X \\mathbf{b}) = 0$$\n",
    "$$\\frac{\\partial}{\\partial b} (y^T - \\mathbf{b}^TX^T).(y - X \\mathbf{b}) = 0$$\n",
    "$$\\frac{\\partial}{\\partial b} (y^T - \\mathbf{b}^TX^T).(y - X \\mathbf{b}) = 0$$\n",
    "$$\\frac{\\partial}{\\partial b} (y^T.y - y^T.X.\\mathbf{b} - \\mathbf{b}^T.X^T.y + \\mathbf{b}^T.X^T.X.\\mathbf{b}) = 0$$\n",
    "$$\\frac{\\partial}{\\partial b} (y^T.y - 2\\mathbf{b}^T.X^T.y + \\mathbf{b}^T.X^T.X.\\mathbf{b}) = 0$$\n",
    "$$ -2X^T.y + 2(X^T.X).\\mathbf{b} = 0$$\n",
    "$$ 2(X^T.X)\\mathbf{b} = 2.X^T.y $$\n",
    "$$ (X^T.X)^{-1}.(X^T.X).\\mathbf{b} = (X^T.X)^{-1}.X^T.y $$\n",
    "$$ Hence, \\mathbf{b} = (X^T.X)^{-1}.X^T.y $$"
   ]
  },
  {
   "cell_type": "code",
   "execution_count": null,
   "id": "e899d33a",
   "metadata": {},
   "outputs": [],
   "source": []
  }
 ],
 "metadata": {
  "kernelspec": {
   "display_name": "Python 3 (ipykernel)",
   "language": "python",
   "name": "python3"
  },
  "language_info": {
   "codemirror_mode": {
    "name": "ipython",
    "version": 3
   },
   "file_extension": ".py",
   "mimetype": "text/x-python",
   "name": "python",
   "nbconvert_exporter": "python",
   "pygments_lexer": "ipython3",
   "version": "3.9.0"
  }
 },
 "nbformat": 4,
 "nbformat_minor": 5
}
