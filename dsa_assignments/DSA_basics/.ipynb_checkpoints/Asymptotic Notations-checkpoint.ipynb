{
 "cells": [
  {
   "cell_type": "markdown",
   "id": "099f3478",
   "metadata": {},
   "source": [
    "# Find the worst time complexities of the following functions"
   ]
  },
  {
   "cell_type": "markdown",
   "id": "1f255a02",
   "metadata": {},
   "source": [
    "## q1"
   ]
  },
  {
   "cell_type": "code",
   "execution_count": 4,
   "id": "b3805b43",
   "metadata": {},
   "outputs": [],
   "source": [
    "n = 4\n",
    "for i in range(n): # loop runs n times \n",
    "    i = i*2 #takes constant time\n"
   ]
  },
  {
   "cell_type": "markdown",
   "id": "7da3921d",
   "metadata": {},
   "source": [
    "<p> \n",
    "    So <br>\n",
    "    time complexity = n + constant<br>\n",
    "    so big O notation = O(n)\n",
    "</p>"
   ]
  },
  {
   "cell_type": "markdown",
   "id": "09646b59",
   "metadata": {},
   "source": [
    "## q2"
   ]
  },
  {
   "cell_type": "code",
   "execution_count": 2,
   "id": "1f429c30",
   "metadata": {},
   "outputs": [],
   "source": [
    "def fact_iter(n): \n",
    "# \"assumes n an int >= 0\"\n",
    "    answer = 1 #constant time\n",
    "    while n > 1: #loop runs n times\n",
    "        answer *= n #constant time within loop\n",
    "        n -= 1 #constant time within loop\n",
    "    return answer"
   ]
  },
  {
   "cell_type": "markdown",
   "id": "190d34f8",
   "metadata": {},
   "source": [
    "<p>\n",
    "So<br>\n",
    "    time complexity (n) = constant1 + constant 2 * constant 3 * (n - 1)<br>\n",
    "    Big O notation = O(n)\n",
    "</p>"
   ]
  },
  {
   "cell_type": "markdown",
   "id": "eadb7fda",
   "metadata": {},
   "source": [
    "## q3"
   ]
  },
  {
   "cell_type": "code",
   "execution_count": 5,
   "id": "20846f2e",
   "metadata": {},
   "outputs": [
    {
     "name": "stdout",
     "output_type": "stream",
     "text": [
      "1, 2\n",
      "1, 3\n",
      "1, 4\n",
      "1, 5\n",
      "1, 6\n",
      "2, 3\n",
      "2, 4\n",
      "2, 5\n",
      "2, 6\n",
      "3, 4\n",
      "3, 5\n",
      "3, 6\n",
      "4, 5\n",
      "4, 6\n"
     ]
    }
   ],
   "source": [
    "A = [1, 2, 3, 4]\n",
    "B = [2, 3, 4, 5, 6]\n",
    "for i in A: #loop runs len(A) times\n",
    "    for j in B: #loop runs len(B) times\n",
    "        if i<j: \n",
    "            print('{}, {}'.format(i, j)) #constant time\n"
   ]
  },
  {
   "cell_type": "markdown",
   "id": "c8fa3a7f",
   "metadata": {},
   "source": [
    "<p>So, \n",
    "\n",
    "    time complexity (n) = len(A) * len(B) * constant\n",
    "    len(A) ~ n\n",
    "    len(B) ~ n\n",
    "    big O notation = O(n^2) if both have similar length else\n",
    "    big O notation = O(len(A) * len(B))\n",
    "\n",
    "</p>"
   ]
  },
  {
   "cell_type": "markdown",
   "id": "58de3674",
   "metadata": {},
   "source": [
    "## q4"
   ]
  },
  {
   "cell_type": "code",
   "execution_count": 9,
   "id": "6ebb5cfc",
   "metadata": {},
   "outputs": [],
   "source": [
    "L = [1, 2, 3, 4, 5, 6, 7, 8]\n",
    "for i in range(len(L)//2): #loops L/2 times\n",
    "    other = len(L) - i - 1 #constant time\n",
    "    temp = L[i] #constant time\n",
    "    L[i] = L[other]  #constant\n",
    "    L[other] =  temp #constant time"
   ]
  },
  {
   "cell_type": "markdown",
   "id": "7aef97fe",
   "metadata": {},
   "source": [
    "<p>\n",
    "    So,\n",
    "    time complexity(n) = n/2 * constant1 * constant2 * constant3 * constant4<br>\n",
    "    L ~ n<br>\n",
    "    big O notation = O(n/2)<br>\n",
    "</p>"
   ]
  },
  {
   "cell_type": "markdown",
   "id": "bd7ea1d5",
   "metadata": {},
   "source": [
    "## q5"
   ]
  },
  {
   "cell_type": "code",
   "execution_count": 10,
   "id": "4358a265",
   "metadata": {},
   "outputs": [],
   "source": [
    "def fib(n):\n",
    "    if n==1 or n==0:\n",
    "        return 1 #constant time\n",
    "    else:\n",
    "        return fib(n-1) + fib(n-2) #fib(n-1) is called and fib(n-2) is called the recursion forms a binary tree"
   ]
  },
  {
   "cell_type": "markdown",
   "id": "840f893e",
   "metadata": {},
   "source": [
    "<p>\n",
    "    So, time complexity(n) = 2^n <br>\n",
    "    big O notation = O(2^n)\n",
    "</p>"
   ]
  },
  {
   "cell_type": "code",
   "execution_count": null,
   "id": "616f7ce1",
   "metadata": {},
   "outputs": [],
   "source": []
  }
 ],
 "metadata": {
  "kernelspec": {
   "display_name": "Python 3 (ipykernel)",
   "language": "python",
   "name": "python3"
  },
  "language_info": {
   "codemirror_mode": {
    "name": "ipython",
    "version": 3
   },
   "file_extension": ".py",
   "mimetype": "text/x-python",
   "name": "python",
   "nbconvert_exporter": "python",
   "pygments_lexer": "ipython3",
   "version": "3.9.0"
  }
 },
 "nbformat": 4,
 "nbformat_minor": 5
}
