{
 "cells": [
  {
   "cell_type": "markdown",
   "metadata": {},
   "source": [
    "# Dynamic Array Implementation"
   ]
  },
  {
   "cell_type": "code",
   "execution_count": 129,
   "metadata": {},
   "outputs": [],
   "source": [
    "class DynamicArray:\n",
    "    \"\"\"\n",
    "    Custom class, dynamic array\n",
    "    imitates the functionality of a list in python.\n",
    "    \"\"\"\n",
    "    def __init__(self):\n",
    "        self.capacity = 1  # Initial capacity of the array\n",
    "        self.size = 0      # Number of elements currently stored\n",
    "        self.array = [None] * self.capacity  # Underlying array\n",
    "\n",
    "    def __len__(self):\n",
    "        return self.size\n",
    "\n",
    "    def __getitem__(self, index):\n",
    "        if not 0 <= index < self.size:\n",
    "            raise IndexError('Index out of range')\n",
    "        return self.array[index]\n",
    "\n",
    "    def append(self, value):\n",
    "        if self.size == self.capacity:\n",
    "            self.resize(20 + self.capacity)  # increase capacity by 20 if full\n",
    "        self.array[self.size] = value\n",
    "        self.size += 1\n",
    "\n",
    "    def resize(self, new_capacity):\n",
    "        new_array = [None] * new_capacity\n",
    "        for i in range(self.size):\n",
    "            new_array[i] = self.array[i]\n",
    "        self.array = new_array\n",
    "        self.capacity = new_capacity\n",
    "\n",
    "    def insert(self, index, value):\n",
    "        if not 0 <= index <= self.size:\n",
    "            raise IndexError('Index out of range')\n",
    "        if self.size == self.capacity:\n",
    "            self.resize(2 + self.capacity)  # increase capacity by 20 if full\n",
    "        for i in range(self.size, index, -1):\n",
    "            self.array[i] = self.array[i - 1]\n",
    "        self.array[index] = value\n",
    "        self.size += 1\n",
    "\n",
    "    def remove(self, value):\n",
    "        for i in range(self.size):\n",
    "            if self.array[i] == value:\n",
    "                self.size -= 1\n",
    "                while i < self.size:\n",
    "                    self.array[i] = self.array[i + 1]\n",
    "                    i += 1\n",
    "                return\n",
    "        raise ValueError('Value not found')\n",
    "\n",
    "    def pop(self, index=None):\n",
    "        if index is None:\n",
    "            index = self.size - 1\n",
    "        if not 0 <= index < self.size:\n",
    "            raise IndexError('Index out of range')\n",
    "        value = self.array[index]\n",
    "        self.size -= 1\n",
    "        while index < self.size:\n",
    "            self.array[index] = self.array[index + 1]\n",
    "            index += 1\n",
    "        return value\n",
    "\n",
    "    def __repr__(self):\n",
    "        return '[' + ', '.join(str(self.array[i]) for i in range(self.size)) + ']'\n",
    "\n"
   ]
  },
  {
   "cell_type": "code",
   "execution_count": 131,
   "metadata": {},
   "outputs": [
    {
     "name": "stdout",
     "output_type": "stream",
     "text": [
      "[1, 2, 3]\n",
      "[1, 4, 2, 3]\n",
      "[1, 2, 3]\n",
      "[1, 2]\n"
     ]
    }
   ],
   "source": [
    "\"\"\"\n",
    "Testing all of the methods of the DynamicArray class\n",
    "\"\"\"\n",
    "arr = DynamicArray()\n",
    "arr.append(1)\n",
    "arr.append(2)\n",
    "arr.append(3)\n",
    "print(arr)\n",
    "\n",
    "arr.insert(1, 4)\n",
    "print(arr)\n",
    "\n",
    "arr.remove(4)\n",
    "print(arr)\n",
    "\n",
    "arr.pop()\n",
    "print(arr)"
   ]
  },
  {
   "cell_type": "markdown",
   "metadata": {},
   "source": [
    "# Linked List Implementation"
   ]
  },
  {
   "cell_type": "code",
   "execution_count": 1,
   "metadata": {},
   "outputs": [],
   "source": [
    "class Node:\n",
    "    \"\"\"\n",
    "    LinkedList class is made up of the Node class, each item in a linked list is the Node object\n",
    "    data -> The data to be stored in the node\n",
    "    nex -> Points to the next node in the linked list\n",
    "    \"\"\"\n",
    "    def __init__(self, key, data):\n",
    "        self.data = data\n",
    "        self.next = None"
   ]
  },
  {
   "cell_type": "code",
   "execution_count": 1,
   "metadata": {},
   "outputs": [],
   "source": [
    "class LinkedList:\n",
    "    \"\"\"\n",
    "    Custom Build Data type\n",
    "    Class to specify a linked list of connect Node objects\n",
    "    \"\"\"\n",
    "    def __init__(self, node):\n",
    "        self.head = Node(node)\n",
    "    \n",
    "    def add_from_head(self, data):\n",
    "        node = Node(data)\n",
    "        temp = self.head\n",
    "        node.next = self.head\n",
    "        self.head = node\n",
    "        \n",
    "    def add_from_tail(self, data):\n",
    "        node = Node(data)\n",
    "        current = self.head\n",
    "        while current.next:\n",
    "            current = current.next\n",
    "        current.next = node\n",
    "        \n",
    "    def del_from_head(self):\n",
    "        self.head = self.head.next\n",
    "    \n",
    "    def del_from_tail(self):\n",
    "        current = self.head\n",
    "        while current.next.next:\n",
    "            current = current.next\n",
    "        current.next = None\n",
    "        \n",
    "    def add_at_index(self, data, i):\n",
    "        index = 0\n",
    "        node = Node(data)\n",
    "        current = self.head\n",
    "        if i == 0:\n",
    "            self.add_from_head()\n",
    "        else:\n",
    "            while index != i-1:\n",
    "                index += 1\n",
    "                try:\n",
    "                    current = current.next\n",
    "                except AttributeError:\n",
    "                    print(\"Index out of range\")\n",
    "                    return\n",
    "            temp = current.next\n",
    "            current.next = node\n",
    "            node.next = temp\n",
    "        \n",
    "    def del_at_index(self, i):\n",
    "        index = 0\n",
    "        current = self.head\n",
    "        if i == 0:\n",
    "            self.del_from_head()\n",
    "        else:\n",
    "            while index != i - 1:\n",
    "                index += 1\n",
    "                try:\n",
    "                    current = current.next\n",
    "                except AttributeError:\n",
    "                    print(\"Index out of range\")\n",
    "                    return\n",
    "            current.next = current.next.next\n",
    "        \n",
    "    def __getitem__(self, i):\n",
    "        index = 0\n",
    "        current = self.head\n",
    "        while index != i:\n",
    "            index += 1\n",
    "            try:\n",
    "                current = current.next\n",
    "            except AttributeError:\n",
    "                print(\"Index out of range\")\n",
    "                return\n",
    "        return current.data\n",
    "    \n",
    "    def __repr__(self):\n",
    "        return_string = \"\"\n",
    "        current = self.head\n",
    "        while current:\n",
    "            return_string+=\"\".join(f\" {current.data} ->\")\n",
    "            current = current.next\n",
    "        return_string += \" None\"\n",
    "\n",
    "        return return_string"
   ]
  },
  {
   "cell_type": "code",
   "execution_count": 3,
   "metadata": {},
   "outputs": [],
   "source": [
    "\"\"\"\n",
    "Testing all of the methods of the LinkedList class\n",
    "\"\"\"\n",
    "lst = [1,2,3,4,5]\n",
    "check = LinkedList(0)\n",
    "for i in lst:\n",
    "    check.add_from_head(i)\n",
    "    check.add_from_tail(i)\n"
   ]
  },
  {
   "cell_type": "code",
   "execution_count": 4,
   "metadata": {},
   "outputs": [
    {
     "name": "stdout",
     "output_type": "stream",
     "text": [
      " 5 -> 4 -> 3 -> 2 -> 1 -> 0 -> 1 -> 2 -> 3 -> 4 -> 5 -> None\n"
     ]
    }
   ],
   "source": [
    "print(check)"
   ]
  },
  {
   "cell_type": "code",
   "execution_count": 5,
   "metadata": {},
   "outputs": [
    {
     "name": "stdout",
     "output_type": "stream",
     "text": [
      " 5 -> 4 -> 3 -> 2 -> 100 -> 1 -> 0 -> 1 -> 2 -> 3 -> 4 -> 5 -> None\n"
     ]
    }
   ],
   "source": [
    "check.add_at_index(100,4)\n",
    "print(check)"
   ]
  },
  {
   "cell_type": "code",
   "execution_count": 6,
   "metadata": {},
   "outputs": [
    {
     "name": "stdout",
     "output_type": "stream",
     "text": [
      " 5 -> 4 -> 3 -> 2 -> 1 -> 0 -> 1 -> 2 -> 3 -> 4 -> 5 -> None\n"
     ]
    }
   ],
   "source": [
    "check.del_at_index(4)\n",
    "print(check)"
   ]
  },
  {
   "cell_type": "code",
   "execution_count": 128,
   "metadata": {},
   "outputs": [
    {
     "data": {
      "text/plain": [
       "2"
      ]
     },
     "execution_count": 128,
     "metadata": {},
     "output_type": "execute_result"
    }
   ],
   "source": [
    "check[7]"
   ]
  },
  {
   "cell_type": "markdown",
   "metadata": {},
   "source": [
    "# Stack Implementation"
   ]
  },
  {
   "cell_type": "code",
   "execution_count": 125,
   "metadata": {},
   "outputs": [],
   "source": [
    "class Stack:\n",
    "    \"\"\"\n",
    "    Implementation of a stack using LinkedList class\n",
    "    \"\"\"\n",
    "    def __init__(self, data):\n",
    "        self.items = LinkedList(data)\n",
    "    \n",
    "    def is_empty(self):\n",
    "        #check if stack is empty\n",
    "        return self.items.head == None\n",
    "    \n",
    "    def push(self, data):\n",
    "        #add items at the top of the stack\n",
    "        current = self.items.head\n",
    "        while current.next:\n",
    "            current = current.next\n",
    "        current.next = Node(data)\n",
    "        \n",
    "    def pop(self):\n",
    "        #remove items from the top of the stack\n",
    "        current = self.items.head\n",
    "        while current.next.next:\n",
    "            current = current.next\n",
    "        current.next = None\n",
    "    \n",
    "    def __repr__(self):\n",
    "        output = \"\"\n",
    "        current = self.items.head\n",
    "        while current:\n",
    "            output += \"\".join(f'{current.data} ')\n",
    "            current = current.next\n",
    "        return output"
   ]
  },
  {
   "cell_type": "code",
   "execution_count": 129,
   "metadata": {},
   "outputs": [
    {
     "name": "stdout",
     "output_type": "stream",
     "text": [
      "Pushing onto: 0 1 2 4 21 43 12 \n",
      "Popping from stack: 0 1 2 4 21 \n"
     ]
    }
   ],
   "source": [
    "lst = [1,2,4,21,43,12]\n",
    "test_stack = Stack(0)\n",
    "for i in lst:\n",
    "    test_stack.push(i)\n",
    "print(f\"Pushing onto: {test_stack}\")\n",
    "\n",
    "test_stack.pop()\n",
    "test_stack.pop()\n",
    "print(f\"Popping from stack: {test_stack}\")\n",
    "\n"
   ]
  },
  {
   "cell_type": "markdown",
   "metadata": {},
   "source": [
    "# Queue Implementation"
   ]
  },
  {
   "cell_type": "code",
   "execution_count": 139,
   "metadata": {},
   "outputs": [],
   "source": [
    "class Queue:\n",
    "    \"\"\"\n",
    "    Implementation of queue using LinkedList class\n",
    "    \"\"\"\n",
    "    def __init__(self, data):\n",
    "        self.queue_start = LinkedList(data)\n",
    "        \n",
    "    def queue(self, data):\n",
    "        #adds item at the back of the queue\n",
    "        current = self.queue_start.head\n",
    "        while current.next:\n",
    "            current = current.next\n",
    "        current.next = Node(data)\n",
    "    \n",
    "    def dequeue(self):\n",
    "        #removes items from the start of the queue\n",
    "        self.queue_start.head = self.queue_start.head.next\n",
    "    \n",
    "    def __repr__(self):\n",
    "        output = \"\"\n",
    "        current = self.queue_start.head\n",
    "        while current:\n",
    "            output += \"\".join(f'{current.data} ')\n",
    "            current = current.next\n",
    "        return output"
   ]
  },
  {
   "cell_type": "code",
   "execution_count": 142,
   "metadata": {},
   "outputs": [
    {
     "name": "stdout",
     "output_type": "stream",
     "text": [
      "1 3 4 \n",
      "3 4 \n"
     ]
    }
   ],
   "source": [
    "#testing Queue Implementation use case\n",
    "test = Queue(1)\n",
    "test.queue(3)\n",
    "test.queue(4)\n",
    "print(test)\n",
    "test.dequeue()\n",
    "print(test)"
   ]
  },
  {
   "cell_type": "code",
   "execution_count": null,
   "metadata": {},
   "outputs": [],
   "source": []
  }
 ],
 "metadata": {
  "kernelspec": {
   "display_name": "Python 3 (ipykernel)",
   "language": "python",
   "name": "python3"
  },
  "language_info": {
   "codemirror_mode": {
    "name": "ipython",
    "version": 3
   },
   "file_extension": ".py",
   "mimetype": "text/x-python",
   "name": "python",
   "nbconvert_exporter": "python",
   "pygments_lexer": "ipython3",
   "version": "3.9.0"
  }
 },
 "nbformat": 4,
 "nbformat_minor": 2
}
