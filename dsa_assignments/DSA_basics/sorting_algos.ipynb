{
 "cells": [
  {
   "cell_type": "markdown",
   "id": "5ae2d9b9",
   "metadata": {},
   "source": [
    "# Sort Class"
   ]
  },
  {
   "cell_type": "code",
   "execution_count": 39,
   "id": "95a0abe8",
   "metadata": {},
   "outputs": [],
   "source": [
    "class Sort:\n",
    "    def __init__(self, arr):\n",
    "        self.arr = arr\n",
    "    \n",
    "    \"\"\"\n",
    "    Quick Sort method for sorting integers in ascending order\n",
    "    \"\"\"\n",
    "    \n",
    "    def quick_sort(self):\n",
    "        if not self.arr:\n",
    "            return self.arr\n",
    "        self._quick_sort(0, len(self.arr) - 1)\n",
    "        return self.arr\n",
    "\n",
    "    def _quick_sort(self, low, high):\n",
    "        if low < high:\n",
    "            # Partition the array and get the pivot index\n",
    "            pivot_index = self._partition(low, high)\n",
    "            # Recursively sort the sub-arrays\n",
    "            self._quick_sort(low, pivot_index - 1)\n",
    "            self._quick_sort(pivot_index + 1, high)\n",
    "\n",
    "    def _partition(self, low, high):\n",
    "        pivot = self.arr[high]\n",
    "        # Index of the smaller element\n",
    "        i = low - 1\n",
    "\n",
    "        for j in range(low, high):\n",
    "            # If current element is smaller than or equal to pivot\n",
    "            if arr[j] <= pivot:\n",
    "                # Increment index of smaller element\n",
    "                i += 1\n",
    "                # Swap arr[i] and arr[j]\n",
    "                self.arr[i], self.arr[j] = self.arr[j], self.arr[i]\n",
    "\n",
    "        # Place the pivot element in the correct position\n",
    "        self.arr[i + 1], self.arr[high] = self.arr[high], self.arr[i + 1]\n",
    "        return i + 1\n",
    "    \n",
    "    \n",
    "    \"\"\"\n",
    "    Merge Sort method for sorting algorithms in ascending order\n",
    "    \"\"\"\n",
    "    def merge_sort(self):\n",
    "        if len(self.arr) <= 1:\n",
    "            return self.arr\n",
    "        \n",
    "        # Divide the array into two halves\n",
    "        mid = len(self.arr) // 2\n",
    "        left_half = MergeSort(self.arr[:mid])\n",
    "        right_half = MergeSort(self.arr[mid:])\n",
    "\n",
    "        # Recursively sort each half\n",
    "        left_half.sort()\n",
    "        right_half.sort()\n",
    "\n",
    "        # Merge the sorted halves\n",
    "        self._merge(left_half, right_half)\n",
    "        return self.arr\n",
    "\n",
    "    def _merge(self, left_half, right_half):\n",
    "        i = j = k = 0\n",
    "\n",
    "        # Compare elements from left_half and right_half\n",
    "        while i < len(left_half.arr) and j < len(right_half.arr):\n",
    "            if left_half.arr[i] <= right_half.arr[j]:\n",
    "                self.arr[k] = left_half.arr[i]\n",
    "                i += 1\n",
    "            else:\n",
    "                self.arr[k] = right_half.arr[j]\n",
    "                j += 1\n",
    "            k += 1\n",
    "\n",
    "        # Copy remaining elements from left_half, if any\n",
    "        while i < len(left_half.arr):\n",
    "            self.arr[k] = left_half.arr[i]\n",
    "            i += 1\n",
    "            k += 1\n",
    "\n",
    "        # Copy remaining elements from right_half, if any\n",
    "        while j < len(right_half.arr):\n",
    "            self.arr[k] = right_half.arr[j]\n",
    "            j += 1\n",
    "            k += 1\n",
    "            \n",
    "            \n",
    "    \"\"\"\n",
    "    Selection Sort algorithm for sorting integers in ascending order\n",
    "    \"\"\"\n",
    "    def selection_sort(self):\n",
    "        n = len(self.arr)\n",
    "\n",
    "        # Traverse through all array elements\n",
    "        for i in range(n):\n",
    "            # Find the minimum element in the remaining unsorted array\n",
    "            min_index = i\n",
    "            for j in range(i + 1, n):\n",
    "                if self.arr[j] < self.arr[min_index]:\n",
    "                    min_index = j\n",
    "\n",
    "            # Swap the found minimum element with the first element\n",
    "            self.arr[i], self.arr[min_index] = self.arr[min_index], self.arr[i]\n",
    "        return self.arr\n",
    "\n"
   ]
  },
  {
   "cell_type": "code",
   "execution_count": 40,
   "id": "5603a29b",
   "metadata": {},
   "outputs": [],
   "source": [
    "arr = [8, 3, 1, 7, 0, 10, 2]"
   ]
  },
  {
   "cell_type": "code",
   "execution_count": 41,
   "id": "3213e6a1",
   "metadata": {},
   "outputs": [
    {
     "name": "stdout",
     "output_type": "stream",
     "text": [
      "Sorted array: [0, 1, 2, 3, 7, 8, 10]\n"
     ]
    }
   ],
   "source": [
    "#Tesing Quick Sort ALgorithm\n",
    "sorter = Sort(arr)\n",
    "print(\"Sorted array:\", sorter.quick_sort())"
   ]
  },
  {
   "cell_type": "code",
   "execution_count": 42,
   "id": "c471a620",
   "metadata": {},
   "outputs": [
    {
     "name": "stdout",
     "output_type": "stream",
     "text": [
      "Sorted array: [0, 1, 2, 3, 7, 8, 10]\n"
     ]
    }
   ],
   "source": [
    "#testing merge sort\n",
    "sorter = Sort(arr)\n",
    "print(\"Sorted array:\", sorter.merge_sort())"
   ]
  },
  {
   "cell_type": "code",
   "execution_count": 43,
   "id": "ee7683bb",
   "metadata": {},
   "outputs": [
    {
     "name": "stdout",
     "output_type": "stream",
     "text": [
      "Sorted array: [0, 1, 2, 3, 7, 8, 10]\n"
     ]
    }
   ],
   "source": [
    "#testing selection sort\n",
    "sorter = Sort(arr)\n",
    "print(\"Sorted array:\", sorter.selection_sort())"
   ]
  }
 ],
 "metadata": {
  "kernelspec": {
   "display_name": "Python 3 (ipykernel)",
   "language": "python",
   "name": "python3"
  },
  "language_info": {
   "codemirror_mode": {
    "name": "ipython",
    "version": 3
   },
   "file_extension": ".py",
   "mimetype": "text/x-python",
   "name": "python",
   "nbconvert_exporter": "python",
   "pygments_lexer": "ipython3",
   "version": "3.9.0"
  }
 },
 "nbformat": 4,
 "nbformat_minor": 5
}
