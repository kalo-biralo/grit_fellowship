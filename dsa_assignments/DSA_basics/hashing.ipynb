{
 "cells": [
  {
   "cell_type": "markdown",
   "id": "d0425466",
   "metadata": {},
   "source": [
    "# Hash Table, collision handling using linear probing"
   ]
  },
  {
   "cell_type": "code",
   "execution_count": 303,
   "id": "cd20f7fd",
   "metadata": {},
   "outputs": [],
   "source": [
    "class HashTableLinearProbing:\n",
    "    def __init__(self, size=10):\n",
    "        self.size = size\n",
    "        self.table = [None] * size  # Initialize table with None (indicating empty slots)\n",
    "\n",
    "    def _hash_function(self, key):\n",
    "        \"\"\"A simple hash function to map keys to indices\"\"\"\n",
    "        return self._hash(key) % self.size\n",
    "\n",
    "    def insert(self, key, value):\n",
    "        \"\"\"Insert a key-value pair into the hash table using linear probing\"\"\"\n",
    "        if type(key) != str:  #ensure keys are str so that hash function works as intended\n",
    "            key = str(key)\n",
    "        index = self._hash_function(key)\n",
    "\n",
    "        # Find the next available slot using linear probing\n",
    "        while self.table[index] is not None:\n",
    "            if self.table[index][0] == key:\n",
    "                # Update value if key already exists\n",
    "                self.table[index] = (key, value)\n",
    "                return\n",
    "            index = (index + 1) % self.size  # Move to the next slot (circular)\n",
    "\n",
    "        # Insert new key-value pair\n",
    "        self.table[index] = (key, value)\n",
    "    \n",
    "    def _hash(self, key):\n",
    "        s = 0\n",
    "        for i in key:\n",
    "            s+=ord(i)\n",
    "        return s\n",
    "\n",
    "    def search(self, key):\n",
    "        \"\"\"Search for a key in the hash table and return its associated value\"\"\"\n",
    "        index = self._hash_function(key)\n",
    "        i = 0\n",
    "        # Search for the key using linear probing\n",
    "        while self.table[index] is not None:\n",
    "            if self.table[index][0] == key:\n",
    "                return self.table[index][1]\n",
    "            index = (index + 1) % self.size  # Move to the next slot (circular)\n",
    "            i += 1\n",
    "            if i > self.size:  #if all slots are not empty and index value goes through entire array\n",
    "                break\n",
    "\n",
    "        raise KeyError(f\"Key '{key}' not found\")\n",
    "\n",
    "    def delete(self, key):\n",
    "        \"\"\"Delete a key-value pair from the hash table\"\"\"\n",
    "        index = self._hash_function(key)\n",
    "        i = 0\n",
    "\n",
    "        # Search for the key to delete using linear probing\n",
    "        while self.table[index] is not None:\n",
    "            if self.table[index][0] == key:\n",
    "                self.table[index] = None  # Mark the slot as deleted\n",
    "                return\n",
    "            index = (index + 1) % self.size  # Move to the next slot (circular)\n",
    "            i += 1\n",
    "            if i > self.size:  #if all slots are not empty and index value goes through entire array\n",
    "                break\n",
    "\n",
    "        raise KeyError(f\"Key '{key}' not found\")\n",
    "\n",
    "    def __str__(self):\n",
    "        \"\"\"String representation of the hash table\"\"\"\n",
    "        items = []\n",
    "        for index in range(self.size):\n",
    "            if self.table[index] is not None:\n",
    "                items.append(f\"Bucket {index}: {self.table[index]}\")\n",
    "            else:\n",
    "                items.append(f\"Bucket {index}: None\")\n",
    "        return \"\\n\".join(items)\n",
    "\n",
    "\n",
    "# Example usage:\n"
   ]
  },
  {
   "cell_type": "code",
   "execution_count": 304,
   "id": "7c46ac9c",
   "metadata": {},
   "outputs": [
    {
     "name": "stdout",
     "output_type": "stream",
     "text": [
      "Bucket 0: ('Lebron', 'James')\n",
      "Bucket 1: ('Lionel', 'Thiago')\n",
      "Bucket 2: ('Birthday', 'Cake')\n",
      "Bucket 3: ('Sleeping', 'Beauty')\n",
      "Bucket 4: ('Crisiano', 'Ronaldo')\n",
      "\n",
      "\n",
      "Value for 'Birthday': Cake\n",
      "Updated value for 'Birthday': Girl\n",
      "\n",
      "\n",
      "Bucket 0: ('Lebron', 'James')\n",
      "Bucket 1: None\n",
      "Bucket 2: ('Birthday', 'Girl')\n",
      "Bucket 3: ('Sleeping', 'Beauty')\n",
      "Bucket 4: ('Crisiano', 'Ronaldo')\n",
      "\n",
      "\n",
      "Bucket 0: ('Lebron', 'James')\n",
      "Bucket 1: ('Lionel', 'Messi')\n",
      "Bucket 2: ('Birthday', 'Girl')\n",
      "Bucket 3: ('Sleeping', 'Beauty')\n",
      "Bucket 4: ('Crisiano', 'Ronaldo')\n"
     ]
    }
   ],
   "source": [
    "\"\"\"\n",
    "Tests for HashTable class\n",
    "\"\"\"\n",
    "# Create a hash table\n",
    "hash_table = HashTableLinearProbing(size=5)\n",
    "\n",
    "# Insert key-value pairs\n",
    "hash_table.insert(\"Crisiano\", \"Ronaldo\")\n",
    "hash_table.insert(\"Lebron\", \"James\")\n",
    "hash_table.insert(\"Lionel\", \"Thiago\")\n",
    "hash_table.insert(\"Sleeping\", \"Beauty\")\n",
    "hash_table.insert(\"Birthday\", \"Cake\")\n",
    "\n",
    "print(hash_table)  # Display the hash table\n",
    "print(\"\\n\")\n",
    "\n",
    "# Search for a key\n",
    "print(\"Value for 'Birthday':\", hash_table.search(\"Birthday\"))\n",
    "\n",
    "# Update a key\n",
    "hash_table.insert(\"Birthday\", \"Girl\")\n",
    "print(\"Updated value for 'Birthday':\", hash_table.search(\"Birthday\"))\n",
    "print(\"\\n\")\n",
    "# Delete a key\n",
    "hash_table.delete(\"Lionel\")\n",
    "print(hash_table)  # Display the updated hash table\n",
    "print(\"\\n\")\n",
    "hash_table.insert(\"Lionel\", \"Messi\")\n",
    "print(hash_table)"
   ]
  },
  {
   "cell_type": "code",
   "execution_count": 305,
   "id": "c389b755",
   "metadata": {},
   "outputs": [
    {
     "ename": "KeyError",
     "evalue": "\"Key 'Prashjeev' not found\"",
     "output_type": "error",
     "traceback": [
      "\u001b[1;31m---------------------------------------------------------------------------\u001b[0m",
      "\u001b[1;31mKeyError\u001b[0m                                  Traceback (most recent call last)",
      "Cell \u001b[1;32mIn[305], line 1\u001b[0m\n\u001b[1;32m----> 1\u001b[0m \u001b[43mhash_table\u001b[49m\u001b[38;5;241;43m.\u001b[39;49m\u001b[43msearch\u001b[49m\u001b[43m(\u001b[49m\u001b[38;5;124;43m\"\u001b[39;49m\u001b[38;5;124;43mPrashjeev\u001b[39;49m\u001b[38;5;124;43m\"\u001b[39;49m\u001b[43m)\u001b[49m\n",
      "Cell \u001b[1;32mIn[303], line 46\u001b[0m, in \u001b[0;36mHashTableLinearProbing.search\u001b[1;34m(self, key)\u001b[0m\n\u001b[0;32m     43\u001b[0m     \u001b[38;5;28;01mif\u001b[39;00m i \u001b[38;5;241m>\u001b[39m \u001b[38;5;28mself\u001b[39m\u001b[38;5;241m.\u001b[39msize:  \u001b[38;5;66;03m#if all slots are not empty and index value goes through entire array\u001b[39;00m\n\u001b[0;32m     44\u001b[0m         \u001b[38;5;28;01mbreak\u001b[39;00m\n\u001b[1;32m---> 46\u001b[0m \u001b[38;5;28;01mraise\u001b[39;00m \u001b[38;5;167;01mKeyError\u001b[39;00m(\u001b[38;5;124mf\u001b[39m\u001b[38;5;124m\"\u001b[39m\u001b[38;5;124mKey \u001b[39m\u001b[38;5;124m'\u001b[39m\u001b[38;5;132;01m{\u001b[39;00mkey\u001b[38;5;132;01m}\u001b[39;00m\u001b[38;5;124m'\u001b[39m\u001b[38;5;124m not found\u001b[39m\u001b[38;5;124m\"\u001b[39m)\n",
      "\u001b[1;31mKeyError\u001b[0m: \"Key 'Prashjeev' not found\""
     ]
    }
   ],
   "source": [
    "hash_table.search(\"Prashjeev\")"
   ]
  },
  {
   "cell_type": "markdown",
   "id": "8de5ee4c",
   "metadata": {},
   "source": [
    "# Hash Table, collision handling using chaining"
   ]
  },
  {
   "cell_type": "code",
   "execution_count": 318,
   "id": "d53b58b4",
   "metadata": {},
   "outputs": [],
   "source": [
    "\"\"\"\n",
    "defining Node class and LinkedList class to implement chaining in hash tables\n",
    "Hash Tables using chaining are essentially an array of linked list with each slot in an array containing a linked list\n",
    "where collisions occur\n",
    "\"\"\"\n",
    "\n",
    "class Node:\n",
    "    \"\"\"\n",
    "    LinkedList class is made up of the Node class, each item in a linked list is the Node object\n",
    "    data -> The data to be stored in the node\n",
    "    next -> Points to the next node in the linked list\n",
    "    key -> The unique identifier of the data through which the data is accessed\n",
    "    \"\"\"\n",
    "    def __init__(self, key, data):\n",
    "        self.data = data\n",
    "        self.key = key\n",
    "        self.next = None\n",
    "    \n",
    "    def __repr__(self):\n",
    "        return f\"(({self.key}, {self.data}), ({self.next}))\"\n",
    "class LinkedList:\n",
    "    \"\"\"\n",
    "    Custom Build Data type\n",
    "    Class to specify a linked list of connect Node objects\n",
    "    \"\"\"\n",
    "    def __init__(self, key, node):\n",
    "        self.head = Node(key, node)\n",
    "    \n",
    "    def add_from_head(self, key, data):\n",
    "        #adds node at the head of the linked list, in front of the current head\n",
    "        node = Node(key, data)\n",
    "        temp = self.head\n",
    "        node.next = self.head\n",
    "        self.head = node\n",
    "        \n",
    "    def add_from_tail(self, key, data):\n",
    "        #adds node at the end of the linked list\n",
    "        node = Node(key, data)\n",
    "        current = self.head\n",
    "        while current.next:\n",
    "            current = current.next\n",
    "        current.next = node\n",
    "        \n",
    "    def del_from_head(self):\n",
    "        #deletes the current head of the linked list\n",
    "        self.head = self.head.next\n",
    "    \n",
    "    def del_from_tail(self):\n",
    "        #deletes the last element of the linked list\n",
    "        current = self.head\n",
    "        while current.next.next:\n",
    "            current = current.next\n",
    "        current.next = None\n",
    "        \n",
    "    def add_at_index(self, key, data, i):\n",
    "        \"\"\"\n",
    "        adds a node at index i\n",
    "        key -> key of the node\n",
    "        data -> data value of the node\n",
    "        i -> index at which the node should be added\n",
    "        \"\"\"\n",
    "        index = 0\n",
    "        node = Node(key, data)\n",
    "        current = self.head\n",
    "        if i == 0:\n",
    "            self.add_from_head()\n",
    "        else:\n",
    "            while index != i-1:\n",
    "                index += 1\n",
    "                try:\n",
    "                    current = current.next\n",
    "                except AttributeError:\n",
    "                    print(\"Index out of range\")\n",
    "                    return\n",
    "            temp = current.next\n",
    "            current.next = node\n",
    "            node.next = temp\n",
    "        \n",
    "    def replace_at_index(self, key, data, i):\n",
    "        \"\"\"\n",
    "        replaces a node at index i\n",
    "        key -> key of the node\n",
    "        data -> data value of the node\n",
    "        i -> index at which the node should be replaced\n",
    "        \"\"\"\n",
    "        index = 0\n",
    "        node = Node(key, data)\n",
    "        current = self.head\n",
    "        if i == 0:\n",
    "            temp = current.next\n",
    "            self.head = node\n",
    "            node.next = temp\n",
    "            return\n",
    "        while index != i-1:\n",
    "            index += 1\n",
    "            try:\n",
    "                current = current.next.next\n",
    "            except AttributeError:\n",
    "                print(\"Index out of range\")\n",
    "                return\n",
    "        temp = current.next.next\n",
    "        current.next = node\n",
    "        node.next = temp\n",
    "        \n",
    "\n",
    "    def del_at_index(self, i):\n",
    "        #deletes the node at given index i\n",
    "        index = 0\n",
    "        current = self.head\n",
    "        if i == 0:\n",
    "            self.del_from_head()\n",
    "        elif i == self.__len__():\n",
    "            self.del_from_tail()\n",
    "        else:\n",
    "            while index != i - 1:\n",
    "                index += 1\n",
    "                try:\n",
    "                    current = current.next\n",
    "                except AttributeError:\n",
    "                    print(\"Index out of range\")\n",
    "                    return\n",
    "            current.next = current.next.next\n",
    "            \n",
    "    def __len__(self):\n",
    "        #returns the length of the LinkedList object\n",
    "        i = 0\n",
    "        current = self.head\n",
    "        while current:\n",
    "            i += 1\n",
    "            current = current.next\n",
    "        return i\n",
    "        \n",
    "    def __getitem__(self, i):\n",
    "        index = 0\n",
    "        current = self.head\n",
    "        while index != i:\n",
    "            index += 1\n",
    "            try:\n",
    "                current = current.next\n",
    "            except AttributeError:\n",
    "                print(\"Index out of range\")\n",
    "                return\n",
    "        return (current.key, current.data)\n",
    "    \n",
    "    def __repr__(self):\n",
    "        return_string = \"\"\n",
    "        current = self.head\n",
    "        while current:\n",
    "            return_string+=\"\".join(f\" ({current.key}, {current.data}) ->\")\n",
    "            current = current.next\n",
    "        return_string += \" None\"\n",
    "\n",
    "        return return_string"
   ]
  },
  {
   "cell_type": "markdown",
   "id": "4f0e63d5",
   "metadata": {},
   "source": [
    "## Testing LinkedList Class"
   ]
  },
  {
   "cell_type": "code",
   "execution_count": 319,
   "id": "c5a6bfcd",
   "metadata": {},
   "outputs": [
    {
     "name": "stdout",
     "output_type": "stream",
     "text": [
      " (1, 100) -> (10, 0) -> (2, 90) -> None\n"
     ]
    }
   ],
   "source": [
    "lst = [1,2,3,4,5]\n",
    "check = LinkedList(10, 0)\n",
    "check.add_from_head(1,100)\n",
    "check.add_from_tail(2,90)\n",
    "print(check)"
   ]
  },
  {
   "cell_type": "code",
   "execution_count": 320,
   "id": "0af64c0c",
   "metadata": {},
   "outputs": [],
   "source": [
    "check.replace_at_index(22, 100, 1)"
   ]
  },
  {
   "cell_type": "code",
   "execution_count": 321,
   "id": "2b4229f4",
   "metadata": {},
   "outputs": [
    {
     "name": "stdout",
     "output_type": "stream",
     "text": [
      " (1, 100) -> (22, 100) -> (2, 90) -> None\n"
     ]
    }
   ],
   "source": [
    "print(check)"
   ]
  },
  {
   "cell_type": "code",
   "execution_count": 322,
   "id": "d13fff5f",
   "metadata": {},
   "outputs": [],
   "source": [
    "check.del_at_index(2)"
   ]
  },
  {
   "cell_type": "code",
   "execution_count": 323,
   "id": "8e783cee",
   "metadata": {},
   "outputs": [
    {
     "data": {
      "text/plain": [
       "2"
      ]
     },
     "execution_count": 323,
     "metadata": {},
     "output_type": "execute_result"
    }
   ],
   "source": [
    "len(check)"
   ]
  },
  {
   "cell_type": "code",
   "execution_count": 324,
   "id": "778a802e",
   "metadata": {},
   "outputs": [],
   "source": [
    "class HashTableChaining:\n",
    "    \"\"\"\n",
    "    self.size = size of the hash table\n",
    "    self.table = hash table where the key value pairs are stored\n",
    "    key = key by which the values are inserted, deleted, searched\n",
    "    value = value stored according to the key\n",
    "    \"\"\"\n",
    "    def __init__(self, size):\n",
    "        self.size = size\n",
    "        self.table = [None] * self.size\n",
    "        \n",
    "        \n",
    "    def _hash(self, key):\n",
    "        s = 0\n",
    "        for i in key:\n",
    "            s+=ord(i)\n",
    "        return s\n",
    "    \n",
    "\n",
    "    def _hash_function(self, key):\n",
    "        return self._hash(key) % self.size\n",
    "    \n",
    "    \n",
    "    def insert(self, key, value):\n",
    "        \"\"\"\n",
    "        Insert a value at the hash index table\n",
    "        \"\"\"\n",
    "        index = self._hash_function(key)\n",
    "        while self.table[index] is not None:\n",
    "            if self.table[index][0][0] == key:\n",
    "                self.table[index].replace_at_index(key, value, index)\n",
    "            else:\n",
    "                self.table[index].add_from_tail(key, value)\n",
    "            index = (index + 1) % self.size\n",
    "            return\n",
    "        self.table[index] = LinkedList(key, value)\n",
    "        \n",
    "    \n",
    "    def search(self, key):\n",
    "        \"\"\"\n",
    "        Search for a key in the hash table and return its associated value\n",
    "        \"\"\"\n",
    "        index = self._hash_function(key)\n",
    "        while self.table[index] is not None:\n",
    "            current = self.table[index].head\n",
    "            while current:\n",
    "                if current.key == key:\n",
    "                    return (current.key, current.data)\n",
    "                else:\n",
    "                    current = current.next\n",
    "            break\n",
    "        \n",
    "        raise KeyError(f\"Key '{key}' not found\")\n",
    "    \n",
    "    \n",
    "    def delete(self, key):\n",
    "        index = self._hash_function(key)\n",
    "        i = 0\n",
    "        linked_list = self.table[index]\n",
    "        current = linked_list.head\n",
    "        while current is not None:\n",
    "            while current:\n",
    "                if current.key == key:\n",
    "                    linked_list.del_at_index(i)\n",
    "                    return\n",
    "                else:\n",
    "                    current = current.next\n",
    "                i += 1\n",
    "            break\n",
    "        \n",
    "        raise KeyError(f\"Key '{key}' not found\")\n",
    "        \n",
    "        \n",
    "    def __str__(self):\n",
    "        \"\"\"String representation of the hash table\"\"\"\n",
    "        items = []\n",
    "        for index in range(self.size):\n",
    "            if self.table[index] is not None:\n",
    "                items.append(f\"Bucket {index}: {self.table[index]}\")\n",
    "            else:\n",
    "                items.append(f\"Bucket {index}: None\")\n",
    "        return \"\\n\".join(items)"
   ]
  },
  {
   "cell_type": "markdown",
   "id": "66deee88",
   "metadata": {},
   "source": [
    "## Testing Hash Table using chaining with Linked List"
   ]
  },
  {
   "cell_type": "code",
   "execution_count": 325,
   "id": "c04d8fa6",
   "metadata": {},
   "outputs": [
    {
     "name": "stdout",
     "output_type": "stream",
     "text": [
      "Bucket 0:  (Lebron, James) -> (nrobLe, Durant) -> (Cristiano, Ronaldo) -> None\n",
      "Bucket 1: None\n",
      "Bucket 2: None\n",
      "Bucket 3: None\n",
      "Bucket 4:  (Kim, Taehyun) -> None\n"
     ]
    }
   ],
   "source": [
    "check = HashTableChaining(5)\n",
    "#insert values into the hash table\n",
    "check.insert(\"Lebron\", \"James\")\n",
    "check.insert(\"nrobLe\", \"Durant\")\n",
    "check.insert(\"Cristiano\", \"Ronaldo\")\n",
    "check.insert(\"Kim\", \"Taehyun\")\n",
    "print(check)"
   ]
  },
  {
   "cell_type": "code",
   "execution_count": 326,
   "id": "bc49552b",
   "metadata": {},
   "outputs": [
    {
     "data": {
      "text/plain": [
       "('Lebron', 'James')"
      ]
     },
     "execution_count": 326,
     "metadata": {},
     "output_type": "execute_result"
    }
   ],
   "source": [
    "#search for key, value pair in the hash table\n",
    "check.search(\"Lebron\")"
   ]
  },
  {
   "cell_type": "code",
   "execution_count": 327,
   "id": "b0f78004",
   "metadata": {},
   "outputs": [
    {
     "ename": "KeyError",
     "evalue": "\"Key 'Prashjeev' not found\"",
     "output_type": "error",
     "traceback": [
      "\u001b[1;31m---------------------------------------------------------------------------\u001b[0m",
      "\u001b[1;31mKeyError\u001b[0m                                  Traceback (most recent call last)",
      "Cell \u001b[1;32mIn[327], line 2\u001b[0m\n\u001b[0;32m      1\u001b[0m \u001b[38;5;66;03m#search for key value pair which is not in the hash table\u001b[39;00m\n\u001b[1;32m----> 2\u001b[0m \u001b[43mcheck\u001b[49m\u001b[38;5;241;43m.\u001b[39;49m\u001b[43msearch\u001b[49m\u001b[43m(\u001b[49m\u001b[38;5;124;43m\"\u001b[39;49m\u001b[38;5;124;43mPrashjeev\u001b[39;49m\u001b[38;5;124;43m\"\u001b[39;49m\u001b[43m)\u001b[49m\n",
      "Cell \u001b[1;32mIn[324], line 53\u001b[0m, in \u001b[0;36mHashTableChaining.search\u001b[1;34m(self, key)\u001b[0m\n\u001b[0;32m     50\u001b[0m             current \u001b[38;5;241m=\u001b[39m current\u001b[38;5;241m.\u001b[39mnext\n\u001b[0;32m     51\u001b[0m     \u001b[38;5;28;01mbreak\u001b[39;00m\n\u001b[1;32m---> 53\u001b[0m \u001b[38;5;28;01mraise\u001b[39;00m \u001b[38;5;167;01mKeyError\u001b[39;00m(\u001b[38;5;124mf\u001b[39m\u001b[38;5;124m\"\u001b[39m\u001b[38;5;124mKey \u001b[39m\u001b[38;5;124m'\u001b[39m\u001b[38;5;132;01m{\u001b[39;00mkey\u001b[38;5;132;01m}\u001b[39;00m\u001b[38;5;124m'\u001b[39m\u001b[38;5;124m not found\u001b[39m\u001b[38;5;124m\"\u001b[39m)\n",
      "\u001b[1;31mKeyError\u001b[0m: \"Key 'Prashjeev' not found\""
     ]
    }
   ],
   "source": [
    "#search for key value pair which is not in the hash table\n",
    "check.search(\"Prashjeev\")"
   ]
  },
  {
   "cell_type": "code",
   "execution_count": 328,
   "id": "18c631f4",
   "metadata": {},
   "outputs": [],
   "source": [
    "#delete data from hash table using key value\n",
    "check.delete(\"nrobLe\")"
   ]
  },
  {
   "cell_type": "code",
   "execution_count": 329,
   "id": "996d0b04",
   "metadata": {},
   "outputs": [
    {
     "name": "stdout",
     "output_type": "stream",
     "text": [
      "Bucket 0:  (Lebron, James) -> (Cristiano, Ronaldo) -> None\n",
      "Bucket 1: None\n",
      "Bucket 2: None\n",
      "Bucket 3: None\n",
      "Bucket 4:  (Kim, Taehyun) -> None\n"
     ]
    }
   ],
   "source": [
    "print(check)"
   ]
  },
  {
   "cell_type": "code",
   "execution_count": null,
   "id": "66f1df77",
   "metadata": {},
   "outputs": [],
   "source": []
  }
 ],
 "metadata": {
  "kernelspec": {
   "display_name": "Python 3 (ipykernel)",
   "language": "python",
   "name": "python3"
  },
  "language_info": {
   "codemirror_mode": {
    "name": "ipython",
    "version": 3
   },
   "file_extension": ".py",
   "mimetype": "text/x-python",
   "name": "python",
   "nbconvert_exporter": "python",
   "pygments_lexer": "ipython3",
   "version": "3.9.0"
  }
 },
 "nbformat": 4,
 "nbformat_minor": 5
}
