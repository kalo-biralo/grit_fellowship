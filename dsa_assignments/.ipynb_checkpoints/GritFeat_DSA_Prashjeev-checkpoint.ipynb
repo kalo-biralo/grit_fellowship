{
 "cells": [
  {
   "cell_type": "markdown",
   "id": "f80da6e4",
   "metadata": {},
   "source": [
    "## Q1"
   ]
  },
  {
   "cell_type": "code",
   "execution_count": 3,
   "id": "811887f0",
   "metadata": {},
   "outputs": [],
   "source": [
    "#reversing a string using stack\n",
    "\n",
    "class Stack:\n",
    "    \"\"\"\n",
    "    class which defines a stack that has push and pop operations\n",
    "    Attributes:\n",
    "        stack -> stack where the data is stored as a list\n",
    "        push -> add data onto the top of the stack\n",
    "        pop -> remove data and return it from the top of the stack\n",
    "    \"\"\"\n",
    "    def __init__(self):\n",
    "        self.stack = []    #use list as stack storage\n",
    "        \n",
    "    def push(self, char):\n",
    "        self.stack.append(char) #use append function of lists to push characters onto the stack\n",
    "        \n",
    "    def pop(self):\n",
    "        if not self.isEmpty():       #check if the stack is empty\n",
    "            return self.stack.pop()  #use pop function of lists to get the element at the top of the stack\n",
    "    \n",
    "    def isEmpty(self):\n",
    "        return not bool(self.stack)"
   ]
  },
  {
   "cell_type": "code",
   "execution_count": 4,
   "id": "8aba4547",
   "metadata": {},
   "outputs": [],
   "source": [
    "def reverse_using_stack(string):\n",
    "    \"\"\"\n",
    "    string -> string to be reversed\n",
    "    use stack class to reverse a string\n",
    "    returns -> reverse of a string\n",
    "    \"\"\"\n",
    "    word = Stack()\n",
    "    reverse_word = \"\" #empty string to represent the reversed word\n",
    "    for i in string: #word is pushed onto the stack\n",
    "        word.push(i)\n",
    "    while len(word.stack) > 0:\n",
    "        reverse_word += word.pop() #word is popped out of the stack in reverse order LIFO\n",
    "    return reverse_word"
   ]
  },
  {
   "cell_type": "code",
   "execution_count": 5,
   "id": "f7870eda",
   "metadata": {},
   "outputs": [],
   "source": [
    "class Node:\n",
    "    \"\"\"\n",
    "    class to represent each node in the linked list. Linked list is made up of connected nodes\n",
    "    each node has two objects associated with it. data and next.\n",
    "    \"\"\"\n",
    "    def __init__(self, data):\n",
    "        self.data = data #value to be stored in the node\n",
    "        self.next = None #contains the next node in the linked_list\n",
    "\n",
    "class LinkedList:\n",
    "    \"\"\"\n",
    "    LinkedList class for connecting the node classes and making a linked list\n",
    "    append function adds new values to the end of the linked list\n",
    "    pop function retrieves the last value from the linked list\n",
    "    \"\"\"\n",
    "    def __init__(self):\n",
    "        self.head = None #first node in the linked list, initialized to none.\n",
    "\n",
    "    def append(self, data):\n",
    "        #function to add new data into the linked list\n",
    "        new_node = Node(data) #create new_node object of Node class from data, as linked list is a connection of node obj\n",
    "        if not self.head: #check is list is empty\n",
    "            self.head = new_node #assign the new_node as the starting node/head node\n",
    "            return\n",
    "        last_node = self.head \n",
    "        while last_node.next:\n",
    "            last_node = last_node.next #runs until it finds the last node and assigns it to last_node\n",
    "        last_node.next = new_node #the node to be added is added to the next value of the last node object\n",
    "        \n",
    "\n",
    "    def pop(self):\n",
    "        #function to retrieve the final node from the linked list\n",
    "        if not self.head: #check if empty linked list\n",
    "            return None\n",
    "        if not self.head.next: #check if only one item in the linked list\n",
    "            pop_data = self.head.data\n",
    "            self.head = None\n",
    "            return pop_data\n",
    "        prev = None\n",
    "        current = self.head\n",
    "        while current.next: #traverse to the last node and assign the final two nodes to prev and current\n",
    "            prev = current\n",
    "            current = current.next\n",
    "        #return the last node and replace the next value of the second last node with None\n",
    "        pop_data = current.data \n",
    "        prev.next = None\n",
    "        return pop_data\n"
   ]
  },
  {
   "cell_type": "code",
   "execution_count": 6,
   "id": "f1a24082",
   "metadata": {},
   "outputs": [],
   "source": [
    "def reverse_using_linked_list(input_string):\n",
    "    \"\"\"\n",
    "    input_string -> string to be reversed\n",
    "    function to reverse a string using linked list class\n",
    "    returns -> reverse of the string\n",
    "    \"\"\"\n",
    "    linked_list = LinkedList()\n",
    "    for char in input_string:\n",
    "        linked_list.append(char)\n",
    "    reversed_string = \"\"\n",
    "    while True:\n",
    "        char = linked_list.pop()\n",
    "        if char:\n",
    "            reversed_string += char\n",
    "        else:\n",
    "            break\n",
    "    return reversed_string"
   ]
  },
  {
   "cell_type": "code",
   "execution_count": 7,
   "id": "9e9464ea",
   "metadata": {},
   "outputs": [
    {
     "name": "stdout",
     "output_type": "stream",
     "text": [
      "No error\n"
     ]
    }
   ],
   "source": [
    "def reverse_string(string):\n",
    "    lst = list(string)\n",
    "    lst.reverse()\n",
    "    return \"\".join(lst)\n",
    "\n",
    "\n",
    "list_of_words = [\"Prashjeev\", \"check\", \"air\", \"rap\", \"drake\", \"anime\", \"korea\", \"nepal\", \"Harrison Ford\"]\n",
    "\n",
    "def testing_reverse_stack_linked_list(lists):\n",
    "    for word in list_of_words:\n",
    "        assert reverse_using_stack(word) == reverse_string(word), \"reverse using stack raised error\"\n",
    "        assert reverse_using_linked_list(word) == reverse_string(word), \"reverse using linked list raised an error\"\n",
    "    print(\"No error\")\n",
    "    \n",
    "testing_reverse_stack_linked_list(list_of_words)"
   ]
  },
  {
   "cell_type": "markdown",
   "id": "7f403a2e",
   "metadata": {},
   "source": [
    "## Q2"
   ]
  },
  {
   "cell_type": "code",
   "execution_count": 12,
   "id": "f89b371f",
   "metadata": {},
   "outputs": [],
   "source": [
    "#q2\n",
    "\n",
    "import numpy as np\n",
    "\n",
    "class MaxHeap:\n",
    "    \"\"\"\n",
    "    Max Heap class, where the array follows the heap property of each parent node being bigger than its child nodes\n",
    "    heap property -> all the parent nodes must be greater than thier child node\n",
    "    indexing method:\n",
    "        left child = 2 * i + 1\n",
    "        right child = 2 * i + 2 \n",
    "        where, i is the index of the parent node\n",
    "    \"\"\"\n",
    "    def __init__(self, arr):\n",
    "        #builds an array ie self.heap which follows the max heap property\n",
    "        self.heap = self.__buildMaxHeap(arr)\n",
    "        \n",
    "    def __heapify(self, arr, n, h):\n",
    "        \"\"\"     \n",
    "        h -> heap size\n",
    "        n -> array size\n",
    "        arr -> given array\n",
    "        takes the element at index h and checks whether it follows the heap property and the element trickles down the\n",
    "        tree until it satisfies the heap property\n",
    "        \"\"\"\n",
    "        largest = h\n",
    "        l = 2*h + 1\n",
    "        r = 2*h + 2\n",
    "        if l < n and arr[l] > arr[largest]:\n",
    "            largest = l\n",
    "        if r < n and arr[r] > arr[largest]:\n",
    "            largest = r\n",
    "        if largest != h:\n",
    "            (arr[h], arr[largest]) = (arr[largest], arr[h])\n",
    "            self.__heapify(arr, n, largest)\n",
    "        \n",
    "    def __buildMaxHeap(self, arr):\n",
    "        #calls __heapify function from the last parent node, so that entire array satisfies heap property\n",
    "        for i in range(len(arr)//2, -1, -1):\n",
    "            self.__heapify(arr, len(arr), i)\n",
    "        return arr\n",
    "    \n",
    "    def heapSort(self):\n",
    "        \"\"\"\n",
    "        Exchanges the element at 0 index, which the the largest element with the last element.\n",
    "        After each exchange the array is heapified to identify the next largest element \n",
    "        The number of elements being heapified decreases by one after each exchange\n",
    "        This process is repeated until number of elements being heapified is 1\n",
    "        \"\"\"\n",
    "        for i in range(len(self.heap)- 1, 0, -1):\n",
    "            (self.heap[i], self.heap[0]) = (self.heap[0], self.heap[i]) \n",
    "            self.__heapify(self.heap, i, 0) \n",
    "        "
   ]
  },
  {
   "cell_type": "code",
   "execution_count": 13,
   "id": "c36399c6",
   "metadata": {},
   "outputs": [],
   "source": [
    "def findKthLargestHeapSort(lst, k):\n",
    "    heap = MaxHeap(lst)\n",
    "    heap.heapSort()\n",
    "    return heap.heap[-k]"
   ]
  },
  {
   "cell_type": "code",
   "execution_count": 14,
   "id": "19f5b83a",
   "metadata": {},
   "outputs": [],
   "source": [
    "def KthLargestForTest(lst, k):\n",
    "    lst.sort()\n",
    "    return lst[-k]"
   ]
  },
  {
   "cell_type": "code",
   "execution_count": 15,
   "id": "c59af891",
   "metadata": {},
   "outputs": [
    {
     "name": "stdout",
     "output_type": "stream",
     "text": [
      "No error\n"
     ]
    }
   ],
   "source": [
    "lst = [4,2,5,23,5,23,445,2,42,4,2,103,4,333,43857,2]\n",
    "\n",
    "\n",
    "def testing_kth_largest(lists):\n",
    "    for i in range(10):\n",
    "        k = int(np.random.rand() * len(lists))\n",
    "        assert findKthLargestHeapSort(lists, k) == KthLargestForTest(lists, k), \"Kth largest element did not match\"\n",
    "    print(\"No error\")\n",
    "\n",
    "testing_kth_largest(lst)"
   ]
  },
  {
   "cell_type": "markdown",
   "id": "b805415c",
   "metadata": {},
   "source": [
    "## Q3"
   ]
  },
  {
   "cell_type": "code",
   "execution_count": 75,
   "id": "0c2d4006",
   "metadata": {},
   "outputs": [],
   "source": [
    "#q3\n",
    "\n",
    "class PlusOneList(list):\n",
    "    \"\"\"\n",
    "    PlusOneList class inherits from list class\n",
    "    Only accepts lists and those lists must be all integer values\n",
    "    It has one extra method, add_one()\n",
    "    The add_one method increments the integer list by 1\n",
    "    For Example:\n",
    "    Input : [1,2,3]\n",
    "    Output: [1,2,4]\n",
    "    \n",
    "    \"\"\"\n",
    "    def __init__(self, input_list):\n",
    "        # Validate that input_list is a list\n",
    "        if not isinstance(input_list, list):\n",
    "            raise TypeError(\"Input must be a list\")\n",
    "\n",
    "        # Validate that all elements in the input_list are integers\n",
    "        if not all(isinstance(x, int) for x in input_list):\n",
    "            raise ValueError(\"List must contain only integers\")\n",
    "        #initialize the custom list using base class constructor\n",
    "        super().__init__(input_list)\n",
    "    \n",
    "    def add_one(self):\n",
    "        #adds one to the list of integers as if it were a single integer\n",
    "#       For Example:\n",
    "#       Input : [9,9,9]\n",
    "#       Output: [1,0,0,0]\n",
    "        for i in range(len(self)-1, -1, -1):     #loop from the last index to the first\n",
    "            if self[i] != 9: \n",
    "                self[i] += 1                     #increment integer by 1 at index i and exit the loop if not 9\n",
    "                break\n",
    "            else:\n",
    "                self[i] = 0                      #if index i is a 9, change it to 0 and check the next index ie i-1\n",
    "        if self[0] == 0:\n",
    "            self = [1] + self                    #if all the integer values were 9, concatenate the list with [1]"
   ]
  },
  {
   "cell_type": "code",
   "execution_count": 126,
   "id": "f4001ee5",
   "metadata": {},
   "outputs": [
    {
     "data": {
      "text/plain": [
       "[1, 2, 4]"
      ]
     },
     "execution_count": 126,
     "metadata": {},
     "output_type": "execute_result"
    }
   ],
   "source": [
    "def add_one_check(arr):\n",
    "    \"\"\"\n",
    "    test code to check the add_one method in PlusOneList class works correctly\n",
    "    \"\"\"\n",
    "    integer = 0\n",
    "    for i in range(len(arr)-1, -1, -1):\n",
    "        integer += arr[-i-1] * pow(10, i)\n",
    "    integer += 1\n",
    "    return [int(x) for x in str(integer)]\n",
    "\n",
    "add_one_check([1,2,3])"
   ]
  },
  {
   "cell_type": "code",
   "execution_count": 133,
   "id": "334a48c1",
   "metadata": {},
   "outputs": [
    {
     "name": "stdout",
     "output_type": "stream",
     "text": [
      "No error\n"
     ]
    }
   ],
   "source": [
    "import random\n",
    "def testing_add_one_method():\n",
    "    \"\"\"\n",
    "    test function to check that the add_one method of the PlusOneList class works correc \n",
    "    \"\"\"\n",
    "    for i in range(5):\n",
    "        lst = [random.randint(1, 9) for _ in range(6)]\n",
    "        check_add_one = PlusOneList(lst)\n",
    "        check_add_one.add_one()\n",
    "        assert check_add_one == add_one_check(lst), \"the two methods did not output the same list\"\n",
    "    print(\"No error\")\n",
    "testing_add_one_method()"
   ]
  }
 ],
 "metadata": {
  "kernelspec": {
   "display_name": "Python 3 (ipykernel)",
   "language": "python",
   "name": "python3"
  },
  "language_info": {
   "codemirror_mode": {
    "name": "ipython",
    "version": 3
   },
   "file_extension": ".py",
   "mimetype": "text/x-python",
   "name": "python",
   "nbconvert_exporter": "python",
   "pygments_lexer": "ipython3",
   "version": "3.9.0"
  }
 },
 "nbformat": 4,
 "nbformat_minor": 5
}
