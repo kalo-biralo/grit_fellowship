{
 "cells": [
  {
   "cell_type": "code",
   "execution_count": 1,
   "id": "97989d41",
   "metadata": {
    "_cell_guid": "b1076dfc-b9ad-4769-8c92-a6c4dae69d19",
    "_uuid": "8f2839f25d086af736a60e9eeb907d3b93b6e0e5",
    "execution": {
     "iopub.execute_input": "2024-05-24T21:35:23.125316Z",
     "iopub.status.busy": "2024-05-24T21:35:23.124894Z",
     "iopub.status.idle": "2024-05-24T21:35:31.758805Z",
     "shell.execute_reply": "2024-05-24T21:35:31.757754Z"
    },
    "papermill": {
     "duration": 8.656699,
     "end_time": "2024-05-24T21:35:31.761551",
     "exception": false,
     "start_time": "2024-05-24T21:35:23.104852",
     "status": "completed"
    },
    "tags": []
   },
   "outputs": [],
   "source": [
    "import torch\n",
    "import torch.nn as nn\n",
    "import torch.optim as optim\n",
    "import random\n",
    "import numpy as np\n",
    "import pandas as pd\n",
    "import re\n",
    "from collections import Counter\n",
    "from sklearn.model_selection import train_test_split\n",
    "import matplotlib.pyplot as plt\n",
    "from torchvision.transforms import ToTensor\n",
    "from torch.utils.data import DataLoader, TensorDataset\n",
    "import os"
   ]
  },
  {
   "cell_type": "code",
   "execution_count": 2,
   "id": "a53bbc53",
   "metadata": {
    "execution": {
     "iopub.execute_input": "2024-05-24T21:35:31.798369Z",
     "iopub.status.busy": "2024-05-24T21:35:31.797550Z",
     "iopub.status.idle": "2024-05-24T21:35:31.852340Z",
     "shell.execute_reply": "2024-05-24T21:35:31.851312Z"
    },
    "papermill": {
     "duration": 0.075814,
     "end_time": "2024-05-24T21:35:31.854742",
     "exception": false,
     "start_time": "2024-05-24T21:35:31.778928",
     "status": "completed"
    },
    "tags": []
   },
   "outputs": [
    {
     "name": "stdout",
     "output_type": "stream",
     "text": [
      "Using device: cuda\n"
     ]
    }
   ],
   "source": [
    "device = torch.device(\"cuda\" if torch.cuda.is_available() else \"cpu\")\n",
    "print(f\"Using device: {device}\")"
   ]
  },
  {
   "cell_type": "code",
   "execution_count": 3,
   "id": "2eaeb849",
   "metadata": {
    "execution": {
     "iopub.execute_input": "2024-05-24T21:35:31.891476Z",
     "iopub.status.busy": "2024-05-24T21:35:31.890649Z",
     "iopub.status.idle": "2024-05-24T21:35:31.944884Z",
     "shell.execute_reply": "2024-05-24T21:35:31.943916Z"
    },
    "papermill": {
     "duration": 0.074979,
     "end_time": "2024-05-24T21:35:31.947346",
     "exception": false,
     "start_time": "2024-05-24T21:35:31.872367",
     "status": "completed"
    },
    "tags": []
   },
   "outputs": [
    {
     "data": {
      "text/html": [
       "<div>\n",
       "<style scoped>\n",
       "    .dataframe tbody tr th:only-of-type {\n",
       "        vertical-align: middle;\n",
       "    }\n",
       "\n",
       "    .dataframe tbody tr th {\n",
       "        vertical-align: top;\n",
       "    }\n",
       "\n",
       "    .dataframe thead th {\n",
       "        text-align: right;\n",
       "    }\n",
       "</style>\n",
       "<table border=\"1\" class=\"dataframe\">\n",
       "  <thead>\n",
       "    <tr style=\"text-align: right;\">\n",
       "      <th></th>\n",
       "      <th>English</th>\n",
       "      <th>Nepali</th>\n",
       "      <th>Attribution</th>\n",
       "    </tr>\n",
       "  </thead>\n",
       "  <tbody>\n",
       "    <tr>\n",
       "      <th>2684</th>\n",
       "      <td>Tom told Mary that he thought a hippopotamus c...</td>\n",
       "      <td>टमले मेरीलाई भन्यो कि उसले सोचेको थियो कि हिप्...</td>\n",
       "      <td>CC-BY 2.0 (France) Attribution: tatoeba.org #1...</td>\n",
       "    </tr>\n",
       "    <tr>\n",
       "      <th>2685</th>\n",
       "      <td>I don't remember how old I was when I first he...</td>\n",
       "      <td>मैले त्यो गीत पहिलो पटक सुन्दा म कति वर्षको थि...</td>\n",
       "      <td>CC-BY 2.0 (France) Attribution: tatoeba.org #1...</td>\n",
       "    </tr>\n",
       "    <tr>\n",
       "      <th>2686</th>\n",
       "      <td>I don't remember how many bottle of wine we dr...</td>\n",
       "      <td>हामीले कति बोतल वाइन पियौं मलाई याद छैन, तर मल...</td>\n",
       "      <td>CC-BY 2.0 (France) Attribution: tatoeba.org #1...</td>\n",
       "    </tr>\n",
       "    <tr>\n",
       "      <th>2687</th>\n",
       "      <td>The difference between the right word and almo...</td>\n",
       "      <td>सही शब्द र लगभग सही शब्द बीचको भिन्नता बत्ति र...</td>\n",
       "      <td>CC-BY 2.0 (France) Attribution: tatoeba.org #6...</td>\n",
       "    </tr>\n",
       "    <tr>\n",
       "      <th>2688</th>\n",
       "      <td>When Tom was walking down the street at night,...</td>\n",
       "      <td>टमलाई राति सडकमा एक अपरिचित व्यक्तिले चक्कु दे...</td>\n",
       "      <td>CC-BY 2.0 (France) Attribution: tatoeba.org #2...</td>\n",
       "    </tr>\n",
       "  </tbody>\n",
       "</table>\n",
       "</div>"
      ],
      "text/plain": [
       "                                                English  \\\n",
       "2684  Tom told Mary that he thought a hippopotamus c...   \n",
       "2685  I don't remember how old I was when I first he...   \n",
       "2686  I don't remember how many bottle of wine we dr...   \n",
       "2687  The difference between the right word and almo...   \n",
       "2688  When Tom was walking down the street at night,...   \n",
       "\n",
       "                                                 Nepali  \\\n",
       "2684  टमले मेरीलाई भन्यो कि उसले सोचेको थियो कि हिप्...   \n",
       "2685  मैले त्यो गीत पहिलो पटक सुन्दा म कति वर्षको थि...   \n",
       "2686  हामीले कति बोतल वाइन पियौं मलाई याद छैन, तर मल...   \n",
       "2687  सही शब्द र लगभग सही शब्द बीचको भिन्नता बत्ति र...   \n",
       "2688  टमलाई राति सडकमा एक अपरिचित व्यक्तिले चक्कु दे...   \n",
       "\n",
       "                                            Attribution  \n",
       "2684  CC-BY 2.0 (France) Attribution: tatoeba.org #1...  \n",
       "2685  CC-BY 2.0 (France) Attribution: tatoeba.org #1...  \n",
       "2686  CC-BY 2.0 (France) Attribution: tatoeba.org #1...  \n",
       "2687  CC-BY 2.0 (France) Attribution: tatoeba.org #6...  \n",
       "2688  CC-BY 2.0 (France) Attribution: tatoeba.org #2...  "
      ]
     },
     "execution_count": 3,
     "metadata": {},
     "output_type": "execute_result"
    }
   ],
   "source": [
    "df = pd.read_csv('/kaggle/input/english-to-nepali-text/npi.txt', delimiter='\\t', header=None, names=['English', 'Nepali', 'Attribution'])\n",
    "\n",
    "df.tail()"
   ]
  },
  {
   "cell_type": "code",
   "execution_count": 4,
   "id": "1c68a626",
   "metadata": {
    "execution": {
     "iopub.execute_input": "2024-05-24T21:35:31.986033Z",
     "iopub.status.busy": "2024-05-24T21:35:31.985268Z",
     "iopub.status.idle": "2024-05-24T21:35:31.994524Z",
     "shell.execute_reply": "2024-05-24T21:35:31.993553Z"
    },
    "papermill": {
     "duration": 0.030324,
     "end_time": "2024-05-24T21:35:31.996875",
     "exception": false,
     "start_time": "2024-05-24T21:35:31.966551",
     "status": "completed"
    },
    "tags": []
   },
   "outputs": [],
   "source": [
    "df.drop(columns=['Attribution'], inplace=True)"
   ]
  },
  {
   "cell_type": "code",
   "execution_count": 5,
   "id": "02913963",
   "metadata": {
    "execution": {
     "iopub.execute_input": "2024-05-24T21:35:32.035655Z",
     "iopub.status.busy": "2024-05-24T21:35:32.034914Z",
     "iopub.status.idle": "2024-05-24T21:35:32.044410Z",
     "shell.execute_reply": "2024-05-24T21:35:32.043489Z"
    },
    "papermill": {
     "duration": 0.030301,
     "end_time": "2024-05-24T21:35:32.046835",
     "exception": false,
     "start_time": "2024-05-24T21:35:32.016534",
     "status": "completed"
    },
    "tags": []
   },
   "outputs": [
    {
     "data": {
      "text/html": [
       "<div>\n",
       "<style scoped>\n",
       "    .dataframe tbody tr th:only-of-type {\n",
       "        vertical-align: middle;\n",
       "    }\n",
       "\n",
       "    .dataframe tbody tr th {\n",
       "        vertical-align: top;\n",
       "    }\n",
       "\n",
       "    .dataframe thead th {\n",
       "        text-align: right;\n",
       "    }\n",
       "</style>\n",
       "<table border=\"1\" class=\"dataframe\">\n",
       "  <thead>\n",
       "    <tr style=\"text-align: right;\">\n",
       "      <th></th>\n",
       "      <th>English</th>\n",
       "      <th>Nepali</th>\n",
       "    </tr>\n",
       "  </thead>\n",
       "  <tbody>\n",
       "    <tr>\n",
       "      <th>0</th>\n",
       "      <td>Who?</td>\n",
       "      <td>को?</td>\n",
       "    </tr>\n",
       "    <tr>\n",
       "      <th>1</th>\n",
       "      <td>Hide.</td>\n",
       "      <td>लुकाउनुहोस्।</td>\n",
       "    </tr>\n",
       "    <tr>\n",
       "      <th>2</th>\n",
       "      <td>Hide.</td>\n",
       "      <td>लुक।</td>\n",
       "    </tr>\n",
       "    <tr>\n",
       "      <th>3</th>\n",
       "      <td>Stay.</td>\n",
       "      <td>बस्नुहोस्।</td>\n",
       "    </tr>\n",
       "    <tr>\n",
       "      <th>4</th>\n",
       "      <td>Hello!</td>\n",
       "      <td>नमस्ते!</td>\n",
       "    </tr>\n",
       "  </tbody>\n",
       "</table>\n",
       "</div>"
      ],
      "text/plain": [
       "  English        Nepali\n",
       "0    Who?           को?\n",
       "1   Hide.  लुकाउनुहोस्।\n",
       "2   Hide.          लुक।\n",
       "3   Stay.    बस्नुहोस्।\n",
       "4  Hello!       नमस्ते!"
      ]
     },
     "execution_count": 5,
     "metadata": {},
     "output_type": "execute_result"
    }
   ],
   "source": [
    "df.head()"
   ]
  },
  {
   "cell_type": "code",
   "execution_count": 6,
   "id": "b2f1f08c",
   "metadata": {
    "execution": {
     "iopub.execute_input": "2024-05-24T21:35:32.084911Z",
     "iopub.status.busy": "2024-05-24T21:35:32.084028Z",
     "iopub.status.idle": "2024-05-24T21:35:32.090225Z",
     "shell.execute_reply": "2024-05-24T21:35:32.089141Z"
    },
    "papermill": {
     "duration": 0.026331,
     "end_time": "2024-05-24T21:35:32.092327",
     "exception": false,
     "start_time": "2024-05-24T21:35:32.065996",
     "status": "completed"
    },
    "tags": []
   },
   "outputs": [
    {
     "data": {
      "text/plain": [
       "2689"
      ]
     },
     "execution_count": 6,
     "metadata": {},
     "output_type": "execute_result"
    }
   ],
   "source": [
    "len(df)"
   ]
  },
  {
   "cell_type": "code",
   "execution_count": 7,
   "id": "4a691f96",
   "metadata": {
    "execution": {
     "iopub.execute_input": "2024-05-24T21:35:32.128724Z",
     "iopub.status.busy": "2024-05-24T21:35:32.127982Z",
     "iopub.status.idle": "2024-05-24T21:35:32.132743Z",
     "shell.execute_reply": "2024-05-24T21:35:32.131767Z"
    },
    "papermill": {
     "duration": 0.025005,
     "end_time": "2024-05-24T21:35:32.134784",
     "exception": false,
     "start_time": "2024-05-24T21:35:32.109779",
     "status": "completed"
    },
    "tags": []
   },
   "outputs": [],
   "source": [
    "english_sentences = df.loc[:, 'English']"
   ]
  },
  {
   "cell_type": "code",
   "execution_count": 8,
   "id": "c4ee2415",
   "metadata": {
    "execution": {
     "iopub.execute_input": "2024-05-24T21:35:32.171609Z",
     "iopub.status.busy": "2024-05-24T21:35:32.170791Z",
     "iopub.status.idle": "2024-05-24T21:35:32.175438Z",
     "shell.execute_reply": "2024-05-24T21:35:32.174521Z"
    },
    "papermill": {
     "duration": 0.025134,
     "end_time": "2024-05-24T21:35:32.177440",
     "exception": false,
     "start_time": "2024-05-24T21:35:32.152306",
     "status": "completed"
    },
    "tags": []
   },
   "outputs": [],
   "source": [
    "nepali_sentences = df.loc[:, 'Nepali']"
   ]
  },
  {
   "cell_type": "code",
   "execution_count": 9,
   "id": "d41f5492",
   "metadata": {
    "execution": {
     "iopub.execute_input": "2024-05-24T21:35:32.216192Z",
     "iopub.status.busy": "2024-05-24T21:35:32.215457Z",
     "iopub.status.idle": "2024-05-24T21:35:32.221970Z",
     "shell.execute_reply": "2024-05-24T21:35:32.220997Z"
    },
    "papermill": {
     "duration": 0.029578,
     "end_time": "2024-05-24T21:35:32.224536",
     "exception": false,
     "start_time": "2024-05-24T21:35:32.194958",
     "status": "completed"
    },
    "tags": []
   },
   "outputs": [
    {
     "name": "stdout",
     "output_type": "stream",
     "text": [
      "0     Who?\n",
      "1    Hide.\n",
      "Name: English, dtype: object\n",
      "0             को?\n",
      "1    लुकाउनुहोस्।\n",
      "Name: Nepali, dtype: object\n"
     ]
    }
   ],
   "source": [
    "print(english_sentences[:2])\n",
    "print(nepali_sentences[:2])"
   ]
  },
  {
   "cell_type": "code",
   "execution_count": 10,
   "id": "5df52091",
   "metadata": {
    "execution": {
     "iopub.execute_input": "2024-05-24T21:35:32.262623Z",
     "iopub.status.busy": "2024-05-24T21:35:32.261992Z",
     "iopub.status.idle": "2024-05-24T21:35:32.267676Z",
     "shell.execute_reply": "2024-05-24T21:35:32.266661Z"
    },
    "papermill": {
     "duration": 0.027115,
     "end_time": "2024-05-24T21:35:32.269915",
     "exception": false,
     "start_time": "2024-05-24T21:35:32.242800",
     "status": "completed"
    },
    "tags": []
   },
   "outputs": [],
   "source": [
    "import unicodedata\n",
    "# Unicode normalization\n",
    "def normalize_unicode(s):\n",
    "    return ''.join(c for c in unicodedata.normalize('NFD', s)\n",
    "        if unicodedata.category(c) != 'Mn')"
   ]
  },
  {
   "cell_type": "code",
   "execution_count": 11,
   "id": "1c38e8e6",
   "metadata": {
    "execution": {
     "iopub.execute_input": "2024-05-24T21:35:32.308320Z",
     "iopub.status.busy": "2024-05-24T21:35:32.307478Z",
     "iopub.status.idle": "2024-05-24T21:35:32.313580Z",
     "shell.execute_reply": "2024-05-24T21:35:32.312614Z"
    },
    "papermill": {
     "duration": 0.027846,
     "end_time": "2024-05-24T21:35:32.315944",
     "exception": false,
     "start_time": "2024-05-24T21:35:32.288098",
     "status": "completed"
    },
    "tags": []
   },
   "outputs": [],
   "source": [
    "def preprocess_sentence(s):\n",
    "#   s = normalize_unicode(s)\n",
    "  s = s.lower()\n",
    "  s = re.sub(r\"([?.!।,¿])\", r\" \\1 \", s)\n",
    "  s = re.sub(r'[@#]', '', s)\n",
    "  s = re.sub(r'\\d+', '', s)\n",
    "  s = re.sub(r'[\" \"]+', \" \", s)\n",
    "  s = s.strip()\n",
    "  return s"
   ]
  },
  {
   "cell_type": "code",
   "execution_count": 12,
   "id": "2327f00e",
   "metadata": {
    "execution": {
     "iopub.execute_input": "2024-05-24T21:35:32.352405Z",
     "iopub.status.busy": "2024-05-24T21:35:32.352058Z",
     "iopub.status.idle": "2024-05-24T21:35:32.453163Z",
     "shell.execute_reply": "2024-05-24T21:35:32.452147Z"
    },
    "papermill": {
     "duration": 0.121988,
     "end_time": "2024-05-24T21:35:32.455793",
     "exception": false,
     "start_time": "2024-05-24T21:35:32.333805",
     "status": "completed"
    },
    "tags": []
   },
   "outputs": [],
   "source": [
    "preprocessed_english = english_sentences.apply(preprocess_sentence)\n",
    "preprocessed_nepali = nepali_sentences.apply(preprocess_sentence)"
   ]
  },
  {
   "cell_type": "code",
   "execution_count": 13,
   "id": "ac66affb",
   "metadata": {
    "execution": {
     "iopub.execute_input": "2024-05-24T21:35:32.492955Z",
     "iopub.status.busy": "2024-05-24T21:35:32.492542Z",
     "iopub.status.idle": "2024-05-24T21:35:32.500017Z",
     "shell.execute_reply": "2024-05-24T21:35:32.499066Z"
    },
    "papermill": {
     "duration": 0.028931,
     "end_time": "2024-05-24T21:35:32.502476",
     "exception": false,
     "start_time": "2024-05-24T21:35:32.473545",
     "status": "completed"
    },
    "tags": []
   },
   "outputs": [
    {
     "data": {
      "text/plain": [
       "0      who ?\n",
       "1     hide .\n",
       "2     hide .\n",
       "3     stay .\n",
       "4    hello !\n",
       "Name: English, dtype: object"
      ]
     },
     "execution_count": 13,
     "metadata": {},
     "output_type": "execute_result"
    }
   ],
   "source": [
    "preprocessed_english.head()"
   ]
  },
  {
   "cell_type": "code",
   "execution_count": 14,
   "id": "a68ea04c",
   "metadata": {
    "execution": {
     "iopub.execute_input": "2024-05-24T21:35:32.543070Z",
     "iopub.status.busy": "2024-05-24T21:35:32.542314Z",
     "iopub.status.idle": "2024-05-24T21:35:32.550385Z",
     "shell.execute_reply": "2024-05-24T21:35:32.549240Z"
    },
    "papermill": {
     "duration": 0.030035,
     "end_time": "2024-05-24T21:35:32.552711",
     "exception": false,
     "start_time": "2024-05-24T21:35:32.522676",
     "status": "completed"
    },
    "tags": []
   },
   "outputs": [
    {
     "data": {
      "text/plain": [
       "0             को ?\n",
       "1    लुकाउनुहोस् ।\n",
       "2            लुक ।\n",
       "3      बस्नुहोस् ।\n",
       "4         नमस्ते !\n",
       "Name: Nepali, dtype: object"
      ]
     },
     "execution_count": 14,
     "metadata": {},
     "output_type": "execute_result"
    }
   ],
   "source": [
    "preprocessed_nepali.head()"
   ]
  },
  {
   "cell_type": "code",
   "execution_count": 15,
   "id": "9fb43b71",
   "metadata": {
    "execution": {
     "iopub.execute_input": "2024-05-24T21:35:32.593326Z",
     "iopub.status.busy": "2024-05-24T21:35:32.592992Z",
     "iopub.status.idle": "2024-05-24T21:35:32.602283Z",
     "shell.execute_reply": "2024-05-24T21:35:32.601320Z"
    },
    "papermill": {
     "duration": 0.031578,
     "end_time": "2024-05-24T21:35:32.604518",
     "exception": false,
     "start_time": "2024-05-24T21:35:32.572940",
     "status": "completed"
    },
    "tags": []
   },
   "outputs": [],
   "source": [
    "nepali_sentences_preprocessed = preprocessed_nepali.apply(lambda x: (' ').join(['<sos>', x, '<eos>']))\n",
    "english_sentences_preprocessed = preprocessed_english.apply(lambda x: (' ').join(['<sos>', x, '<eos>']))"
   ]
  },
  {
   "cell_type": "code",
   "execution_count": 16,
   "id": "819e1e9c",
   "metadata": {
    "execution": {
     "iopub.execute_input": "2024-05-24T21:35:32.643985Z",
     "iopub.status.busy": "2024-05-24T21:35:32.643321Z",
     "iopub.status.idle": "2024-05-24T21:35:32.653735Z",
     "shell.execute_reply": "2024-05-24T21:35:32.652797Z"
    },
    "papermill": {
     "duration": 0.032242,
     "end_time": "2024-05-24T21:35:32.655843",
     "exception": false,
     "start_time": "2024-05-24T21:35:32.623601",
     "status": "completed"
    },
    "tags": []
   },
   "outputs": [
    {
     "data": {
      "text/plain": [
       "2270    <sos> टम तपाईले सोचे जस्तो बुद्धिमानी छैन । <eos>\n",
       "1056                     <sos> टमले जताततै खोज्यो । <eos>\n",
       "2298    <sos> मलाई लाग्दैन कि यो धेरै राम्रो विचार हो ...\n",
       "1949    <sos> माफ गर्नुहोस् , के तपाईं यहाँको विद्यार्...\n",
       "2514    <sos> तपाईंसँग सम्पर्कमा रहन उत्तम तरिका के हो...\n",
       "1400                 <sos> त्यो घर साँच्चै सानो छ । <eos>\n",
       "Name: Nepali, dtype: object"
      ]
     },
     "execution_count": 16,
     "metadata": {},
     "output_type": "execute_result"
    }
   ],
   "source": [
    "nepali_sentences_preprocessed.sample(6)"
   ]
  },
  {
   "cell_type": "code",
   "execution_count": 17,
   "id": "47837f9a",
   "metadata": {
    "execution": {
     "iopub.execute_input": "2024-05-24T21:35:32.695330Z",
     "iopub.status.busy": "2024-05-24T21:35:32.694967Z",
     "iopub.status.idle": "2024-05-24T21:35:32.703027Z",
     "shell.execute_reply": "2024-05-24T21:35:32.702022Z"
    },
    "papermill": {
     "duration": 0.030286,
     "end_time": "2024-05-24T21:35:32.705234",
     "exception": false,
     "start_time": "2024-05-24T21:35:32.674948",
     "status": "completed"
    },
    "tags": []
   },
   "outputs": [
    {
     "data": {
      "text/plain": [
       "1638          <sos> i am searching for my brother . <eos>\n",
       "1424             <sos> tom is working with us now . <eos>\n",
       "1319              <sos> tom was quicker than mary . <eos>\n",
       "1425             <sos> tom lives with his parents . <eos>\n",
       "2558    <sos> thanks for your suggestion . i'll think ...\n",
       "2281    <sos> what's the weather like in boston now ? ...\n",
       "Name: English, dtype: object"
      ]
     },
     "execution_count": 17,
     "metadata": {},
     "output_type": "execute_result"
    }
   ],
   "source": [
    "english_sentences_preprocessed.sample(6)"
   ]
  },
  {
   "cell_type": "code",
   "execution_count": 18,
   "id": "1ce0a7d5",
   "metadata": {
    "execution": {
     "iopub.execute_input": "2024-05-24T21:35:32.744277Z",
     "iopub.status.busy": "2024-05-24T21:35:32.743584Z",
     "iopub.status.idle": "2024-05-24T21:35:32.751827Z",
     "shell.execute_reply": "2024-05-24T21:35:32.751091Z"
    },
    "papermill": {
     "duration": 0.029713,
     "end_time": "2024-05-24T21:35:32.753986",
     "exception": false,
     "start_time": "2024-05-24T21:35:32.724273",
     "status": "completed"
    },
    "tags": []
   },
   "outputs": [],
   "source": [
    "X_train_eng, X_test_eng, y_train_nep, y_test_nep = train_test_split(english_sentences_preprocessed, nepali_sentences_preprocessed, test_size = 0.1, random_state = 42, shuffle = True)"
   ]
  },
  {
   "cell_type": "code",
   "execution_count": 19,
   "id": "ace586cb",
   "metadata": {
    "execution": {
     "iopub.execute_input": "2024-05-24T21:35:32.790121Z",
     "iopub.status.busy": "2024-05-24T21:35:32.789802Z",
     "iopub.status.idle": "2024-05-24T21:35:32.797311Z",
     "shell.execute_reply": "2024-05-24T21:35:32.796414Z"
    },
    "papermill": {
     "duration": 0.027595,
     "end_time": "2024-05-24T21:35:32.799379",
     "exception": false,
     "start_time": "2024-05-24T21:35:32.771784",
     "status": "completed"
    },
    "tags": []
   },
   "outputs": [
    {
     "data": {
      "text/plain": [
       "210                          <sos> i am a teacher . <eos>\n",
       "1882        <sos> tom went from boston to chicago . <eos>\n",
       "2640    <sos> what language do you usually use when ta...\n",
       "Name: English, dtype: object"
      ]
     },
     "execution_count": 19,
     "metadata": {},
     "output_type": "execute_result"
    }
   ],
   "source": [
    "X_train_eng.head(3)"
   ]
  },
  {
   "cell_type": "code",
   "execution_count": 20,
   "id": "bf622015",
   "metadata": {
    "execution": {
     "iopub.execute_input": "2024-05-24T21:35:32.836893Z",
     "iopub.status.busy": "2024-05-24T21:35:32.836564Z",
     "iopub.status.idle": "2024-05-24T21:35:32.844516Z",
     "shell.execute_reply": "2024-05-24T21:35:32.843439Z"
    },
    "papermill": {
     "duration": 0.029297,
     "end_time": "2024-05-24T21:35:32.846642",
     "exception": false,
     "start_time": "2024-05-24T21:35:32.817345",
     "status": "completed"
    },
    "tags": []
   },
   "outputs": [
    {
     "data": {
      "text/plain": [
       "210                            <sos> म शिक्षक हुँ । <eos>\n",
       "1882                 <sos> टम बोस्टनबाट शिकागो गए । <eos>\n",
       "2640    <sos> तपाइँ सामान्यतया टमसँग कुन भाषामा बोल्नु...\n",
       "Name: Nepali, dtype: object"
      ]
     },
     "execution_count": 20,
     "metadata": {},
     "output_type": "execute_result"
    }
   ],
   "source": [
    "y_train_nep.head(3)"
   ]
  },
  {
   "cell_type": "code",
   "execution_count": 21,
   "id": "312510d5",
   "metadata": {
    "execution": {
     "iopub.execute_input": "2024-05-24T21:35:32.885685Z",
     "iopub.status.busy": "2024-05-24T21:35:32.884831Z",
     "iopub.status.idle": "2024-05-24T21:35:32.892498Z",
     "shell.execute_reply": "2024-05-24T21:35:32.891585Z"
    },
    "papermill": {
     "duration": 0.029439,
     "end_time": "2024-05-24T21:35:32.894666",
     "exception": false,
     "start_time": "2024-05-24T21:35:32.865227",
     "status": "completed"
    },
    "tags": []
   },
   "outputs": [],
   "source": [
    "def create_word_list_and_tokenize(x):\n",
    "    # Build the word list from the training data\n",
    "    word_list = [word for sent in x for word in sent.split()]\n",
    "\n",
    "    # Count word frequencies\n",
    "    corpus_ = Counter(word_list)\n",
    "\n",
    "    # Create the one-hot dictionary\n",
    "    vocab = {w: i + 2 for i, (w, _) in enumerate(corpus_.items())}  # Start indexing from 2 (0 reserved for padding, 1 for unknown word)\n",
    "    vocab['<pad>'] = 0  # Padding token\n",
    "    vocab['<unk>'] = 1  # Unknown word token\n",
    "\n",
    "    # Tokenize the training data\n",
    "    final_list_train = []\n",
    "    for sent in x:\n",
    "        tokenized_sent = [vocab.get(word, 1) for word in sent.split()]  # Use vocab.get() to handle unknown words\n",
    "        final_list_train.append(tokenized_sent)\n",
    "\n",
    "\n",
    "    return (np.array(final_list_train, dtype=object), vocab)"
   ]
  },
  {
   "cell_type": "code",
   "execution_count": 22,
   "id": "19fe9f6b",
   "metadata": {
    "execution": {
     "iopub.execute_input": "2024-05-24T21:35:32.981806Z",
     "iopub.status.busy": "2024-05-24T21:35:32.981421Z",
     "iopub.status.idle": "2024-05-24T21:35:33.003639Z",
     "shell.execute_reply": "2024-05-24T21:35:33.002614Z"
    },
    "papermill": {
     "duration": 0.092314,
     "end_time": "2024-05-24T21:35:33.005997",
     "exception": false,
     "start_time": "2024-05-24T21:35:32.913683",
     "status": "completed"
    },
    "tags": []
   },
   "outputs": [],
   "source": [
    "english_tokens_train, english_vocab_train = create_word_list_and_tokenize(X_train_eng)\n",
    "english_tokens_test, english_vocab_test = create_word_list_and_tokenize(X_test_eng)"
   ]
  },
  {
   "cell_type": "code",
   "execution_count": 23,
   "id": "19df1f58",
   "metadata": {
    "execution": {
     "iopub.execute_input": "2024-05-24T21:35:33.046836Z",
     "iopub.status.busy": "2024-05-24T21:35:33.046452Z",
     "iopub.status.idle": "2024-05-24T21:35:33.052759Z",
     "shell.execute_reply": "2024-05-24T21:35:33.051804Z"
    },
    "papermill": {
     "duration": 0.029127,
     "end_time": "2024-05-24T21:35:33.055107",
     "exception": false,
     "start_time": "2024-05-24T21:35:33.025980",
     "status": "completed"
    },
    "tags": []
   },
   "outputs": [
    {
     "data": {
      "text/plain": [
       "1914"
      ]
     },
     "execution_count": 23,
     "metadata": {},
     "output_type": "execute_result"
    }
   ],
   "source": [
    "len(english_vocab_train)"
   ]
  },
  {
   "cell_type": "code",
   "execution_count": 24,
   "id": "c6ead45f",
   "metadata": {
    "execution": {
     "iopub.execute_input": "2024-05-24T21:35:33.095840Z",
     "iopub.status.busy": "2024-05-24T21:35:33.094980Z",
     "iopub.status.idle": "2024-05-24T21:35:33.101493Z",
     "shell.execute_reply": "2024-05-24T21:35:33.100619Z"
    },
    "papermill": {
     "duration": 0.029275,
     "end_time": "2024-05-24T21:35:33.103621",
     "exception": false,
     "start_time": "2024-05-24T21:35:33.074346",
     "status": "completed"
    },
    "tags": []
   },
   "outputs": [
    {
     "data": {
      "text/plain": [
       "[2, 17, 18, 25, 26, 13, 27, 18, 24, 8]"
      ]
     },
     "execution_count": 24,
     "metadata": {},
     "output_type": "execute_result"
    }
   ],
   "source": [
    "english_tokens_train[3]"
   ]
  },
  {
   "cell_type": "code",
   "execution_count": 25,
   "id": "652f12fe",
   "metadata": {
    "execution": {
     "iopub.execute_input": "2024-05-24T21:35:33.143471Z",
     "iopub.status.busy": "2024-05-24T21:35:33.142846Z",
     "iopub.status.idle": "2024-05-24T21:35:33.166497Z",
     "shell.execute_reply": "2024-05-24T21:35:33.165667Z"
    },
    "papermill": {
     "duration": 0.045543,
     "end_time": "2024-05-24T21:35:33.168608",
     "exception": false,
     "start_time": "2024-05-24T21:35:33.123065",
     "status": "completed"
    },
    "tags": []
   },
   "outputs": [],
   "source": [
    "nepali_tokens_train, nepali_vocab_train = create_word_list_and_tokenize(y_train_nep)\n",
    "nepali_tokens_test, nepali_vocab_test = create_word_list_and_tokenize(y_test_nep)"
   ]
  },
  {
   "cell_type": "code",
   "execution_count": 26,
   "id": "f1f1ff51",
   "metadata": {
    "execution": {
     "iopub.execute_input": "2024-05-24T21:35:33.208030Z",
     "iopub.status.busy": "2024-05-24T21:35:33.207248Z",
     "iopub.status.idle": "2024-05-24T21:35:33.213189Z",
     "shell.execute_reply": "2024-05-24T21:35:33.211903Z"
    },
    "papermill": {
     "duration": 0.028746,
     "end_time": "2024-05-24T21:35:33.215921",
     "exception": false,
     "start_time": "2024-05-24T21:35:33.187175",
     "status": "completed"
    },
    "tags": []
   },
   "outputs": [],
   "source": [
    "def create_inverse_vocab(vocab):\n",
    "    \"\"\"\n",
    "    Create an inverse vocabulary mapping from a given vocabulary.\n",
    "    \n",
    "    Args:\n",
    "    - vocab (dict): Vocabulary mapping (word to token).\n",
    "    \n",
    "    Returns:\n",
    "    - Inverse vocabulary mapping (token to word).\n",
    "    \"\"\"\n",
    "    inv_vocab = {token: word for word, token in vocab.items()}\n",
    "    return inv_vocab"
   ]
  },
  {
   "cell_type": "code",
   "execution_count": 27,
   "id": "757212a1",
   "metadata": {
    "execution": {
     "iopub.execute_input": "2024-05-24T21:35:33.255699Z",
     "iopub.status.busy": "2024-05-24T21:35:33.255119Z",
     "iopub.status.idle": "2024-05-24T21:35:33.260025Z",
     "shell.execute_reply": "2024-05-24T21:35:33.258989Z"
    },
    "papermill": {
     "duration": 0.027062,
     "end_time": "2024-05-24T21:35:33.262120",
     "exception": false,
     "start_time": "2024-05-24T21:35:33.235058",
     "status": "completed"
    },
    "tags": []
   },
   "outputs": [],
   "source": [
    "inv_nepali = create_inverse_vocab(nepali_vocab_train)"
   ]
  },
  {
   "cell_type": "code",
   "execution_count": 28,
   "id": "ea8277b4",
   "metadata": {
    "execution": {
     "iopub.execute_input": "2024-05-24T21:35:33.301359Z",
     "iopub.status.busy": "2024-05-24T21:35:33.300995Z",
     "iopub.status.idle": "2024-05-24T21:35:33.307172Z",
     "shell.execute_reply": "2024-05-24T21:35:33.306291Z"
    },
    "papermill": {
     "duration": 0.028264,
     "end_time": "2024-05-24T21:35:33.309365",
     "exception": false,
     "start_time": "2024-05-24T21:35:33.281101",
     "status": "completed"
    },
    "tags": []
   },
   "outputs": [
    {
     "data": {
      "text/plain": [
       "[2, 19, 20, 21, 22, 23, 24, 25, 26, 18, 7]"
      ]
     },
     "execution_count": 28,
     "metadata": {},
     "output_type": "execute_result"
    }
   ],
   "source": [
    "nepali_tokens_train[3]"
   ]
  },
  {
   "cell_type": "code",
   "execution_count": 29,
   "id": "d8c15f25",
   "metadata": {
    "execution": {
     "iopub.execute_input": "2024-05-24T21:35:33.350008Z",
     "iopub.status.busy": "2024-05-24T21:35:33.349603Z",
     "iopub.status.idle": "2024-05-24T21:35:33.356144Z",
     "shell.execute_reply": "2024-05-24T21:35:33.355127Z"
    },
    "papermill": {
     "duration": 0.029581,
     "end_time": "2024-05-24T21:35:33.358411",
     "exception": false,
     "start_time": "2024-05-24T21:35:33.328830",
     "status": "completed"
    },
    "tags": []
   },
   "outputs": [
    {
     "data": {
      "text/plain": [
       "2879"
      ]
     },
     "execution_count": 29,
     "metadata": {},
     "output_type": "execute_result"
    }
   ],
   "source": [
    "len(nepali_vocab_train)"
   ]
  },
  {
   "cell_type": "code",
   "execution_count": 30,
   "id": "25cf2148",
   "metadata": {
    "execution": {
     "iopub.execute_input": "2024-05-24T21:35:33.400035Z",
     "iopub.status.busy": "2024-05-24T21:35:33.399642Z",
     "iopub.status.idle": "2024-05-24T21:35:33.702348Z",
     "shell.execute_reply": "2024-05-24T21:35:33.701298Z"
    },
    "papermill": {
     "duration": 0.326008,
     "end_time": "2024-05-24T21:35:33.704555",
     "exception": false,
     "start_time": "2024-05-24T21:35:33.378547",
     "status": "completed"
    },
    "tags": []
   },
   "outputs": [
    {
     "data": {
      "image/png": "[encoded data removed]",
      "text/plain": [
       "<Figure size 640x480 with 1 Axes>"
      ]
     },
     "metadata": {},
     "output_type": "display_data"
    },
    {
     "data": {
      "text/plain": [
       "count    2420.000000\n",
       "mean        8.773554\n",
       "std         2.289858\n",
       "min         4.000000\n",
       "25%         7.000000\n",
       "50%         8.000000\n",
       "75%        10.000000\n",
       "max        29.000000\n",
       "dtype: float64"
      ]
     },
     "execution_count": 30,
     "metadata": {},
     "output_type": "execute_result"
    }
   ],
   "source": [
    "rev_len = [len(i) for i in english_tokens_train]\n",
    "pd.Series(rev_len).hist()\n",
    "plt.show()\n",
    "pd.Series(rev_len).describe()"
   ]
  },
  {
   "cell_type": "code",
   "execution_count": 31,
   "id": "d77d54ed",
   "metadata": {
    "execution": {
     "iopub.execute_input": "2024-05-24T21:35:33.747384Z",
     "iopub.status.busy": "2024-05-24T21:35:33.747015Z",
     "iopub.status.idle": "2024-05-24T21:35:33.752901Z",
     "shell.execute_reply": "2024-05-24T21:35:33.751909Z"
    },
    "papermill": {
     "duration": 0.029961,
     "end_time": "2024-05-24T21:35:33.755136",
     "exception": false,
     "start_time": "2024-05-24T21:35:33.725175",
     "status": "completed"
    },
    "tags": []
   },
   "outputs": [],
   "source": [
    "def padding_(sentences, seq_len):\n",
    "    features = np.zeros((len(sentences), seq_len),dtype=int)\n",
    "    for ii, review in enumerate(sentences):\n",
    "        if len(review) != 0:\n",
    "            features[ii, :len(review)] = np.array(review)[:seq_len]\n",
    "    return features"
   ]
  },
  {
   "cell_type": "code",
   "execution_count": 32,
   "id": "c7ad881b",
   "metadata": {
    "execution": {
     "iopub.execute_input": "2024-05-24T21:35:33.797839Z",
     "iopub.status.busy": "2024-05-24T21:35:33.797079Z",
     "iopub.status.idle": "2024-05-24T21:35:33.820435Z",
     "shell.execute_reply": "2024-05-24T21:35:33.819599Z"
    },
    "papermill": {
     "duration": 0.046278,
     "end_time": "2024-05-24T21:35:33.822708",
     "exception": false,
     "start_time": "2024-05-24T21:35:33.776430",
     "status": "completed"
    },
    "tags": []
   },
   "outputs": [],
   "source": [
    "x_train_pad_eng = padding_(english_tokens_train,25)\n",
    "x_test_pad_eng = padding_(english_tokens_test,25)\n",
    "y_train_pad_nep = padding_(nepali_tokens_train,25)\n",
    "y_test_pad_nep = padding_(nepali_tokens_test,25)"
   ]
  },
  {
   "cell_type": "code",
   "execution_count": 33,
   "id": "cc534470",
   "metadata": {
    "execution": {
     "iopub.execute_input": "2024-05-24T21:35:33.864924Z",
     "iopub.status.busy": "2024-05-24T21:35:33.864527Z",
     "iopub.status.idle": "2024-05-24T21:35:33.870122Z",
     "shell.execute_reply": "2024-05-24T21:35:33.869063Z"
    },
    "papermill": {
     "duration": 0.029787,
     "end_time": "2024-05-24T21:35:33.872913",
     "exception": false,
     "start_time": "2024-05-24T21:35:33.843126",
     "status": "completed"
    },
    "tags": []
   },
   "outputs": [
    {
     "name": "stdout",
     "output_type": "stream",
     "text": [
      "(2420, 25)\n",
      "(269, 25)\n",
      "(2420, 25)\n",
      "(269, 25)\n"
     ]
    }
   ],
   "source": [
    "print(x_train_pad_eng.shape)\n",
    "print(x_test_pad_eng.shape)\n",
    "print(y_train_pad_nep.shape)\n",
    "print(y_test_pad_nep.shape)"
   ]
  },
  {
   "cell_type": "code",
   "execution_count": 34,
   "id": "0832e2c8",
   "metadata": {
    "execution": {
     "iopub.execute_input": "2024-05-24T21:35:33.915333Z",
     "iopub.status.busy": "2024-05-24T21:35:33.914992Z",
     "iopub.status.idle": "2024-05-24T21:35:33.928999Z",
     "shell.execute_reply": "2024-05-24T21:35:33.928029Z"
    },
    "papermill": {
     "duration": 0.037824,
     "end_time": "2024-05-24T21:35:33.931240",
     "exception": false,
     "start_time": "2024-05-24T21:35:33.893416",
     "status": "completed"
    },
    "tags": []
   },
   "outputs": [],
   "source": [
    "# create Tensor datasets\n",
    "train_data = TensorDataset(torch.from_numpy(x_train_pad_eng), torch.from_numpy(y_train_pad_nep))\n",
    "valid_data = TensorDataset(torch.from_numpy(x_test_pad_eng), torch.from_numpy(y_test_pad_nep))\n",
    "\n",
    "# dataloaders\n",
    "batch_size = 50\n",
    "\n",
    "# make sure to SHUFFLE your data\n",
    "train_loader = DataLoader(train_data, shuffle=True, batch_size=batch_size)\n",
    "valid_loader = DataLoader(valid_data, shuffle=True, batch_size=batch_size)"
   ]
  },
  {
   "cell_type": "code",
   "execution_count": 35,
   "id": "fb081c86",
   "metadata": {
    "execution": {
     "iopub.execute_input": "2024-05-24T21:35:33.973471Z",
     "iopub.status.busy": "2024-05-24T21:35:33.973125Z",
     "iopub.status.idle": "2024-05-24T21:35:34.029386Z",
     "shell.execute_reply": "2024-05-24T21:35:34.028229Z"
    },
    "papermill": {
     "duration": 0.080398,
     "end_time": "2024-05-24T21:35:34.031815",
     "exception": false,
     "start_time": "2024-05-24T21:35:33.951417",
     "status": "completed"
    },
    "tags": []
   },
   "outputs": [
    {
     "name": "stdout",
     "output_type": "stream",
     "text": [
      "Sample input size:  torch.Size([50, 25])\n",
      "Sample input: \n",
      " tensor([[  2,  86, 910,  ...,   0,   0,   0],\n",
      "        [  2,   9, 741,  ...,   0,   0,   0],\n",
      "        [  2,   3, 252,  ...,   0,   0,   0],\n",
      "        ...,\n",
      "        [  2,  73,  32,  ...,   0,   0,   0],\n",
      "        [  2,   9, 546,  ...,   0,   0,   0],\n",
      "        [  2, 252, 896,  ...,   0,   0,   0]])\n",
      "Sample output: \n",
      " tensor([[   2,   21,  372,  ...,    0,    0,    0],\n",
      "        [   2,   66,  238,  ...,    0,    0,    0],\n",
      "        [   2,  189,  630,  ...,    0,    0,    0],\n",
      "        ...,\n",
      "        [   2,    8, 2717,  ...,    0,    0,    0],\n",
      "        [   2,   39,  477,  ...,    0,    0,    0],\n",
      "        [   2, 2732, 2733,  ...,    0,    0,    0]])\n"
     ]
    }
   ],
   "source": [
    "# obtain one batch of training data\n",
    "dataiter = iter(train_loader)\n",
    "sample_x, sample_y = next(dataiter)\n",
    "\n",
    "print('Sample input size: ', sample_x.size()) # batch_size, seq_length\n",
    "print('Sample input: \\n', sample_x)\n",
    "print('Sample output: \\n', sample_y)"
   ]
  },
  {
   "cell_type": "code",
   "execution_count": 36,
   "id": "4bd130c5",
   "metadata": {
    "execution": {
     "iopub.execute_input": "2024-05-24T21:35:34.075296Z",
     "iopub.status.busy": "2024-05-24T21:35:34.074947Z",
     "iopub.status.idle": "2024-05-24T21:35:34.084159Z",
     "shell.execute_reply": "2024-05-24T21:35:34.082995Z"
    },
    "papermill": {
     "duration": 0.033479,
     "end_time": "2024-05-24T21:35:34.086399",
     "exception": false,
     "start_time": "2024-05-24T21:35:34.052920",
     "status": "completed"
    },
    "tags": []
   },
   "outputs": [
    {
     "name": "stdout",
     "output_type": "stream",
     "text": [
      "Sample input size:  torch.Size([50, 25])\n",
      "Sample input: \n",
      " tensor([[  2,  11,  67,  ...,   0,   0,   0],\n",
      "        [  2,  46,  43,  ...,   0,   0,   0],\n",
      "        [  2,  20,  24,  ...,   0,   0,   0],\n",
      "        ...,\n",
      "        [  2,  86, 525,  ...,   0,   0,   0],\n",
      "        [  2, 417,  62,  ...,   0,   0,   0],\n",
      "        [  2,  20,  66,  ...,   0,   0,   0]])\n",
      "Sample output: \n",
      " tensor([[  2, 174, 111,  ...,   0,   0,   0],\n",
      "        [  2, 612, 115,  ...,   0,   0,   0],\n",
      "        [  2,  18, 655,  ...,   0,   0,   0],\n",
      "        ...,\n",
      "        [  2,  86, 131,  ...,   0,   0,   0],\n",
      "        [  2, 512, 513,  ...,   0,   0,   0],\n",
      "        [  2,  81, 522,  ...,   0,   0,   0]])\n"
     ]
    }
   ],
   "source": [
    "# obtain one batch of training data\n",
    "dataiter = iter(valid_loader)\n",
    "sample_x, sample_y = next(dataiter)\n",
    "\n",
    "print('Sample input size: ', sample_x.size()) # batch_size, seq_length\n",
    "print('Sample input: \\n', sample_x)\n",
    "print('Sample output: \\n', sample_y)"
   ]
  },
  {
   "cell_type": "code",
   "execution_count": 37,
   "id": "4ccf20cb",
   "metadata": {
    "execution": {
     "iopub.execute_input": "2024-05-24T21:35:34.129437Z",
     "iopub.status.busy": "2024-05-24T21:35:34.129051Z",
     "iopub.status.idle": "2024-05-24T21:35:34.133908Z",
     "shell.execute_reply": "2024-05-24T21:35:34.132909Z"
    },
    "papermill": {
     "duration": 0.029032,
     "end_time": "2024-05-24T21:35:34.136087",
     "exception": false,
     "start_time": "2024-05-24T21:35:34.107055",
     "status": "completed"
    },
    "tags": []
   },
   "outputs": [],
   "source": [
    "eos_index_train = nepali_vocab_train[\"<eos>\"]\n",
    "sos_index_train = nepali_vocab_train[\"<sos>\"]"
   ]
  },
  {
   "cell_type": "code",
   "execution_count": 38,
   "id": "7294784b",
   "metadata": {
    "execution": {
     "iopub.execute_input": "2024-05-24T21:35:34.178675Z",
     "iopub.status.busy": "2024-05-24T21:35:34.177835Z",
     "iopub.status.idle": "2024-05-24T21:35:34.185571Z",
     "shell.execute_reply": "2024-05-24T21:35:34.184628Z"
    },
    "papermill": {
     "duration": 0.031735,
     "end_time": "2024-05-24T21:35:34.187874",
     "exception": false,
     "start_time": "2024-05-24T21:35:34.156139",
     "status": "completed"
    },
    "tags": []
   },
   "outputs": [],
   "source": [
    "class Encoder(nn.Module):\n",
    "    def __init__(self, input_dim, emb_dim, hid_dim, n_layers, dropout):\n",
    "        super(Encoder, self).__init__()\n",
    "        \n",
    "        self.hid_dim = hid_dim\n",
    "        self.n_layers = n_layers\n",
    "        \n",
    "        self.embedding = nn.Embedding(input_dim, emb_dim, padding_idx=0)\n",
    "        self.rnn = nn.LSTM(input_size = emb_dim, hidden_size = hid_dim, num_layers = n_layers, dropout=dropout, batch_first= True)\n",
    "        self.dropout = nn.Dropout(dropout)\n",
    "        \n",
    "    def forward(self, src):\n",
    "        embedded = self.dropout(self.embedding(src))\n",
    "        outputs, (hidden, cell) = self.rnn(embedded)\n",
    "        \n",
    "        return outputs, hidden, cell"
   ]
  },
  {
   "cell_type": "code",
   "execution_count": 39,
   "id": "eaee6842",
   "metadata": {
    "execution": {
     "iopub.execute_input": "2024-05-24T21:35:34.232322Z",
     "iopub.status.busy": "2024-05-24T21:35:34.231471Z",
     "iopub.status.idle": "2024-05-24T21:35:34.241327Z",
     "shell.execute_reply": "2024-05-24T21:35:34.240332Z"
    },
    "papermill": {
     "duration": 0.035376,
     "end_time": "2024-05-24T21:35:34.243534",
     "exception": false,
     "start_time": "2024-05-24T21:35:34.208158",
     "status": "completed"
    },
    "tags": []
   },
   "outputs": [
    {
     "data": {
      "text/plain": [
       "torch.Size([25])"
      ]
     },
     "execution_count": 39,
     "metadata": {},
     "output_type": "execute_result"
    }
   ],
   "source": [
    "# an Embedding module containing 10 tensors of size 3\n",
    "trg = torch.zeros(50, 25)\n",
    "# a batch of 2 samples of 4 indices each\n",
    "trg[0, :].shape"
   ]
  },
  {
   "cell_type": "code",
   "execution_count": 40,
   "id": "11229cf6",
   "metadata": {
    "execution": {
     "iopub.execute_input": "2024-05-24T21:35:34.286192Z",
     "iopub.status.busy": "2024-05-24T21:35:34.285817Z",
     "iopub.status.idle": "2024-05-24T21:35:34.293725Z",
     "shell.execute_reply": "2024-05-24T21:35:34.292803Z"
    },
    "papermill": {
     "duration": 0.031394,
     "end_time": "2024-05-24T21:35:34.295913",
     "exception": false,
     "start_time": "2024-05-24T21:35:34.264519",
     "status": "completed"
    },
    "tags": []
   },
   "outputs": [
    {
     "name": "stdout",
     "output_type": "stream",
     "text": [
      "torch.Size([2, 1, 2, 1, 2])\n",
      "torch.Size([2, 2, 2])\n",
      "torch.Size([2, 1, 2, 1, 2])\n",
      "torch.Size([2, 2, 1, 2])\n",
      "torch.Size([2, 2, 1, 2])\n"
     ]
    }
   ],
   "source": [
    "x = torch.zeros(2, 1, 2, 1, 2)\n",
    "print(x.size())\n",
    "y = torch.squeeze(x)\n",
    "print(y.size())\n",
    "y = torch.squeeze(x, 0)\n",
    "print(y.size())\n",
    "y = torch.squeeze(x, 1)\n",
    "print(y.size())\n",
    "y = torch.squeeze(x, (1, 2))\n",
    "print(y.size())"
   ]
  },
  {
   "cell_type": "code",
   "execution_count": 41,
   "id": "5179855b",
   "metadata": {
    "execution": {
     "iopub.execute_input": "2024-05-24T21:35:34.338216Z",
     "iopub.status.busy": "2024-05-24T21:35:34.337890Z",
     "iopub.status.idle": "2024-05-24T21:35:34.347021Z",
     "shell.execute_reply": "2024-05-24T21:35:34.346007Z"
    },
    "papermill": {
     "duration": 0.032874,
     "end_time": "2024-05-24T21:35:34.349179",
     "exception": false,
     "start_time": "2024-05-24T21:35:34.316305",
     "status": "completed"
    },
    "tags": []
   },
   "outputs": [],
   "source": [
    "class Decoder(nn.Module):\n",
    "    def __init__(self, output_dim, emb_dim, hidden_dim, n_layers, dropout):\n",
    "        super().__init__()\n",
    "        self.output_dim = output_dim\n",
    "        self.embedding = nn.Embedding(output_dim, emb_dim, padding_idx=0)\n",
    "        self.rnn = nn.LSTM(emb_dim, hidden_dim, n_layers, dropout=dropout, batch_first = True)\n",
    "        self.fc_out = nn.Linear(hidden_dim, output_dim)\n",
    "        self.dropout = nn.Dropout(dropout)\n",
    "    \n",
    "    def forward(self, x, encoder_hidden, encoder_cell):\n",
    "        # x shape: (N) where N is for batch size, we want it to be (1, N), seq_length\n",
    "        # is 1 here because we are sending in a single word and not a sentence\n",
    "        hidden = encoder_hidden\n",
    "        cell = encoder_cell\n",
    "        \n",
    "\n",
    "        embedding = self.dropout(self.embedding(x))\n",
    "        # embedding shape: (1, N, embedding_size)\n",
    "\n",
    "        outputs, (hidden, cell) = self.rnn(embedding, (hidden, cell))\n",
    "        # outputs shape: (1, N, hidden_size)\n",
    "\n",
    "        predictions = self.fc_out(outputs)\n",
    "\n",
    "        # predictions shape: (1, N, length_target_vocabulary) to send it to\n",
    "        # loss function we want it to be (N, length_target_vocabulary) so we're\n",
    "        # just gonna remove the first dim\n",
    "        predictions = predictions.squeeze()\n",
    "\n",
    "        return predictions, hidden, cell "
   ]
  },
  {
   "cell_type": "code",
   "execution_count": 42,
   "id": "89c87cda",
   "metadata": {
    "execution": {
     "iopub.execute_input": "2024-05-24T21:35:34.393787Z",
     "iopub.status.busy": "2024-05-24T21:35:34.393450Z",
     "iopub.status.idle": "2024-05-24T21:35:34.402887Z",
     "shell.execute_reply": "2024-05-24T21:35:34.401886Z"
    },
    "papermill": {
     "duration": 0.034038,
     "end_time": "2024-05-24T21:35:34.404980",
     "exception": false,
     "start_time": "2024-05-24T21:35:34.370942",
     "status": "completed"
    },
    "tags": []
   },
   "outputs": [
    {
     "data": {
      "text/plain": [
       "torch.Size([50, 1, 2683])"
      ]
     },
     "execution_count": 42,
     "metadata": {},
     "output_type": "execute_result"
    }
   ],
   "source": [
    "check = torch.zeros(50, 2683)\n",
    "check.unsqueeze(1).shape"
   ]
  },
  {
   "cell_type": "code",
   "execution_count": 43,
   "id": "9ac3ea90",
   "metadata": {
    "execution": {
     "iopub.execute_input": "2024-05-24T21:35:34.449055Z",
     "iopub.status.busy": "2024-05-24T21:35:34.448383Z",
     "iopub.status.idle": "2024-05-24T21:35:34.454912Z",
     "shell.execute_reply": "2024-05-24T21:35:34.454033Z"
    },
    "papermill": {
     "duration": 0.030486,
     "end_time": "2024-05-24T21:35:34.457014",
     "exception": false,
     "start_time": "2024-05-24T21:35:34.426528",
     "status": "completed"
    },
    "tags": []
   },
   "outputs": [
    {
     "data": {
      "text/plain": [
       "torch.Size([2683, 1])"
      ]
     },
     "execution_count": 43,
     "metadata": {},
     "output_type": "execute_result"
    }
   ],
   "source": [
    "test = torch.zeros(2683)\n",
    "test.unsqueeze(1).shape"
   ]
  },
  {
   "cell_type": "code",
   "execution_count": 44,
   "id": "9cdf035c",
   "metadata": {
    "execution": {
     "iopub.execute_input": "2024-05-24T21:35:34.501251Z",
     "iopub.status.busy": "2024-05-24T21:35:34.500187Z",
     "iopub.status.idle": "2024-05-24T21:35:34.512740Z",
     "shell.execute_reply": "2024-05-24T21:35:34.511791Z"
    },
    "papermill": {
     "duration": 0.037029,
     "end_time": "2024-05-24T21:35:34.515097",
     "exception": false,
     "start_time": "2024-05-24T21:35:34.478068",
     "status": "completed"
    },
    "tags": []
   },
   "outputs": [],
   "source": [
    "class Seq2Seq(nn.Module):\n",
    "    def __init__(self, encoder, decoder):\n",
    "        super(Seq2Seq, self).__init__()\n",
    "        self.encoder = encoder\n",
    "        self.decoder = decoder\n",
    "\n",
    "    def forward(self, source, target, teacher_force_ratio=0.8):\n",
    "        batch_size = source.shape[0]\n",
    "        target_len = target.shape[1]\n",
    "        target_vocab_size = self.decoder.output_dim\n",
    "\n",
    "        outputs = torch.zeros(target_len, batch_size, target_vocab_size).to(device)\n",
    "\n",
    "        _, hidden, cell = self.encoder(source)\n",
    "\n",
    "        # Grab the first input to the Decoder which will be <SOS> token\n",
    "        x = target[:,0].unsqueeze(1)\n",
    "\n",
    "        for t in range(1, target_len):\n",
    "            if len(x.shape) == 1:\n",
    "                x = x.unsqueeze(0)\n",
    "            # Use previous hidden, cell as context from encoder at start\n",
    "            output, hidden, cell = self.decoder(x, hidden, cell)\n",
    "            # Store next output prediction\n",
    "            outputs[t] = output\n",
    "            # Get the best word the Decoder predicted (index in the vocabulary)\n",
    "            if len(output.shape) != 1:\n",
    "                best_guess = output.argmax(1)\n",
    "                i = 1\n",
    "            else:\n",
    "                best_guess = output.argmax()\n",
    "                i = 0\n",
    "\n",
    "            # With probability of teacher_force_ratio we take the actual next word\n",
    "            # otherwise we take the word that the Decoder predicted it to be.\n",
    "            # Teacher Forcing is used so that the model gets used to seeing\n",
    "            # similar inputs at training and testing time, if teacher forcing is 1\n",
    "            # then inputs at test time might be completely different than what the\n",
    "            # network is used to. This was a long comment.\n",
    "            x = target[:,t].unsqueeze(1) if random.random() < teacher_force_ratio else best_guess.unsqueeze(i)\n",
    "\n",
    "        return outputs\n",
    "    \n",
    "    def decode(self, tokens, inv_vocab):\n",
    "        \"\"\"\n",
    "        Translate tokens back to words using the inverse vocabulary mapping.\n",
    "\n",
    "        Args:\n",
    "        - tokens (list of lists): List of tokenized sentences.\n",
    "        - inv_vocab (dict): Inverse vocabulary mapping (token to word).\n",
    "\n",
    "        Returns:\n",
    "        - List of detokenized sentences.\n",
    "        \"\"\"\n",
    "        detokenized_sentences = []\n",
    "        for tokenized_sent in tokens:\n",
    "            detokenized_sent = [inv_vocab[token] for token in tokenized_sent]\n",
    "            detokenized_sentences.append(detokenized_sent)\n",
    "        return detokenized_sentences\n"
   ]
  },
  {
   "cell_type": "code",
   "execution_count": 45,
   "id": "531c8c64",
   "metadata": {
    "execution": {
     "iopub.execute_input": "2024-05-24T21:35:34.560052Z",
     "iopub.status.busy": "2024-05-24T21:35:34.559652Z",
     "iopub.status.idle": "2024-05-24T21:35:34.976255Z",
     "shell.execute_reply": "2024-05-24T21:35:34.975298Z"
    },
    "papermill": {
     "duration": 0.441088,
     "end_time": "2024-05-24T21:35:34.978700",
     "exception": false,
     "start_time": "2024-05-24T21:35:34.537612",
     "status": "completed"
    },
    "tags": []
   },
   "outputs": [],
   "source": [
    "INPUT_DIM = len(english_vocab_train)\n",
    "OUTPUT_DIM = len(nepali_vocab_train)\n",
    "ENC_EMB_DIM = 256\n",
    "DEC_EMB_DIM = 256\n",
    "HID_DIM = 512\n",
    "N_LAYERS = 2\n",
    "ENC_DROPOUT = 0.5\n",
    "DEC_DROPOUT = 0.5\n",
    "learning_rate = 0.001\n",
    "epochs = 300\n",
    "\n",
    "enc = Encoder(INPUT_DIM, ENC_EMB_DIM, HID_DIM, N_LAYERS, ENC_DROPOUT).to(device)\n",
    "dec = Decoder(OUTPUT_DIM, DEC_EMB_DIM, HID_DIM, N_LAYERS, DEC_DROPOUT).to(device)"
   ]
  },
  {
   "cell_type": "code",
   "execution_count": 46,
   "id": "f21aa522",
   "metadata": {
    "execution": {
     "iopub.execute_input": "2024-05-24T21:35:35.023438Z",
     "iopub.status.busy": "2024-05-24T21:35:35.023054Z",
     "iopub.status.idle": "2024-05-24T21:35:35.029071Z",
     "shell.execute_reply": "2024-05-24T21:35:35.028065Z"
    },
    "papermill": {
     "duration": 0.030824,
     "end_time": "2024-05-24T21:35:35.031257",
     "exception": false,
     "start_time": "2024-05-24T21:35:35.000433",
     "status": "completed"
    },
    "tags": []
   },
   "outputs": [],
   "source": [
    "optimizer_enc = optim.Adam(enc.parameters())\n",
    "optimizer_dec = optim.Adam(dec.parameters())\n",
    "TRG_PAD_IDX = nepali_vocab_train['<pad>']\n",
    "criterion = nn.CrossEntropyLoss(ignore_index=TRG_PAD_IDX)"
   ]
  },
  {
   "cell_type": "code",
   "execution_count": 47,
   "id": "718e43c5",
   "metadata": {
    "execution": {
     "iopub.execute_input": "2024-05-24T21:35:35.076728Z",
     "iopub.status.busy": "2024-05-24T21:35:35.076336Z",
     "iopub.status.idle": "2024-05-24T21:35:35.084508Z",
     "shell.execute_reply": "2024-05-24T21:35:35.083648Z"
    },
    "papermill": {
     "duration": 0.033537,
     "end_time": "2024-05-24T21:35:35.086725",
     "exception": false,
     "start_time": "2024-05-24T21:35:35.053188",
     "status": "completed"
    },
    "tags": []
   },
   "outputs": [],
   "source": [
    "model = Seq2Seq(enc, dec).to(device)\n",
    "optimizer = optim.Adam(model.parameters(), lr = learning_rate)"
   ]
  },
  {
   "cell_type": "code",
   "execution_count": 48,
   "id": "0f7cbc35",
   "metadata": {
    "execution": {
     "iopub.execute_input": "2024-05-24T21:35:35.131005Z",
     "iopub.status.busy": "2024-05-24T21:35:35.130619Z",
     "iopub.status.idle": "2024-05-24T21:35:35.146435Z",
     "shell.execute_reply": "2024-05-24T21:35:35.145484Z"
    },
    "papermill": {
     "duration": 0.040563,
     "end_time": "2024-05-24T21:35:35.148699",
     "exception": false,
     "start_time": "2024-05-24T21:35:35.108136",
     "status": "completed"
    },
    "tags": []
   },
   "outputs": [],
   "source": [
    "def train_model(model, optimizer, criterion, train_loader, val_loader, device, num_epochs, checkpoint_dir, patience=5, min_delta=0.0001):\n",
    "    for epoch in range(num_epochs):\n",
    "        if not os.path.exists(checkpoint_dir):\n",
    "            os.makedirs(checkpoint_dir)\n",
    "        \n",
    "        best_loss = float('inf')\n",
    "        epochs_no_improve = 0\n",
    "        \n",
    "        print(f\"[Epoch {epoch+1} / {num_epochs}]\")\n",
    "\n",
    "        # Set model to training mode\n",
    "        model.train()\n",
    "        \n",
    "        train_loss = 0.0\n",
    "        for source, target in train_loader:\n",
    "            # Get input and targets and move to device\n",
    "            inp_data = source.to(device)\n",
    "            target = target.to(device)\n",
    "\n",
    "            # Forward pass\n",
    "            output = model(inp_data, target)\n",
    "\n",
    "            # Reshape output and target for the loss function\n",
    "            output = output[1:].reshape(-1, output.shape[2])\n",
    "            target = target.t()[1:].reshape(-1) \n",
    "\n",
    "            # Zero gradients, compute loss, backpropagate, and update weights\n",
    "            optimizer.zero_grad()\n",
    "            loss = criterion(output, target)\n",
    "            loss.backward()\n",
    "            \n",
    "            # Gradient clipping to avoid exploding gradients\n",
    "            torch.nn.utils.clip_grad_norm_(model.parameters(), max_norm=1)\n",
    "            \n",
    "            # Gradient descent step\n",
    "            optimizer.step()\n",
    "\n",
    "            train_loss += loss.item()\n",
    "\n",
    "        # Average training loss for the epoch\n",
    "        train_loss /= len(train_loader)\n",
    "        print(f\"Training loss: {train_loss:.4f}\")\n",
    "\n",
    "        # Set model to evaluation mode for validation\n",
    "        model.eval()\n",
    "\n",
    "        val_loss = 0.0\n",
    "        with torch.no_grad():\n",
    "            for source, target in val_loader:\n",
    "                # Get input and targets and move to device\n",
    "                inp_data = source.to(device)\n",
    "                target = target.to(device)\n",
    "\n",
    "                # Forward pass\n",
    "                output = model(inp_data, target)\n",
    "\n",
    "                # Reshape output and target for the loss function\n",
    "                output = output[1:].reshape(-1, output.shape[2])\n",
    "                target = target.t()[1:].reshape(-1) \n",
    "\n",
    "                # Compute loss\n",
    "                loss = criterion(output, target)\n",
    "                val_loss += loss.item()\n",
    "\n",
    "        # Average validation loss for the epoch\n",
    "        val_loss /= len(val_loader)\n",
    "        print(f\"Validation loss: {val_loss:.4f}\")\n",
    "        \n",
    "        # Early stopping\n",
    "        if train_loss < best_loss - min_delta:\n",
    "            best_loss = train_loss\n",
    "            epochs_no_improve = 0\n",
    "        else:\n",
    "            epochs_no_improve += 1\n",
    "\n",
    "        if epochs_no_improve >= patience:\n",
    "            print(f'Early stopping at epoch {epoch + 1}')\n",
    "            break\n",
    "        \n",
    "        \n",
    "        if (epoch + 1) % 10 == 0:\n",
    "            # Save checkpoint\n",
    "            checkpoint_path = os.path.join(checkpoint_dir, f's2s_epoch_{epoch+1}.pth')\n",
    "            torch.save(model.state_dict(), checkpoint_path)\n",
    "            print(f'Model saved to {checkpoint_path}')\n",
    "\n",
    "# Example usage:\n",
    "# Assuming you have your model, optimizer, criterion, train_loader, val_loader, and other components initialized\n",
    "\n"
   ]
  },
  {
   "cell_type": "markdown",
   "id": "5ce979ee",
   "metadata": {
    "papermill": {
     "duration": 0.020361,
     "end_time": "2024-05-24T21:35:35.190174",
     "exception": false,
     "start_time": "2024-05-24T21:35:35.169813",
     "status": "completed"
    },
    "tags": []
   },
   "source": []
  },
  {
   "cell_type": "code",
   "execution_count": 49,
   "id": "a638b36e",
   "metadata": {
    "execution": {
     "iopub.execute_input": "2024-05-24T21:35:35.235036Z",
     "iopub.status.busy": "2024-05-24T21:35:35.234620Z",
     "iopub.status.idle": "2024-05-24T21:48:00.518960Z",
     "shell.execute_reply": "2024-05-24T21:48:00.517540Z"
    },
    "papermill": {
     "duration": 745.310244,
     "end_time": "2024-05-24T21:48:00.521220",
     "exception": false,
     "start_time": "2024-05-24T21:35:35.210976",
     "status": "completed"
    },
    "tags": []
   },
   "outputs": [
    {
     "name": "stdout",
     "output_type": "stream",
     "text": [
      "[Epoch 1 / 300]\n",
      "Training loss: 5.6780\n",
      "Validation loss: 8.4431\n",
      "[Epoch 2 / 300]\n",
      "Training loss: 5.0102\n",
      "Validation loss: 8.5291\n",
      "[Epoch 3 / 300]\n",
      "Training loss: 4.8318\n",
      "Validation loss: 8.9303\n",
      "[Epoch 4 / 300]\n",
      "Training loss: 4.7232\n",
      "Validation loss: 9.2748\n",
      "[Epoch 5 / 300]\n",
      "Training loss: 4.6172\n",
      "Validation loss: 9.4622\n",
      "[Epoch 6 / 300]\n",
      "Training loss: 4.5138\n",
      "Validation loss: 9.8013\n",
      "[Epoch 7 / 300]\n",
      "Training loss: 4.4411\n",
      "Validation loss: 9.8260\n",
      "[Epoch 8 / 300]\n",
      "Training loss: 4.3279\n",
      "Validation loss: 9.9052\n",
      "[Epoch 9 / 300]\n",
      "Training loss: 4.2217\n",
      "Validation loss: 9.8519\n",
      "[Epoch 10 / 300]\n",
      "Training loss: 4.1940\n",
      "Validation loss: 10.1659\n",
      "Model saved to /kaggle/working/s2s_epoch_10.pth\n",
      "[Epoch 11 / 300]\n",
      "Training loss: 4.0781\n",
      "Validation loss: 10.0840\n",
      "[Epoch 12 / 300]\n",
      "Training loss: 3.9290\n",
      "Validation loss: 10.4040\n",
      "[Epoch 13 / 300]\n",
      "Training loss: 3.7547\n",
      "Validation loss: 10.5238\n",
      "[Epoch 14 / 300]\n",
      "Training loss: 3.6940\n",
      "Validation loss: 10.7094\n",
      "[Epoch 15 / 300]\n",
      "Training loss: 3.5158\n",
      "Validation loss: 10.4147\n",
      "[Epoch 16 / 300]\n",
      "Training loss: 3.3957\n",
      "Validation loss: 10.5571\n",
      "[Epoch 17 / 300]\n",
      "Training loss: 3.2707\n",
      "Validation loss: 10.5748\n",
      "[Epoch 18 / 300]\n",
      "Training loss: 3.2105\n",
      "Validation loss: 10.6634\n",
      "[Epoch 19 / 300]\n",
      "Training loss: 3.0973\n",
      "Validation loss: 11.2516\n",
      "[Epoch 20 / 300]\n",
      "Training loss: 2.9965\n",
      "Validation loss: 11.1315\n",
      "Model saved to /kaggle/working/s2s_epoch_20.pth\n",
      "[Epoch 21 / 300]\n",
      "Training loss: 2.8389\n",
      "Validation loss: 11.1377\n",
      "[Epoch 22 / 300]\n",
      "Training loss: 2.7386\n",
      "Validation loss: 11.3580\n",
      "[Epoch 23 / 300]\n",
      "Training loss: 2.6419\n",
      "Validation loss: 11.4835\n",
      "[Epoch 24 / 300]\n",
      "Training loss: 2.5066\n",
      "Validation loss: 11.6459\n",
      "[Epoch 25 / 300]\n",
      "Training loss: 2.4686\n",
      "Validation loss: 11.6913\n",
      "[Epoch 26 / 300]\n",
      "Training loss: 2.3389\n",
      "Validation loss: 11.8296\n",
      "[Epoch 27 / 300]\n",
      "Training loss: 2.1337\n",
      "Validation loss: 11.7714\n",
      "[Epoch 28 / 300]\n",
      "Training loss: 2.0657\n",
      "Validation loss: 12.0568\n",
      "[Epoch 29 / 300]\n",
      "Training loss: 1.9936\n",
      "Validation loss: 12.2386\n",
      "[Epoch 30 / 300]\n",
      "Training loss: 1.9992\n",
      "Validation loss: 12.3556\n",
      "Model saved to /kaggle/working/s2s_epoch_30.pth\n",
      "[Epoch 31 / 300]\n",
      "Training loss: 1.8567\n",
      "Validation loss: 12.3879\n",
      "[Epoch 32 / 300]\n",
      "Training loss: 1.7277\n",
      "Validation loss: 12.6043\n",
      "[Epoch 33 / 300]\n",
      "Training loss: 1.6702\n",
      "Validation loss: 12.8340\n",
      "[Epoch 34 / 300]\n",
      "Training loss: 1.5627\n",
      "Validation loss: 13.0023\n",
      "[Epoch 35 / 300]\n",
      "Training loss: 1.5186\n",
      "Validation loss: 13.2877\n",
      "[Epoch 36 / 300]\n",
      "Training loss: 1.4648\n",
      "Validation loss: 13.3778\n",
      "[Epoch 37 / 300]\n",
      "Training loss: 1.3132\n",
      "Validation loss: 13.4888\n",
      "[Epoch 38 / 300]\n",
      "Training loss: 1.2642\n",
      "Validation loss: 13.4783\n",
      "[Epoch 39 / 300]\n",
      "Training loss: 1.2438\n",
      "Validation loss: 13.7358\n",
      "[Epoch 40 / 300]\n",
      "Training loss: 1.2056\n",
      "Validation loss: 13.6766\n",
      "Model saved to /kaggle/working/s2s_epoch_40.pth\n",
      "[Epoch 41 / 300]\n",
      "Training loss: 1.1303\n",
      "Validation loss: 13.7170\n",
      "[Epoch 42 / 300]\n",
      "Training loss: 1.0665\n",
      "Validation loss: 14.0018\n",
      "[Epoch 43 / 300]\n",
      "Training loss: 0.9654\n",
      "Validation loss: 14.1507\n",
      "[Epoch 44 / 300]\n",
      "Training loss: 0.9454\n",
      "Validation loss: 14.0811\n",
      "[Epoch 45 / 300]\n",
      "Training loss: 0.9069\n",
      "Validation loss: 14.3239\n",
      "[Epoch 46 / 300]\n",
      "Training loss: 0.8759\n",
      "Validation loss: 14.2495\n",
      "[Epoch 47 / 300]\n",
      "Training loss: 0.8513\n",
      "Validation loss: 14.4638\n",
      "[Epoch 48 / 300]\n",
      "Training loss: 0.7675\n",
      "Validation loss: 14.5251\n",
      "[Epoch 49 / 300]\n",
      "Training loss: 0.7071\n",
      "Validation loss: 14.6608\n",
      "[Epoch 50 / 300]\n",
      "Training loss: 0.6661\n",
      "Validation loss: 14.7563\n",
      "Model saved to /kaggle/working/s2s_epoch_50.pth\n",
      "[Epoch 51 / 300]\n",
      "Training loss: 0.7033\n",
      "Validation loss: 14.6431\n",
      "[Epoch 52 / 300]\n",
      "Training loss: 0.6411\n",
      "Validation loss: 14.8426\n",
      "[Epoch 53 / 300]\n",
      "Training loss: 0.5942\n",
      "Validation loss: 14.9277\n",
      "[Epoch 54 / 300]\n",
      "Training loss: 0.5683\n",
      "Validation loss: 14.8597\n",
      "[Epoch 55 / 300]\n",
      "Training loss: 0.5766\n",
      "Validation loss: 14.9413\n",
      "[Epoch 56 / 300]\n",
      "Training loss: 0.5827\n",
      "Validation loss: 15.3030\n",
      "[Epoch 57 / 300]\n",
      "Training loss: 0.4983\n",
      "Validation loss: 15.2294\n",
      "[Epoch 58 / 300]\n",
      "Training loss: 0.4820\n",
      "Validation loss: 15.4223\n",
      "[Epoch 59 / 300]\n",
      "Training loss: 0.4826\n",
      "Validation loss: 15.2674\n",
      "[Epoch 60 / 300]\n",
      "Training loss: 0.3996\n",
      "Validation loss: 15.5841\n",
      "Model saved to /kaggle/working/s2s_epoch_60.pth\n",
      "[Epoch 61 / 300]\n",
      "Training loss: 0.4117\n",
      "Validation loss: 15.3550\n",
      "[Epoch 62 / 300]\n",
      "Training loss: 0.4110\n",
      "Validation loss: 15.5186\n",
      "[Epoch 63 / 300]\n",
      "Training loss: 0.3518\n",
      "Validation loss: 15.6982\n",
      "[Epoch 64 / 300]\n",
      "Training loss: 0.3580\n",
      "Validation loss: 15.6470\n",
      "[Epoch 65 / 300]\n",
      "Training loss: 0.3268\n",
      "Validation loss: 15.6231\n",
      "[Epoch 66 / 300]\n",
      "Training loss: 0.3143\n",
      "Validation loss: 15.6858\n",
      "[Epoch 67 / 300]\n",
      "Training loss: 0.3098\n",
      "Validation loss: 15.5155\n",
      "[Epoch 68 / 300]\n",
      "Training loss: 0.3041\n",
      "Validation loss: 15.5690\n",
      "[Epoch 69 / 300]\n",
      "Training loss: 0.2855\n",
      "Validation loss: 15.8733\n",
      "[Epoch 70 / 300]\n",
      "Training loss: 0.2686\n",
      "Validation loss: 16.0888\n",
      "Model saved to /kaggle/working/s2s_epoch_70.pth\n",
      "[Epoch 71 / 300]\n",
      "Training loss: 0.2530\n",
      "Validation loss: 16.0938\n",
      "[Epoch 72 / 300]\n",
      "Training loss: 0.2384\n",
      "Validation loss: 16.0667\n",
      "[Epoch 73 / 300]\n",
      "Training loss: 0.2352\n",
      "Validation loss: 15.9557\n",
      "[Epoch 74 / 300]\n",
      "Training loss: 0.2240\n",
      "Validation loss: 16.2058\n",
      "[Epoch 75 / 300]\n",
      "Training loss: 0.2432\n",
      "Validation loss: 16.1738\n",
      "[Epoch 76 / 300]\n",
      "Training loss: 0.2026\n",
      "Validation loss: 16.1342\n",
      "[Epoch 77 / 300]\n",
      "Training loss: 0.1996\n",
      "Validation loss: 16.0327\n",
      "[Epoch 78 / 300]\n",
      "Training loss: 0.1932\n",
      "Validation loss: 16.2723\n",
      "[Epoch 79 / 300]\n",
      "Training loss: 0.1845\n",
      "Validation loss: 16.3210\n",
      "[Epoch 80 / 300]\n",
      "Training loss: 0.1695\n",
      "Validation loss: 16.3149\n",
      "Model saved to /kaggle/working/s2s_epoch_80.pth\n",
      "[Epoch 81 / 300]\n",
      "Training loss: 0.1806\n",
      "Validation loss: 16.3613\n",
      "[Epoch 82 / 300]\n",
      "Training loss: 0.1730\n",
      "Validation loss: 16.2704\n",
      "[Epoch 83 / 300]\n",
      "Training loss: 0.1680\n",
      "Validation loss: 16.3293\n",
      "[Epoch 84 / 300]\n",
      "Training loss: 0.1564\n",
      "Validation loss: 16.5364\n",
      "[Epoch 85 / 300]\n",
      "Training loss: 0.1508\n",
      "Validation loss: 16.4231\n",
      "[Epoch 86 / 300]\n",
      "Training loss: 0.1518\n",
      "Validation loss: 16.5254\n",
      "[Epoch 87 / 300]\n",
      "Training loss: 0.1375\n",
      "Validation loss: 16.8576\n",
      "[Epoch 88 / 300]\n",
      "Training loss: 0.1384\n",
      "Validation loss: 16.3409\n",
      "[Epoch 89 / 300]\n",
      "Training loss: 0.1349\n",
      "Validation loss: 16.5238\n",
      "[Epoch 90 / 300]\n",
      "Training loss: 0.1300\n",
      "Validation loss: 16.7419\n",
      "Model saved to /kaggle/working/s2s_epoch_90.pth\n",
      "[Epoch 91 / 300]\n",
      "Training loss: 0.1261\n",
      "Validation loss: 16.6716\n",
      "[Epoch 92 / 300]\n",
      "Training loss: 0.1314\n",
      "Validation loss: 16.7923\n",
      "[Epoch 93 / 300]\n",
      "Training loss: 0.1242\n",
      "Validation loss: 16.7893\n",
      "[Epoch 94 / 300]\n",
      "Training loss: 0.1220\n",
      "Validation loss: 17.1009\n",
      "[Epoch 95 / 300]\n",
      "Training loss: 0.1173\n",
      "Validation loss: 16.7334\n",
      "[Epoch 96 / 300]\n",
      "Training loss: 0.1117\n",
      "Validation loss: 16.8137\n",
      "[Epoch 97 / 300]\n",
      "Training loss: 0.1045\n",
      "Validation loss: 17.0533\n",
      "[Epoch 98 / 300]\n",
      "Training loss: 0.1024\n",
      "Validation loss: 16.8241\n",
      "[Epoch 99 / 300]\n",
      "Training loss: 0.1134\n",
      "Validation loss: 17.0186\n",
      "[Epoch 100 / 300]\n",
      "Training loss: 0.1192\n",
      "Validation loss: 17.1416\n",
      "Model saved to /kaggle/working/s2s_epoch_100.pth\n",
      "[Epoch 101 / 300]\n",
      "Training loss: 0.1064\n",
      "Validation loss: 17.3038\n",
      "[Epoch 102 / 300]\n",
      "Training loss: 0.1013\n",
      "Validation loss: 17.2964\n",
      "[Epoch 103 / 300]\n",
      "Training loss: 0.0952\n",
      "Validation loss: 17.2152\n",
      "[Epoch 104 / 300]\n",
      "Training loss: 0.1026\n",
      "Validation loss: 16.9668\n",
      "[Epoch 105 / 300]\n",
      "Training loss: 0.0955\n",
      "Validation loss: 17.3169\n",
      "[Epoch 106 / 300]\n",
      "Training loss: 0.0931\n",
      "Validation loss: 17.1998\n",
      "[Epoch 107 / 300]\n",
      "Training loss: 0.0898\n",
      "Validation loss: 17.3342\n",
      "[Epoch 108 / 300]\n",
      "Training loss: 0.0872\n",
      "Validation loss: 17.2856\n",
      "[Epoch 109 / 300]\n",
      "Training loss: 0.0877\n",
      "Validation loss: 17.5126\n",
      "[Epoch 110 / 300]\n",
      "Training loss: 0.0933\n",
      "Validation loss: 17.4505\n",
      "Model saved to /kaggle/working/s2s_epoch_110.pth\n",
      "[Epoch 111 / 300]\n",
      "Training loss: 0.0900\n",
      "Validation loss: 17.3274\n",
      "[Epoch 112 / 300]\n",
      "Training loss: 0.0902\n",
      "Validation loss: 17.1815\n",
      "[Epoch 113 / 300]\n",
      "Training loss: 0.0900\n",
      "Validation loss: 17.5074\n",
      "[Epoch 114 / 300]\n",
      "Training loss: 0.0833\n",
      "Validation loss: 17.6185\n",
      "[Epoch 115 / 300]\n",
      "Training loss: 0.0811\n",
      "Validation loss: 17.5121\n",
      "[Epoch 116 / 300]\n",
      "Training loss: 0.0846\n",
      "Validation loss: 17.4842\n",
      "[Epoch 117 / 300]\n",
      "Training loss: 0.0893\n",
      "Validation loss: 17.6165\n",
      "[Epoch 118 / 300]\n",
      "Training loss: 0.0815\n",
      "Validation loss: 17.2550\n",
      "[Epoch 119 / 300]\n",
      "Training loss: 0.0832\n",
      "Validation loss: 17.6832\n",
      "[Epoch 120 / 300]\n",
      "Training loss: 0.0880\n",
      "Validation loss: 17.8925\n",
      "Model saved to /kaggle/working/s2s_epoch_120.pth\n",
      "[Epoch 121 / 300]\n",
      "Training loss: 0.0832\n",
      "Validation loss: 17.6850\n",
      "[Epoch 122 / 300]\n",
      "Training loss: 0.0757\n",
      "Validation loss: 17.6564\n",
      "[Epoch 123 / 300]\n",
      "Training loss: 0.0814\n",
      "Validation loss: 17.6173\n",
      "[Epoch 124 / 300]\n",
      "Training loss: 0.0823\n",
      "Validation loss: 17.4192\n",
      "[Epoch 125 / 300]\n",
      "Training loss: 0.0762\n",
      "Validation loss: 17.6753\n",
      "[Epoch 126 / 300]\n",
      "Training loss: 0.0872\n",
      "Validation loss: 17.9921\n",
      "[Epoch 127 / 300]\n",
      "Training loss: 0.0815\n",
      "Validation loss: 17.6070\n",
      "[Epoch 128 / 300]\n",
      "Training loss: 0.0804\n",
      "Validation loss: 17.7422\n",
      "[Epoch 129 / 300]\n",
      "Training loss: 0.0708\n",
      "Validation loss: 17.7980\n",
      "[Epoch 130 / 300]\n",
      "Training loss: 0.0695\n",
      "Validation loss: 18.0738\n",
      "Model saved to /kaggle/working/s2s_epoch_130.pth\n",
      "[Epoch 131 / 300]\n",
      "Training loss: 0.0673\n",
      "Validation loss: 17.9862\n",
      "[Epoch 132 / 300]\n",
      "Training loss: 0.0700\n",
      "Validation loss: 18.2708\n",
      "[Epoch 133 / 300]\n",
      "Training loss: 0.0703\n",
      "Validation loss: 17.9408\n",
      "[Epoch 134 / 300]\n",
      "Training loss: 0.0720\n",
      "Validation loss: 17.8849\n",
      "[Epoch 135 / 300]\n",
      "Training loss: 0.0730\n",
      "Validation loss: 17.7429\n",
      "[Epoch 136 / 300]\n",
      "Training loss: 0.0747\n",
      "Validation loss: 17.8692\n",
      "[Epoch 137 / 300]\n",
      "Training loss: 0.0667\n",
      "Validation loss: 18.0211\n",
      "[Epoch 138 / 300]\n",
      "Training loss: 0.0688\n",
      "Validation loss: 17.9232\n",
      "[Epoch 139 / 300]\n",
      "Training loss: 0.0717\n",
      "Validation loss: 18.1712\n",
      "[Epoch 140 / 300]\n",
      "Training loss: 0.0735\n",
      "Validation loss: 17.9128\n",
      "Model saved to /kaggle/working/s2s_epoch_140.pth\n",
      "[Epoch 141 / 300]\n",
      "Training loss: 0.0665\n",
      "Validation loss: 18.0487\n",
      "[Epoch 142 / 300]\n",
      "Training loss: 0.0674\n",
      "Validation loss: 17.9721\n",
      "[Epoch 143 / 300]\n",
      "Training loss: 0.0735\n",
      "Validation loss: 17.9245\n",
      "[Epoch 144 / 300]\n",
      "Training loss: 0.0661\n",
      "Validation loss: 18.2526\n",
      "[Epoch 145 / 300]\n",
      "Training loss: 0.0671\n",
      "Validation loss: 18.3866\n",
      "[Epoch 146 / 300]\n",
      "Training loss: 0.0709\n",
      "Validation loss: 18.3264\n",
      "[Epoch 147 / 300]\n",
      "Training loss: 0.0667\n",
      "Validation loss: 18.3281\n",
      "[Epoch 148 / 300]\n",
      "Training loss: 0.0653\n",
      "Validation loss: 18.0367\n",
      "[Epoch 149 / 300]\n",
      "Training loss: 0.0648\n",
      "Validation loss: 18.2421\n",
      "[Epoch 150 / 300]\n",
      "Training loss: 0.0635\n",
      "Validation loss: 18.5508\n",
      "Model saved to /kaggle/working/s2s_epoch_150.pth\n",
      "[Epoch 151 / 300]\n",
      "Training loss: 0.0594\n",
      "Validation loss: 18.6687\n",
      "[Epoch 152 / 300]\n",
      "Training loss: 0.0653\n",
      "Validation loss: 18.6899\n",
      "[Epoch 153 / 300]\n",
      "Training loss: 0.0589\n",
      "Validation loss: 18.6667\n",
      "[Epoch 154 / 300]\n",
      "Training loss: 0.0624\n",
      "Validation loss: 18.3904\n",
      "[Epoch 155 / 300]\n",
      "Training loss: 0.0653\n",
      "Validation loss: 18.4481\n",
      "[Epoch 156 / 300]\n",
      "Training loss: 0.0636\n",
      "Validation loss: 18.7204\n",
      "[Epoch 157 / 300]\n",
      "Training loss: 0.0603\n",
      "Validation loss: 18.3261\n",
      "[Epoch 158 / 300]\n",
      "Training loss: 0.0628\n",
      "Validation loss: 18.5311\n",
      "[Epoch 159 / 300]\n",
      "Training loss: 0.0602\n",
      "Validation loss: 18.7374\n",
      "[Epoch 160 / 300]\n",
      "Training loss: 0.0611\n",
      "Validation loss: 19.0806\n",
      "Model saved to /kaggle/working/s2s_epoch_160.pth\n",
      "[Epoch 161 / 300]\n",
      "Training loss: 0.0612\n",
      "Validation loss: 18.4862\n",
      "[Epoch 162 / 300]\n",
      "Training loss: 0.0699\n",
      "Validation loss: 18.3640\n",
      "[Epoch 163 / 300]\n",
      "Training loss: 0.0655\n",
      "Validation loss: 18.4217\n",
      "[Epoch 164 / 300]\n",
      "Training loss: 0.0689\n",
      "Validation loss: 18.8293\n",
      "[Epoch 165 / 300]\n",
      "Training loss: 0.0638\n",
      "Validation loss: 18.5930\n",
      "[Epoch 166 / 300]\n",
      "Training loss: 0.0632\n",
      "Validation loss: 18.8175\n",
      "[Epoch 167 / 300]\n",
      "Training loss: 0.0602\n",
      "Validation loss: 18.5268\n",
      "[Epoch 168 / 300]\n",
      "Training loss: 0.0641\n",
      "Validation loss: 18.9042\n",
      "[Epoch 169 / 300]\n",
      "Training loss: 0.0563\n",
      "Validation loss: 19.0835\n",
      "[Epoch 170 / 300]\n",
      "Training loss: 0.0611\n",
      "Validation loss: 18.8062\n",
      "Model saved to /kaggle/working/s2s_epoch_170.pth\n",
      "[Epoch 171 / 300]\n",
      "Training loss: 0.0626\n",
      "Validation loss: 18.9115\n",
      "[Epoch 172 / 300]\n",
      "Training loss: 0.0547\n",
      "Validation loss: 19.0521\n",
      "[Epoch 173 / 300]\n",
      "Training loss: 0.0552\n",
      "Validation loss: 18.8875\n",
      "[Epoch 174 / 300]\n",
      "Training loss: 0.0594\n",
      "Validation loss: 19.2083\n",
      "[Epoch 175 / 300]\n",
      "Training loss: 0.0572\n",
      "Validation loss: 18.7809\n",
      "[Epoch 176 / 300]\n",
      "Training loss: 0.0576\n",
      "Validation loss: 19.2751\n",
      "[Epoch 177 / 300]\n",
      "Training loss: 0.0652\n",
      "Validation loss: 19.1268\n",
      "[Epoch 178 / 300]\n",
      "Training loss: 0.0578\n",
      "Validation loss: 19.2051\n",
      "[Epoch 179 / 300]\n",
      "Training loss: 0.0666\n",
      "Validation loss: 18.9104\n",
      "[Epoch 180 / 300]\n",
      "Training loss: 0.0591\n",
      "Validation loss: 18.9504\n",
      "Model saved to /kaggle/working/s2s_epoch_180.pth\n",
      "[Epoch 181 / 300]\n",
      "Training loss: 0.0572\n",
      "Validation loss: 19.1040\n",
      "[Epoch 182 / 300]\n",
      "Training loss: 0.0574\n",
      "Validation loss: 19.2509\n",
      "[Epoch 183 / 300]\n",
      "Training loss: 0.0615\n",
      "Validation loss: 18.9862\n",
      "[Epoch 184 / 300]\n",
      "Training loss: 0.0666\n",
      "Validation loss: 18.9970\n",
      "[Epoch 185 / 300]\n",
      "Training loss: 0.0566\n",
      "Validation loss: 19.1125\n",
      "[Epoch 186 / 300]\n",
      "Training loss: 0.0642\n",
      "Validation loss: 19.0055\n",
      "[Epoch 187 / 300]\n",
      "Training loss: 0.0584\n",
      "Validation loss: 19.0425\n",
      "[Epoch 188 / 300]\n",
      "Training loss: 0.0602\n",
      "Validation loss: 19.1415\n",
      "[Epoch 189 / 300]\n",
      "Training loss: 0.0595\n",
      "Validation loss: 18.8070\n",
      "[Epoch 190 / 300]\n",
      "Training loss: 0.0568\n",
      "Validation loss: 19.4951\n",
      "Model saved to /kaggle/working/s2s_epoch_190.pth\n",
      "[Epoch 191 / 300]\n",
      "Training loss: 0.0556\n",
      "Validation loss: 19.5460\n",
      "[Epoch 192 / 300]\n",
      "Training loss: 0.0547\n",
      "Validation loss: 19.4330\n",
      "[Epoch 193 / 300]\n",
      "Training loss: 0.0568\n",
      "Validation loss: 19.1452\n",
      "[Epoch 194 / 300]\n",
      "Training loss: 0.0595\n",
      "Validation loss: 19.3101\n",
      "[Epoch 195 / 300]\n",
      "Training loss: 0.0583\n",
      "Validation loss: 19.5685\n",
      "[Epoch 196 / 300]\n",
      "Training loss: 0.0623\n",
      "Validation loss: 19.4381\n",
      "[Epoch 197 / 300]\n",
      "Training loss: 0.0622\n",
      "Validation loss: 19.6529\n",
      "[Epoch 198 / 300]\n",
      "Training loss: 0.0561\n",
      "Validation loss: 19.6339\n",
      "[Epoch 199 / 300]\n",
      "Training loss: 0.0584\n",
      "Validation loss: 19.5486\n",
      "[Epoch 200 / 300]\n",
      "Training loss: 0.0633\n",
      "Validation loss: 19.6223\n",
      "Model saved to /kaggle/working/s2s_epoch_200.pth\n",
      "[Epoch 201 / 300]\n",
      "Training loss: 0.0649\n",
      "Validation loss: 19.9583\n",
      "[Epoch 202 / 300]\n",
      "Training loss: 0.0566\n",
      "Validation loss: 20.0911\n",
      "[Epoch 203 / 300]\n",
      "Training loss: 0.0617\n",
      "Validation loss: 19.7070\n",
      "[Epoch 204 / 300]\n",
      "Training loss: 0.0591\n",
      "Validation loss: 19.5543\n",
      "[Epoch 205 / 300]\n",
      "Training loss: 0.0614\n",
      "Validation loss: 20.1438\n",
      "[Epoch 206 / 300]\n",
      "Training loss: 0.0621\n",
      "Validation loss: 20.0173\n",
      "[Epoch 207 / 300]\n",
      "Training loss: 0.0568\n",
      "Validation loss: 19.7008\n",
      "[Epoch 208 / 300]\n",
      "Training loss: 0.0561\n",
      "Validation loss: 19.9275\n",
      "[Epoch 209 / 300]\n",
      "Training loss: 0.0533\n",
      "Validation loss: 20.0241\n",
      "[Epoch 210 / 300]\n",
      "Training loss: 0.0516\n",
      "Validation loss: 19.5000\n",
      "Model saved to /kaggle/working/s2s_epoch_210.pth\n",
      "[Epoch 211 / 300]\n",
      "Training loss: 0.0513\n",
      "Validation loss: 19.7672\n",
      "[Epoch 212 / 300]\n",
      "Training loss: 0.0561\n",
      "Validation loss: 19.9211\n",
      "[Epoch 213 / 300]\n",
      "Training loss: 0.0627\n",
      "Validation loss: 19.8523\n",
      "[Epoch 214 / 300]\n",
      "Training loss: 0.0531\n",
      "Validation loss: 19.6342\n",
      "[Epoch 215 / 300]\n",
      "Training loss: 0.0515\n",
      "Validation loss: 19.7655\n",
      "[Epoch 216 / 300]\n",
      "Training loss: 0.0602\n",
      "Validation loss: 19.7361\n",
      "[Epoch 217 / 300]\n",
      "Training loss: 0.0597\n",
      "Validation loss: 19.9077\n",
      "[Epoch 218 / 300]\n",
      "Training loss: 0.0525\n",
      "Validation loss: 19.9120\n",
      "[Epoch 219 / 300]\n",
      "Training loss: 0.0634\n",
      "Validation loss: 19.6312\n",
      "[Epoch 220 / 300]\n",
      "Training loss: 0.0541\n",
      "Validation loss: 20.1348\n",
      "Model saved to /kaggle/working/s2s_epoch_220.pth\n",
      "[Epoch 221 / 300]\n",
      "Training loss: 0.0505\n",
      "Validation loss: 20.5036\n",
      "[Epoch 222 / 300]\n",
      "Training loss: 0.0499\n",
      "Validation loss: 20.3983\n",
      "[Epoch 223 / 300]\n",
      "Training loss: 0.0574\n",
      "Validation loss: 19.7799\n",
      "[Epoch 224 / 300]\n",
      "Training loss: 0.0618\n",
      "Validation loss: 19.8044\n",
      "[Epoch 225 / 300]\n",
      "Training loss: 0.0574\n",
      "Validation loss: 20.0663\n",
      "[Epoch 226 / 300]\n",
      "Training loss: 0.0480\n",
      "Validation loss: 19.7908\n",
      "[Epoch 227 / 300]\n",
      "Training loss: 0.0574\n",
      "Validation loss: 20.4329\n",
      "[Epoch 228 / 300]\n",
      "Training loss: 0.0577\n",
      "Validation loss: 20.3648\n",
      "[Epoch 229 / 300]\n",
      "Training loss: 0.0575\n",
      "Validation loss: 20.2360\n",
      "[Epoch 230 / 300]\n",
      "Training loss: 0.0520\n",
      "Validation loss: 20.3299\n",
      "Model saved to /kaggle/working/s2s_epoch_230.pth\n",
      "[Epoch 231 / 300]\n",
      "Training loss: 0.0472\n",
      "Validation loss: 20.3471\n",
      "[Epoch 232 / 300]\n",
      "Training loss: 0.0484\n",
      "Validation loss: 20.1555\n",
      "[Epoch 233 / 300]\n",
      "Training loss: 0.0451\n",
      "Validation loss: 20.2218\n",
      "[Epoch 234 / 300]\n",
      "Training loss: 0.0494\n",
      "Validation loss: 20.1865\n",
      "[Epoch 235 / 300]\n",
      "Training loss: 0.0480\n",
      "Validation loss: 20.4452\n",
      "[Epoch 236 / 300]\n",
      "Training loss: 0.0541\n",
      "Validation loss: 20.1213\n",
      "[Epoch 237 / 300]\n",
      "Training loss: 0.0499\n",
      "Validation loss: 20.3506\n",
      "[Epoch 238 / 300]\n",
      "Training loss: 0.0517\n",
      "Validation loss: 20.4531\n",
      "[Epoch 239 / 300]\n",
      "Training loss: 0.0600\n",
      "Validation loss: 20.2658\n",
      "[Epoch 240 / 300]\n",
      "Training loss: 0.0534\n",
      "Validation loss: 20.0125\n",
      "Model saved to /kaggle/working/s2s_epoch_240.pth\n",
      "[Epoch 241 / 300]\n",
      "Training loss: 0.0521\n",
      "Validation loss: 19.7977\n",
      "[Epoch 242 / 300]\n",
      "Training loss: 0.0587\n",
      "Validation loss: 20.8491\n",
      "[Epoch 243 / 300]\n",
      "Training loss: 0.0482\n",
      "Validation loss: 20.8267\n",
      "[Epoch 244 / 300]\n",
      "Training loss: 0.0520\n",
      "Validation loss: 20.6053\n",
      "[Epoch 245 / 300]\n",
      "Training loss: 0.0529\n",
      "Validation loss: 20.3888\n",
      "[Epoch 246 / 300]\n",
      "Training loss: 0.0556\n",
      "Validation loss: 20.4729\n",
      "[Epoch 247 / 300]\n",
      "Training loss: 0.0518\n",
      "Validation loss: 20.3844\n",
      "[Epoch 248 / 300]\n",
      "Training loss: 0.0498\n",
      "Validation loss: 20.3492\n",
      "[Epoch 249 / 300]\n",
      "Training loss: 0.0498\n",
      "Validation loss: 20.7741\n",
      "[Epoch 250 / 300]\n",
      "Training loss: 0.0559\n",
      "Validation loss: 20.2848\n",
      "Model saved to /kaggle/working/s2s_epoch_250.pth\n",
      "[Epoch 251 / 300]\n",
      "Training loss: 0.0480\n",
      "Validation loss: 20.5330\n",
      "[Epoch 252 / 300]\n",
      "Training loss: 0.0523\n",
      "Validation loss: 20.4544\n",
      "[Epoch 253 / 300]\n",
      "Training loss: 0.0546\n",
      "Validation loss: 20.4306\n",
      "[Epoch 254 / 300]\n",
      "Training loss: 0.0481\n",
      "Validation loss: 20.3678\n",
      "[Epoch 255 / 300]\n",
      "Training loss: 0.0503\n",
      "Validation loss: 20.9612\n",
      "[Epoch 256 / 300]\n",
      "Training loss: 0.0544\n",
      "Validation loss: 21.0068\n",
      "[Epoch 257 / 300]\n",
      "Training loss: 0.0565\n",
      "Validation loss: 20.7455\n",
      "[Epoch 258 / 300]\n",
      "Training loss: 0.0491\n",
      "Validation loss: 20.7282\n",
      "[Epoch 259 / 300]\n",
      "Training loss: 0.0505\n",
      "Validation loss: 20.4484\n",
      "[Epoch 260 / 300]\n",
      "Training loss: 0.0524\n",
      "Validation loss: 21.0068\n",
      "Model saved to /kaggle/working/s2s_epoch_260.pth\n",
      "[Epoch 261 / 300]\n",
      "Training loss: 0.0517\n",
      "Validation loss: 20.5071\n",
      "[Epoch 262 / 300]\n",
      "Training loss: 0.0508\n",
      "Validation loss: 20.2673\n",
      "[Epoch 263 / 300]\n",
      "Training loss: 0.0511\n",
      "Validation loss: 20.6944\n",
      "[Epoch 264 / 300]\n",
      "Training loss: 0.0468\n",
      "Validation loss: 20.5739\n",
      "[Epoch 265 / 300]\n",
      "Training loss: 0.0501\n",
      "Validation loss: 20.5731\n",
      "[Epoch 266 / 300]\n",
      "Training loss: 0.0489\n",
      "Validation loss: 20.7404\n",
      "[Epoch 267 / 300]\n",
      "Training loss: 0.0449\n",
      "Validation loss: 20.7280\n",
      "[Epoch 268 / 300]\n",
      "Training loss: 0.0525\n",
      "Validation loss: 20.5045\n",
      "[Epoch 269 / 300]\n",
      "Training loss: 0.0555\n",
      "Validation loss: 20.5703\n",
      "[Epoch 270 / 300]\n",
      "Training loss: 0.0528\n",
      "Validation loss: 20.8788\n",
      "Model saved to /kaggle/working/s2s_epoch_270.pth\n",
      "[Epoch 271 / 300]\n",
      "Training loss: 0.0572\n",
      "Validation loss: 20.7442\n",
      "[Epoch 272 / 300]\n",
      "Training loss: 0.0524\n",
      "Validation loss: 21.1539\n",
      "[Epoch 273 / 300]\n",
      "Training loss: 0.0490\n",
      "Validation loss: 20.7529\n",
      "[Epoch 274 / 300]\n",
      "Training loss: 0.0475\n",
      "Validation loss: 20.9987\n",
      "[Epoch 275 / 300]\n",
      "Training loss: 0.0461\n",
      "Validation loss: 20.5174\n",
      "[Epoch 276 / 300]\n",
      "Training loss: 0.0564\n",
      "Validation loss: 21.0579\n",
      "[Epoch 277 / 300]\n",
      "Training loss: 0.0436\n",
      "Validation loss: 20.5896\n",
      "[Epoch 278 / 300]\n",
      "Training loss: 0.0496\n",
      "Validation loss: 20.7740\n",
      "[Epoch 279 / 300]\n",
      "Training loss: 0.0516\n",
      "Validation loss: 20.8174\n",
      "[Epoch 280 / 300]\n",
      "Training loss: 0.0476\n",
      "Validation loss: 20.6733\n",
      "Model saved to /kaggle/working/s2s_epoch_280.pth\n",
      "[Epoch 281 / 300]\n",
      "Training loss: 0.0540\n",
      "Validation loss: 20.4887\n",
      "[Epoch 282 / 300]\n",
      "Training loss: 0.0516\n",
      "Validation loss: 20.4287\n",
      "[Epoch 283 / 300]\n",
      "Training loss: 0.0519\n",
      "Validation loss: 20.5617\n",
      "[Epoch 284 / 300]\n",
      "Training loss: 0.0554\n",
      "Validation loss: 21.0821\n",
      "[Epoch 285 / 300]\n",
      "Training loss: 0.0507\n",
      "Validation loss: 20.2354\n",
      "[Epoch 286 / 300]\n",
      "Training loss: 0.0509\n",
      "Validation loss: 20.3749\n",
      "[Epoch 287 / 300]\n",
      "Training loss: 0.0527\n",
      "Validation loss: 21.4211\n",
      "[Epoch 288 / 300]\n",
      "Training loss: 0.0586\n",
      "Validation loss: 20.7357\n",
      "[Epoch 289 / 300]\n",
      "Training loss: 0.0549\n",
      "Validation loss: 21.0803\n",
      "[Epoch 290 / 300]\n",
      "Training loss: 0.0526\n",
      "Validation loss: 21.1170\n",
      "Model saved to /kaggle/working/s2s_epoch_290.pth\n",
      "[Epoch 291 / 300]\n",
      "Training loss: 0.0498\n",
      "Validation loss: 21.1358\n",
      "[Epoch 292 / 300]\n",
      "Training loss: 0.0476\n",
      "Validation loss: 21.5886\n",
      "[Epoch 293 / 300]\n",
      "Training loss: 0.0520\n",
      "Validation loss: 21.7960\n",
      "[Epoch 294 / 300]\n",
      "Training loss: 0.0524\n",
      "Validation loss: 21.3757\n",
      "[Epoch 295 / 300]\n",
      "Training loss: 0.0516\n",
      "Validation loss: 20.9965\n",
      "[Epoch 296 / 300]\n",
      "Training loss: 0.0576\n",
      "Validation loss: 20.7750\n",
      "[Epoch 297 / 300]\n",
      "Training loss: 0.0468\n",
      "Validation loss: 21.6317\n",
      "[Epoch 298 / 300]\n",
      "Training loss: 0.0509\n",
      "Validation loss: 20.7606\n",
      "[Epoch 299 / 300]\n",
      "Training loss: 0.0494\n",
      "Validation loss: 21.3402\n",
      "[Epoch 300 / 300]\n",
      "Training loss: 0.0454\n",
      "Validation loss: 21.2902\n",
      "Model saved to /kaggle/working/s2s_epoch_300.pth\n"
     ]
    }
   ],
   "source": [
    "train_model(model, optimizer, criterion, train_loader, valid_loader, device, epochs,'/kaggle/working/')"
   ]
  },
  {
   "cell_type": "code",
   "execution_count": 50,
   "id": "876c170d",
   "metadata": {
    "execution": {
     "iopub.execute_input": "2024-05-24T21:48:00.619375Z",
     "iopub.status.busy": "2024-05-24T21:48:00.618464Z",
     "iopub.status.idle": "2024-05-24T21:48:00.623018Z",
     "shell.execute_reply": "2024-05-24T21:48:00.622031Z"
    },
    "papermill": {
     "duration": 0.055053,
     "end_time": "2024-05-24T21:48:00.625272",
     "exception": false,
     "start_time": "2024-05-24T21:48:00.570219",
     "status": "completed"
    },
    "tags": []
   },
   "outputs": [],
   "source": [
    "# test_model = Seq2Seq(enc, dec).to(device)\n",
    "# PATH = '/kaggle/working/s2s_epoch_10.pth'\n",
    "# test_model.load_state_dict(torch.load(PATH))\n",
    "# test_model.eval()"
   ]
  },
  {
   "cell_type": "code",
   "execution_count": 51,
   "id": "ddecdb8a",
   "metadata": {
    "execution": {
     "iopub.execute_input": "2024-05-24T21:48:00.721173Z",
     "iopub.status.busy": "2024-05-24T21:48:00.720390Z",
     "iopub.status.idle": "2024-05-24T21:48:00.726384Z",
     "shell.execute_reply": "2024-05-24T21:48:00.725433Z"
    },
    "papermill": {
     "duration": 0.055869,
     "end_time": "2024-05-24T21:48:00.728522",
     "exception": false,
     "start_time": "2024-05-24T21:48:00.672653",
     "status": "completed"
    },
    "tags": []
   },
   "outputs": [],
   "source": [
    "english_sentences = pd.Series([\"Hi My Name is Tom.\", \"I am very Happy.\", \"May i know your name?\"])\n",
    "english_sentences = english_sentences.apply(preprocess_sentence)\n",
    "english_sentences = english_sentences.apply(lambda x: (' ').join(['<sos>', x, '<eos>']))"
   ]
  },
  {
   "cell_type": "code",
   "execution_count": 52,
   "id": "04265c2b",
   "metadata": {
    "execution": {
     "iopub.execute_input": "2024-05-24T21:48:00.826085Z",
     "iopub.status.busy": "2024-05-24T21:48:00.825482Z",
     "iopub.status.idle": "2024-05-24T21:48:00.833061Z",
     "shell.execute_reply": "2024-05-24T21:48:00.832063Z"
    },
    "papermill": {
     "duration": 0.060113,
     "end_time": "2024-05-24T21:48:00.835703",
     "exception": false,
     "start_time": "2024-05-24T21:48:00.775590",
     "status": "completed"
    },
    "tags": []
   },
   "outputs": [
    {
     "data": {
      "text/plain": [
       "0       <sos> hi my name is tom . <eos>\n",
       "1         <sos> i am very happy . <eos>\n",
       "2    <sos> may i know your name ? <eos>\n",
       "dtype: object"
      ]
     },
     "execution_count": 52,
     "metadata": {},
     "output_type": "execute_result"
    }
   ],
   "source": [
    "english_sentences"
   ]
  },
  {
   "cell_type": "code",
   "execution_count": 53,
   "id": "f0a525c5",
   "metadata": {
    "execution": {
     "iopub.execute_input": "2024-05-24T21:48:00.936088Z",
     "iopub.status.busy": "2024-05-24T21:48:00.935378Z",
     "iopub.status.idle": "2024-05-24T21:48:00.940876Z",
     "shell.execute_reply": "2024-05-24T21:48:00.939930Z"
    },
    "papermill": {
     "duration": 0.056224,
     "end_time": "2024-05-24T21:48:00.942958",
     "exception": false,
     "start_time": "2024-05-24T21:48:00.886734",
     "status": "completed"
    },
    "tags": []
   },
   "outputs": [],
   "source": [
    "def tokenize(x, vocab):\n",
    "# Tokenize the training data\n",
    "    final_list_train = []\n",
    "    for sent in x:\n",
    "        tokenized_sent = [vocab.get(word, 1) for word in sent.split()]  # Use vocab.get() to handle unknown words\n",
    "        final_list_train.append(tokenized_sent)\n",
    "\n",
    "\n",
    "    return final_list_train"
   ]
  },
  {
   "cell_type": "code",
   "execution_count": 54,
   "id": "d24eaee1",
   "metadata": {
    "execution": {
     "iopub.execute_input": "2024-05-24T21:48:01.040382Z",
     "iopub.status.busy": "2024-05-24T21:48:01.039416Z",
     "iopub.status.idle": "2024-05-24T21:48:01.044127Z",
     "shell.execute_reply": "2024-05-24T21:48:01.043299Z"
    },
    "papermill": {
     "duration": 0.05516,
     "end_time": "2024-05-24T21:48:01.046276",
     "exception": false,
     "start_time": "2024-05-24T21:48:00.991116",
     "status": "completed"
    },
    "tags": []
   },
   "outputs": [],
   "source": [
    "english_sentences_tokenized = tokenize(english_sentences, english_vocab_train)"
   ]
  },
  {
   "cell_type": "code",
   "execution_count": 55,
   "id": "30ed6421",
   "metadata": {
    "execution": {
     "iopub.execute_input": "2024-05-24T21:48:01.145722Z",
     "iopub.status.busy": "2024-05-24T21:48:01.145368Z",
     "iopub.status.idle": "2024-05-24T21:48:01.150525Z",
     "shell.execute_reply": "2024-05-24T21:48:01.149524Z"
    },
    "papermill": {
     "duration": 0.057357,
     "end_time": "2024-05-24T21:48:01.152677",
     "exception": false,
     "start_time": "2024-05-24T21:48:01.095320",
     "status": "completed"
    },
    "tags": []
   },
   "outputs": [],
   "source": [
    "english_sentences_tokenized = padding_(english_sentences_tokenized, max(len(sentence) for sentence in english_sentences_tokenized))"
   ]
  },
  {
   "cell_type": "code",
   "execution_count": 56,
   "id": "1ff8a5ea",
   "metadata": {
    "execution": {
     "iopub.execute_input": "2024-05-24T21:48:01.249477Z",
     "iopub.status.busy": "2024-05-24T21:48:01.249003Z",
     "iopub.status.idle": "2024-05-24T21:48:01.255584Z",
     "shell.execute_reply": "2024-05-24T21:48:01.254704Z"
    },
    "papermill": {
     "duration": 0.057688,
     "end_time": "2024-05-24T21:48:01.258103",
     "exception": false,
     "start_time": "2024-05-24T21:48:01.200415",
     "status": "completed"
    },
    "tags": []
   },
   "outputs": [
    {
     "data": {
      "text/plain": [
       "array([[  2, 955,  95, 600,  32,   9,   7,   8],\n",
       "       [  2,   3,   4, 115, 111,   7,   8,   0],\n",
       "       [  2, 142,   3, 182, 132, 600,  24,   8]])"
      ]
     },
     "execution_count": 56,
     "metadata": {},
     "output_type": "execute_result"
    }
   ],
   "source": [
    "english_sentences_tokenized"
   ]
  },
  {
   "cell_type": "code",
   "execution_count": 57,
   "id": "cb2ddcde",
   "metadata": {
    "execution": {
     "iopub.execute_input": "2024-05-24T21:48:01.359002Z",
     "iopub.status.busy": "2024-05-24T21:48:01.358587Z",
     "iopub.status.idle": "2024-05-24T21:48:01.370634Z",
     "shell.execute_reply": "2024-05-24T21:48:01.369680Z"
    },
    "papermill": {
     "duration": 0.063312,
     "end_time": "2024-05-24T21:48:01.372813",
     "exception": false,
     "start_time": "2024-05-24T21:48:01.309501",
     "status": "completed"
    },
    "tags": []
   },
   "outputs": [],
   "source": [
    "def translate_sentences(model, device, english_tokens, target_vocab, inv_vocab):\n",
    "    \"\"\"\n",
    "    Translate tokenized English sentences to the target language using a Seq2Seq model.\n",
    "\n",
    "    Args:\n",
    "    - model (nn.Module): The Seq2Seq model for translation.\n",
    "    - device: The device to run the model on (e.g., 'cpu' or 'cuda').\n",
    "    - english_tokens (list of lists): List of tokenized English sentences.\n",
    "    - target_vocab (dict): Vocabulary mapping for the target language.\n",
    "    - inv_vocab (dict): Inverse vocabulary mapping for the target language.\n",
    "\n",
    "    Returns:\n",
    "    - List of translated sentences.\n",
    "    \"\"\"\n",
    "    # Initialize the list to store translated sentences\n",
    "    translated_sentences = []\n",
    "\n",
    "    # Set the model to evaluation mode\n",
    "    model.eval()\n",
    "\n",
    "    with torch.no_grad():\n",
    "        for tokens in english_tokens:\n",
    "            # Convert the list of tokens to a PyTorch tensor and move it to the device\n",
    "            source = torch.tensor(tokens, dtype=torch.long, device=device).unsqueeze(1)\n",
    "\n",
    "            # Initialize the target tokens with the SOS token\n",
    "            target_token = torch.tensor([target_vocab['<sos>']], device=device).unsqueeze(0)\n",
    "\n",
    "            # Initialize a flag to track whether the end-of-sequence token has been encountered\n",
    "            eos_encountered = False\n",
    "\n",
    "            # Forward pass through the model\n",
    "            outputs = model(source, target_token, teacher_force_ratio=0)\n",
    "\n",
    "            # Get the best word indices from the model outputs\n",
    "            best_words = outputs.argmax(dim=2).squeeze(1)\n",
    "\n",
    "            # Convert word indices to a list of integers\n",
    "            word_indices = best_words.tolist()\n",
    "\n",
    "            # Convert word indices to words in the target language\n",
    "            translated_sentence = model.decode(word_indices, inv_vocab)\n",
    "\n",
    "            # Check if the <EOS> token is predicted\n",
    "            if target_vocab['<eos>'] in word_indices:\n",
    "                eos_encountered = True\n",
    "                print(\"Found EOS\")\n",
    "\n",
    "            # Append the translated sentence to the list\n",
    "            translated_sentences.append(translated_sentence)\n",
    "\n",
    "            # Update the target token for the next iteration\n",
    "            target_token = best_words.unsqueeze(0)\n",
    "\n",
    "    return translated_sentences\n"
   ]
  },
  {
   "cell_type": "code",
   "execution_count": 58,
   "id": "a3a957cb",
   "metadata": {
    "execution": {
     "iopub.execute_input": "2024-05-24T21:48:01.474739Z",
     "iopub.status.busy": "2024-05-24T21:48:01.474068Z",
     "iopub.status.idle": "2024-05-24T21:48:01.498681Z",
     "shell.execute_reply": "2024-05-24T21:48:01.497749Z"
    },
    "papermill": {
     "duration": 0.078386,
     "end_time": "2024-05-24T21:48:01.500806",
     "exception": false,
     "start_time": "2024-05-24T21:48:01.422420",
     "status": "completed"
    },
    "tags": []
   },
   "outputs": [
    {
     "data": {
      "text/plain": [
       "[[['<pad>', '<pad>', '<pad>', '<pad>', '<pad>', '<pad>', '<pad>', '<pad>']],\n",
       " [['<pad>', '<pad>', '<pad>', '<pad>', '<pad>', '<pad>', '<pad>', '<pad>']],\n",
       " [['<pad>', '<pad>', '<pad>', '<pad>', '<pad>', '<pad>', '<pad>', '<pad>']]]"
      ]
     },
     "execution_count": 58,
     "metadata": {},
     "output_type": "execute_result"
    }
   ],
   "source": [
    "translate_sentences(model, device, english_sentences_tokenized,nepali_vocab_train, inv_nepali)"
   ]
  },
  {
   "cell_type": "code",
   "execution_count": null,
   "id": "2ed7dd83",
   "metadata": {
    "papermill": {
     "duration": 0.048198,
     "end_time": "2024-05-24T21:48:01.597633",
     "exception": false,
     "start_time": "2024-05-24T21:48:01.549435",
     "status": "completed"
    },
    "tags": []
   },
   "outputs": [],
   "source": []
  }
 ],
 "metadata": {
  "kaggle": {
   "accelerator": "none",
   "dataSources": [
    {
     "datasetId": 5066851,
     "sourceId": 8492467,
     "sourceType": "datasetVersion"
    }
   ],
   "dockerImageVersionId": 30698,
   "isGpuEnabled": false,
   "isInternetEnabled": true,
   "language": "python",
   "sourceType": "notebook"
  },
  "kernelspec": {
   "display_name": "Python 3",
   "language": "python",
   "name": "python3"
  },
  "language_info": {
   "codemirror_mode": {
    "name": "ipython",
    "version": 3
   },
   "file_extension": ".py",
   "mimetype": "text/x-python",
   "name": "python",
   "nbconvert_exporter": "python",
   "pygments_lexer": "ipython3",
   "version": "3.10.13"
  },
  "papermill": {
   "default_parameters": {},
   "duration": 763.390739,
   "end_time": "2024-05-24T21:48:03.475137",
   "environment_variables": {},
   "exception": null,
   "input_path": "__notebook__.ipynb",
   "output_path": "__notebook__.ipynb",
   "parameters": {},
   "start_time": "2024-05-24T21:35:20.084398",
   "version": "2.5.0"
  }
 },
 "nbformat": 4,
 "nbformat_minor": 5
}
