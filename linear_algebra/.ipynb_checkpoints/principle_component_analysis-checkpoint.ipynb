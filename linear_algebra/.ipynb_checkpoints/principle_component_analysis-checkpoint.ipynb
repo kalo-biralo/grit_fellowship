{
 "cells": [
  {
   "cell_type": "markdown",
   "id": "6cb94f22",
   "metadata": {},
   "source": [
    "# Principle Component Analysis"
   ]
  },
  {
   "cell_type": "code",
   "execution_count": 1,
   "id": "152c7160",
   "metadata": {},
   "outputs": [],
   "source": [
    "import pandas as pd\n",
    "import numpy as np\n",
    "import matplotlib.pyplot as plt\n",
    "from sklearn.decomposition import PCA\n",
    "from sklearn.preprocessing import StandardScaler\n",
    "from mpl_toolkits.mplot3d import Axes3D\n",
    "import math\n",
    "from sklearn.model_selection import train_test_split\n",
    "from sklearn.linear_model import LogisticRegression\n",
    "from sklearn.metrics import accuracy_score\n",
    "\n",
    "%matplotlib inline"
   ]
  },
  {
   "cell_type": "code",
   "execution_count": 2,
   "id": "eb3c55b6",
   "metadata": {},
   "outputs": [],
   "source": [
    "pima_indians_diabetes_db = pd.read_csv(\"../probability_and_statistics/diabetes.csv\")"
   ]
  },
  {
   "cell_type": "code",
   "execution_count": 3,
   "id": "e99f2995",
   "metadata": {},
   "outputs": [
    {
     "name": "stdout",
     "output_type": "stream",
     "text": [
      "<class 'pandas.core.frame.DataFrame'>\n",
      "RangeIndex: 768 entries, 0 to 767\n",
      "Data columns (total 9 columns):\n",
      " #   Column                    Non-Null Count  Dtype  \n",
      "---  ------                    --------------  -----  \n",
      " 0   Pregnancies               768 non-null    int64  \n",
      " 1   Glucose                   768 non-null    int64  \n",
      " 2   BloodPressure             768 non-null    int64  \n",
      " 3   SkinThickness             768 non-null    int64  \n",
      " 4   Insulin                   768 non-null    int64  \n",
      " 5   BMI                       768 non-null    float64\n",
      " 6   DiabetesPedigreeFunction  768 non-null    float64\n",
      " 7   Age                       768 non-null    int64  \n",
      " 8   Outcome                   768 non-null    int64  \n",
      "dtypes: float64(2), int64(7)\n",
      "memory usage: 54.1 KB\n"
     ]
    }
   ],
   "source": [
    "pima_indians_diabetes_db.info()"
   ]
  },
  {
   "cell_type": "code",
   "execution_count": 4,
   "id": "fd190d19",
   "metadata": {},
   "outputs": [
    {
     "data": {
      "text/plain": [
       "(768, 9)"
      ]
     },
     "execution_count": 4,
     "metadata": {},
     "output_type": "execute_result"
    }
   ],
   "source": [
    "pima_indians_diabetes_db.shape"
   ]
  },
  {
   "cell_type": "code",
   "execution_count": 5,
   "id": "f92b0a6b",
   "metadata": {},
   "outputs": [
    {
     "name": "stdout",
     "output_type": "stream",
     "text": [
      "<class 'pandas.core.frame.DataFrame'>\n",
      "RangeIndex: 768 entries, 0 to 767\n",
      "Data columns (total 8 columns):\n",
      " #   Column                    Non-Null Count  Dtype  \n",
      "---  ------                    --------------  -----  \n",
      " 0   Pregnancies               768 non-null    int64  \n",
      " 1   Glucose                   768 non-null    int64  \n",
      " 2   BloodPressure             768 non-null    int64  \n",
      " 3   SkinThickness             768 non-null    int64  \n",
      " 4   Insulin                   768 non-null    int64  \n",
      " 5   BMI                       768 non-null    float64\n",
      " 6   DiabetesPedigreeFunction  768 non-null    float64\n",
      " 7   Age                       768 non-null    int64  \n",
      "dtypes: float64(2), int64(6)\n",
      "memory usage: 48.1 KB\n"
     ]
    }
   ],
   "source": [
    "#separate the target outcome from the rest of the features to later use during logistic regression\n",
    "pima_indians_features = pima_indians_diabetes_db.drop('Outcome', axis = 1)\n",
    "#store the outcomes in a separate pandas Series\n",
    "pima_outcome = pima_indians_diabetes_db['Outcome']\n",
    "pima_indians_features.info()"
   ]
  },
  {
   "cell_type": "code",
   "execution_count": 6,
   "id": "bb5b795e",
   "metadata": {},
   "outputs": [
    {
     "data": {
      "text/plain": [
       "(768, 8)"
      ]
     },
     "execution_count": 6,
     "metadata": {},
     "output_type": "execute_result"
    }
   ],
   "source": [
    "pima_indians_features.shape"
   ]
  },
  {
   "cell_type": "markdown",
   "id": "71243d9f",
   "metadata": {},
   "source": [
    "## PCA using sklearn.decomposition"
   ]
  },
  {
   "cell_type": "code",
   "execution_count": 7,
   "id": "dce0db01",
   "metadata": {},
   "outputs": [
    {
     "name": "stdout",
     "output_type": "stream",
     "text": [
      "(768, 6)\n"
     ]
    }
   ],
   "source": [
    "# Scale data before applying PCA\n",
    "scaling=StandardScaler()\n",
    " \n",
    "# Use fit and transform method; make the data centered around the mean and the make the mean 0\n",
    "scaling.fit(pima_indians_features)\n",
    "Scaled_data=scaling.transform(pima_indians_features)\n",
    " \n",
    "# Set the n_components=6 to reduce dataset features from 9 ro 6\n",
    "principle_sk=PCA(n_components=6)\n",
    "principle_sk.fit(Scaled_data)\n",
    "transformed_dataset_sk=principle_sk.transform(Scaled_data)\n",
    "\n",
    "# Check the dimensions of data after PCA\n",
    "print(transformed_dataset_sk.shape)"
   ]
  },
  {
   "cell_type": "code",
   "execution_count": 74,
   "id": "9f11b603",
   "metadata": {},
   "outputs": [
    {
     "data": {
      "image/png": "[encoded data removed]",
      "text/plain": [
       "<Figure size 800x600 with 1 Axes>"
      ]
     },
     "metadata": {},
     "output_type": "display_data"
    }
   ],
   "source": [
    "# Calculate the explained variance ratio, which the the percentage of variance captured by each principal component\n",
    "explained_variance_ratio = principle_sk.explained_variance_ratio_\n",
    "\n",
    "# Plot the scree plot\n",
    "plt.figure(figsize=(8, 6))\n",
    "plt.bar(range(1, len(explained_variance_ratio) + 1), explained_variance_ratio, align='center')\n",
    "plt.title('Scree Plot from sklearn.decomposition')\n",
    "plt.xlabel('Principal Component')\n",
    "plt.ylabel('Explained Variance Ratio')\n",
    "plt.xticks(range(1, len(explained_variance_ratio) + 1))\n",
    "plt.grid(axis='y', linestyle='--', alpha=0.7)\n",
    "plt.show()"
   ]
  },
  {
   "cell_type": "markdown",
   "id": "87b2bb2f",
   "metadata": {},
   "source": [
    "### How much of the variance of the original dataset does the transformed and reduced data capture using sklearn.decomposition?"
   ]
  },
  {
   "cell_type": "code",
   "execution_count": 8,
   "id": "a308edc1",
   "metadata": {},
   "outputs": [
    {
     "name": "stdout",
     "output_type": "stream",
     "text": [
      "Hence the new reduced dataset captures 89.70% variance of the original dataset\n"
     ]
    }
   ],
   "source": [
    "variance_captured = sum(principle_sk.explained_variance_ratio_) * 100\n",
    "print(f\"Hence the new reduced dataset captures {variance_captured:.2f}% variance of the original dataset\")"
   ]
  },
  {
   "cell_type": "markdown",
   "id": "4af6f83d",
   "metadata": {},
   "source": [
    "## PCA using numpy"
   ]
  },
  {
   "cell_type": "code",
   "execution_count": 9,
   "id": "344f375c",
   "metadata": {},
   "outputs": [],
   "source": [
    "class custom_standardizer_np:\n",
    "    \"\"\"Custom Standardizer for NumPy arrays.\n",
    "\n",
    "    This class standardizes the features of a dataset using mean centering and scaling by the standard deviation.\n",
    "    It provides methods to fit the standardization parameters from the training data and transform new data.\n",
    "\n",
    "    Attributes:\n",
    "        mean (ndarray): Mean values of the features computed during fitting.\n",
    "        standard_dev (ndarray): Standard deviation of the features computed during fitting.\n",
    "    \"\"\"\n",
    "    def __init__(self):\n",
    "        self.mean = None\n",
    "        self.standard_dev = None\n",
    "        \n",
    "    def fit(self, X):\n",
    "        \"\"\"Fit the standardization parameters.\n",
    "\n",
    "        Args:\n",
    "            X (ndarray): Input data with features along columns.\n",
    "\n",
    "        Returns:\n",
    "            None\n",
    "        \"\"\"\n",
    "        self.mean = np.mean(X, axis=0)\n",
    "        self.standard_dev = np.std(X, axis = 0)\n",
    "    \n",
    "    def transform(self, df):\n",
    "        \"\"\"Transform the data using the fitted standardization parameters.\n",
    "\n",
    "        Args:\n",
    "            X (ndarray): Input data with features along columns.\n",
    "\n",
    "        Returns:\n",
    "            ndarray: Transformed data with standardized features.\n",
    "        \"\"\"\n",
    "        df = (df - self.mean)/self.standard_dev\n",
    "        return df\n",
    "    \n",
    "    \n",
    "class custom_pca_np:\n",
    "    \"\"\"Custom Principal Component Analysis (PCA) for NumPy arrays.\n",
    "\n",
    "    This class performs PCA on a dataset using the eigendecomposition of the covariance matrix.\n",
    "    It provides methods to fit the PCA model from the training data and transform new data.\n",
    "\n",
    "    Attributes:\n",
    "        n_components (int): Number of principal components to retain.\n",
    "        components (ndarray): Principal components computed during fitting.\n",
    "        explained_variance_ratio (ndarray): Ratio of explained variance of each principal component.\n",
    "        explained_variance (ndarray): Explained variance of each principal component..\n",
    "    \"\"\"\n",
    "    def __init__(self, n_components):\n",
    "        self.n_components = n_components\n",
    "        self.components = None\n",
    "        self.explained_variance_ratio = None\n",
    "        self.explained_variance = None\n",
    "    \n",
    "    def fit(self, X): \n",
    "        \"\"\"Fit the PCA model from the training data.\n",
    "\n",
    "        Args:\n",
    "            X (ndarray): Input data with features along columns.\n",
    "\n",
    "        Returns:\n",
    "            None\n",
    "        \"\"\"\n",
    "        cov_matrix = np.cov(X, rowvar=False)\n",
    "        self.covar = cov_matrix\n",
    "        \n",
    "        # Eigendecomposition of covariance matrix\n",
    "        eigenvalues, eigenvectors = np.linalg.eig(cov_matrix)\n",
    "        \n",
    "        # Sort eigenvectors based on eigenvalues\n",
    "        eigenvectors = eigenvectors.T\n",
    "        idxs = np.argsort(eigenvalues)[::-1]\n",
    "        eigenvectors = eigenvectors[idxs]\n",
    "        eigenvalues = eigenvalues[idxs]\n",
    "        \n",
    "        self.explained_variance = eigenvalues[:self.n_components]\n",
    "        \n",
    "        # Store the first n_components eigenvectors as principal components\n",
    "        self.components = eigenvectors[:self.n_components]\n",
    "        self.explained_variance_ratio = self.explained_variance/sum(eigenvalues)\n",
    "        \n",
    "        \n",
    "    def transform(self, X):\n",
    "        \"\"\"Transform the data using the fitted PCA model.\n",
    "\n",
    "        Args:\n",
    "            X (ndarray): Input data with features along columns.\n",
    "\n",
    "        Returns:\n",
    "            ndarray: Transformed data with reduced dimensionality.\n",
    "        \"\"\"\n",
    "        X_transformed = np.dot(X, self.components.T)\n",
    "        return X_transformed\n",
    "\n"
   ]
  },
  {
   "cell_type": "code",
   "execution_count": 10,
   "id": "6d989906",
   "metadata": {},
   "outputs": [
    {
     "name": "stdout",
     "output_type": "stream",
     "text": [
      "(768, 6)\n"
     ]
    }
   ],
   "source": [
    "# Scale data before applying PCA\n",
    "standardizer = custom_standardizer_np()\n",
    "# Use fit and transform method; make the data centered around the mean and the make the mean 0\n",
    "standardizer.fit(pima_indians_features)\n",
    "scaled_data = standardizer.transform(pima_indians_features)\n",
    "\n",
    "# Set the n_components=6 to reduce dataset features from 9 ro 6\n",
    "principle_np = custom_pca_np(n_components=6)\n",
    "principle_np.fit(scaled_data)\n",
    "transformed_dataset_np = principle_np.transform(scaled_data)\n",
    "\n",
    "#check dimension after reduction\n",
    "print(transformed_dataset_np.shape)"
   ]
  },
  {
   "cell_type": "code",
   "execution_count": 78,
   "id": "54d92fad",
   "metadata": {},
   "outputs": [
    {
     "data": {
      "image/png": "[encoded data removed]",
      "text/plain": [
       "<Figure size 800x600 with 1 Axes>"
      ]
     },
     "metadata": {},
     "output_type": "display_data"
    }
   ],
   "source": [
    "# Calculate the explained variance ratio\n",
    "explained_variance_ratio_np = principle_np.explained_variance_ratio\n",
    "\n",
    "# Plot the scree plot\n",
    "plt.figure(figsize=(8, 6))\n",
    "plt.bar(range(1, len(explained_variance_ratio_np) + 1), explained_variance_ratio_np, align='center')\n",
    "plt.title('Scree Plot from numpy')\n",
    "plt.xlabel('Principal Component')\n",
    "plt.ylabel('Explained Variance Ratio')\n",
    "plt.xticks(range(1, len(explained_variance_ratio_np) + 1))\n",
    "plt.grid(axis='y', linestyle='--', alpha=0.7)\n",
    "plt.show()"
   ]
  },
  {
   "cell_type": "markdown",
   "id": "73a904d2",
   "metadata": {},
   "source": [
    "### How much of the variance of the original dataset does the transformed and reduced data capture using numpy?"
   ]
  },
  {
   "cell_type": "code",
   "execution_count": 11,
   "id": "284c542a",
   "metadata": {},
   "outputs": [
    {
     "name": "stdout",
     "output_type": "stream",
     "text": [
      "Hence the new reduced dataset captures 89.70% variance of the original dataset\n"
     ]
    }
   ],
   "source": [
    "variance_captured = sum(principle_np.explained_variance_ratio) * 100\n",
    "print(f\"Hence the new reduced dataset captures {variance_captured:.2f}% variance of the original dataset\")"
   ]
  },
  {
   "cell_type": "markdown",
   "id": "e50d4507",
   "metadata": {},
   "source": [
    "## PCA using pure python"
   ]
  },
  {
   "cell_type": "code",
   "execution_count": 12,
   "id": "11da2f3d",
   "metadata": {},
   "outputs": [],
   "source": [
    "class standardizer_py:\n",
    "    \"\"\"Custom Standardizer for Python lists.\n",
    "\n",
    "    This class standardizes the features of a dataset using mean centering and scaling by the standard deviation.\n",
    "    It provides methods to fit the standardization parameters from the training data and transform new data.\n",
    "\n",
    "    Attributes:\n",
    "        mean (list): Mean values of the features computed during fitting.\n",
    "        standard_dev (list): Standard deviation of the features computed during fitting.\n",
    "    \"\"\"\n",
    "    def __init__(self):\n",
    "        self.mean = None\n",
    "        self.standard_dev = None\n",
    "    \n",
    "    def fit(self, X):\n",
    "        \"\"\"Fit the standardization parameters.\n",
    "\n",
    "        Args:\n",
    "            X (list of lists): Input data with features as inner lists.\n",
    "\n",
    "        Returns:\n",
    "            None\n",
    "        \"\"\"\n",
    "        arr = []\n",
    "        for i in X:\n",
    "            l = len(X)\n",
    "            sum = 0 \n",
    "            for j in X[i]:\n",
    "                sum += j\n",
    "            arr.append(sum/l)\n",
    "        self.mean = arr\n",
    "        \n",
    "        arr_std = []\n",
    "        for i in range(len(X.T)):\n",
    "            l = len(X)\n",
    "            sum = 0 \n",
    "            for j in X.iloc[:, i]:\n",
    "                sum += (j - arr[i])**2\n",
    "            arr_std.append(math.sqrt(sum/l))\n",
    "        self.standard_dev = arr_std\n",
    "    \n",
    "    def transform(self, df):\n",
    "        \"\"\"Transform the data using the fitted standardization parameters.\n",
    "\n",
    "        Args:\n",
    "            df (list of lists): Input data with features as inner lists.\n",
    "\n",
    "        Returns:\n",
    "            list of lists: Transformed data with standardized features.\n",
    "        \"\"\"\n",
    "        new_df = []\n",
    "        for i in range(len(df.T)):\n",
    "            row = []\n",
    "            for j in df.iloc[:, i]:\n",
    "                row.append((j-self.mean[i])/self.standard_dev[i])\n",
    "            new_df.append(row)\n",
    "            transposed_df = [list(row) for row in zip(*new_df)]\n",
    "        return transposed_df\n",
    "    \n",
    "\n",
    "class pca_py:\n",
    "    \"\"\"Custom Principal Component Analysis (PCA) for Python lists.\n",
    "\n",
    "    This class performs PCA on a dataset using the eigendecomposition of the covariance matrix.\n",
    "    It provides methods to fit the PCA model from the training data and transform new data.\n",
    "\n",
    "    Attributes:\n",
    "        n_components (int): Number of principal components to retain.\n",
    "        components (list of lists): Principal components computed during fitting.\n",
    "        explained_variance_ratio (list): Ratio of explained variance of each principal component.\n",
    "        explained_variance (list): Explained variance of each principal component.\n",
    "    \"\"\"\n",
    "    def __init__(self, n_components):\n",
    "        self.n_components = n_components\n",
    "        self.components = None\n",
    "        self.explained_variance_ratio = None\n",
    "        self.explained_variance = None\n",
    "    \n",
    "    # Calculate covariance matrix\n",
    "    def _cov_matrix(self, centered):\n",
    "        \"\"\"Calculate the covariance matrix.\n",
    "\n",
    "        Args:\n",
    "            centered (list of lists): Mean-centered input data.\n",
    "\n",
    "        Returns:\n",
    "            list of lists: Covariance matrix.\n",
    "        \"\"\"\n",
    "        # Number of rows\n",
    "        n = len(centered)\n",
    "\n",
    "        # Number of columns\n",
    "        m = len(centered[0])\n",
    "        cov_matrix = [[0] * m for _ in range(m)]\n",
    "        for i in range(m):\n",
    "            for j in range(m):\n",
    "                cov_matrix[i][j] = sum(centered[k][i] * centered[k][j] for k in range(n)) / (n - 1)\n",
    "\n",
    "        return cov_matrix\n",
    "    \n",
    "    def fit(self, X):\n",
    "        \"\"\"Fit the PCA model from the training data.\n",
    "\n",
    "        Args:\n",
    "            X (list of lists): Input data with features as inner lists.\n",
    "\n",
    "        Returns:\n",
    "            None\n",
    "        \"\"\"\n",
    "        cov_matrix = self._cov_matrix(X)\n",
    "        cov_matrix = np.array(cov_matrix)\n",
    "        # Eigendecomposition of covariance matrix\n",
    "        eigenvalues, eigenvectors = np.linalg.eig(cov_matrix)\n",
    "        \n",
    "        # Sort eigenvectors based on eigenvalues\n",
    "        eigenvectors = eigenvectors.T\n",
    "        idxs = np.argsort(eigenvalues)[::-1]\n",
    "        eigenvectors = eigenvectors[idxs]\n",
    "        eigenvalues = eigenvalues[idxs]\n",
    "        self.explained_variance = eigenvalues[:self.n_components]\n",
    "        \n",
    "        # Store the first n_components eigenvectors as principal components\n",
    "        self.components = eigenvectors[:self.n_components]\n",
    "        self.explained_variance_ratio = self.explained_variance/sum(eigenvalues)\n",
    "        \n",
    "    def transform(self, X):\n",
    "        \"\"\"Transform the data using the fitted PCA model.\n",
    "\n",
    "        Args:\n",
    "            X (list of lists): Input data with features as inner lists.\n",
    "\n",
    "        Returns:\n",
    "            list of lists: Transformed data with reduced dimensionality.\n",
    "        \"\"\"\n",
    "        X_transformed = np.dot(X, self.components.T)\n",
    "        return X_transformed\n",
    "        "
   ]
  },
  {
   "cell_type": "code",
   "execution_count": 13,
   "id": "1e466780",
   "metadata": {},
   "outputs": [
    {
     "name": "stdout",
     "output_type": "stream",
     "text": [
      "(768, 6)\n"
     ]
    }
   ],
   "source": [
    "# Scale data before applying PCA\n",
    "standardizer = custom_standardizer_np()\n",
    "# Use fit and transform method; make the data centered around the mean and the make the mean 0\n",
    "standardizer.fit(pima_indians_features)\n",
    "scaled_data = standardizer.transform(pima_indians_features)\n",
    "\n",
    "# Set the n_components=6 to reduce dataset features from 9 ro 6\n",
    "principle_np = custom_pca_np(n_components=6)\n",
    "principle_np.fit(scaled_data)\n",
    "transformed_dataset_np = principle_np.transform(scaled_data)\n",
    "\n",
    "#check dimension after reduction\n",
    "print(transformed_dataset_np.shape)"
   ]
  },
  {
   "cell_type": "code",
   "execution_count": 14,
   "id": "4d369bca",
   "metadata": {},
   "outputs": [],
   "source": [
    "standard_py = standardizer_py()\n",
    "standard_py.fit(pima_indians_features)\n",
    "scaled = standard_py.transform(pima_indians_features)"
   ]
  },
  {
   "cell_type": "code",
   "execution_count": 15,
   "id": "13f76f1d",
   "metadata": {},
   "outputs": [],
   "source": [
    "principle_py = pca_py(6)\n",
    "principle_py.fit(scaled)\n",
    "transformed_dataset_py = principle_py.transform(scaled)"
   ]
  },
  {
   "cell_type": "code",
   "execution_count": 84,
   "id": "2e8714f3",
   "metadata": {},
   "outputs": [
    {
     "data": {
      "image/png": "[encoded data removed]",
      "text/plain": [
       "<Figure size 800x600 with 1 Axes>"
      ]
     },
     "metadata": {},
     "output_type": "display_data"
    }
   ],
   "source": [
    "# Calculate the explained variance ratio\n",
    "explained_variance_ratio_np = principle_py.explained_variance_ratio\n",
    "\n",
    "# Plot the scree plot\n",
    "plt.figure(figsize=(8, 6))\n",
    "plt.bar(range(1, len(explained_variance_ratio_np) + 1), explained_variance_ratio_np, align='center')\n",
    "plt.title('Scree Plot from pure python')\n",
    "plt.xlabel('Principal Component')\n",
    "plt.ylabel('Explained Variance Ratio')\n",
    "plt.xticks(range(1, len(explained_variance_ratio_np) + 1))\n",
    "plt.grid(axis='y', linestyle='--', alpha=0.7)\n",
    "plt.show()"
   ]
  },
  {
   "cell_type": "markdown",
   "id": "d8d2dd86",
   "metadata": {},
   "source": [
    "### How much of the variance of the original dataset does the transformed and reduced data capture using pure python?"
   ]
  },
  {
   "cell_type": "code",
   "execution_count": 16,
   "id": "1603f2a3",
   "metadata": {},
   "outputs": [
    {
     "name": "stdout",
     "output_type": "stream",
     "text": [
      "Hence the new reduced dataset captures 89.70% variance of the original dataset\n"
     ]
    }
   ],
   "source": [
    "variance_captured = sum(principle_py.explained_variance_ratio) * 100\n",
    "print(f\"Hence the new reduced dataset captures {variance_captured:.2f}% variance of the original dataset\")"
   ]
  },
  {
   "cell_type": "markdown",
   "id": "b3bdbdbf",
   "metadata": {},
   "source": [
    "## Train a logistic regression model using the non-reduced dataset and dimentionality reduced dataset"
   ]
  },
  {
   "cell_type": "code",
   "execution_count": 17,
   "id": "32a68521",
   "metadata": {},
   "outputs": [],
   "source": [
    "def log_regression(df, target):\n",
    "    X = df.drop(target, axis=1)  # Features\n",
    "    y = df[target]  # Target variable\n",
    "\n",
    "    # Scale the features\n",
    "    scaler = StandardScaler()\n",
    "    X_scaled = scaler.fit_transform(X)\n",
    "\n",
    "    # Splitting the dataset into training and testing sets (70% train, 30% test)\n",
    "    X_train, X_test, y_train, y_test = train_test_split(X_scaled, y, test_size=0.3, random_state=42)\n",
    "\n",
    "    # Initializing the Logistic Regression model\n",
    "    model = LogisticRegression()\n",
    "\n",
    "    # Training the model\n",
    "    model.fit(X_train, y_train)\n",
    "\n",
    "    # Making predictions\n",
    "    y_pred = model.predict(X_test)\n",
    "\n",
    "    # Calculating accuracy\n",
    "    accuracy = accuracy_score(y_test, y_pred)\n",
    "    return accuracy"
   ]
  },
  {
   "cell_type": "code",
   "execution_count": 21,
   "id": "4e01cb5b",
   "metadata": {},
   "outputs": [
    {
     "name": "stdout",
     "output_type": "stream",
     "text": [
      "Accuracy of logistic regression for non-reduced dataset: 0.736\n"
     ]
    }
   ],
   "source": [
    "print(f\"Accuracy of logistic regression for non-reduced dataset: {log_regression(pima_indians_diabetes_db, 'Outcome'):.3f}\")"
   ]
  },
  {
   "cell_type": "code",
   "execution_count": 18,
   "id": "11e8df74",
   "metadata": {},
   "outputs": [
    {
     "name": "stdout",
     "output_type": "stream",
     "text": [
      "Accuracy of logistic regression for dataset reduced to 6 features by performing PCA using sklearn.decomposition: 0.736\n"
     ]
    }
   ],
   "source": [
    "df_sk = pd.DataFrame(transformed_dataset_sk)\n",
    "df_sk = pd.concat([df_sk, pima_outcome], axis = 1)\n",
    "print(f\"Accuracy of logistic regression for dataset reduced to 6 features by performing PCA using sklearn.decomposition: {log_regression(df_sk, 'Outcome'):.3f}\")"
   ]
  },
  {
   "cell_type": "code",
   "execution_count": 19,
   "id": "a8e64cf7",
   "metadata": {},
   "outputs": [
    {
     "name": "stdout",
     "output_type": "stream",
     "text": [
      "Accuracy of logistic regression for dataset reduced to 6 features by performing PCA using numpy: 0.736\n"
     ]
    }
   ],
   "source": [
    "df_np = pd.DataFrame(transformed_dataset_np)\n",
    "df_np = pd.concat([df_np, pima_outcome], axis = 1)\n",
    "print(f\"Accuracy of logistic regression for dataset reduced to 6 features by performing PCA using numpy: {log_regression(df_np, 'Outcome'):.3f}\")"
   ]
  },
  {
   "cell_type": "code",
   "execution_count": 20,
   "id": "7b3f95d9",
   "metadata": {},
   "outputs": [
    {
     "name": "stdout",
     "output_type": "stream",
     "text": [
      "Accuracy of logistic regression for dataset reduced to 6 features by performing PCA using python: 0.736\n"
     ]
    }
   ],
   "source": [
    "df_py = pd.DataFrame(transformed_dataset_py)\n",
    "df_py = pd.concat([df_py, pima_outcome], axis = 1)\n",
    "print(f\"Accuracy of logistic regression for dataset reduced to 6 features by performing PCA using python: {log_regression(df_py, 'Outcome'):.3f}\")"
   ]
  },
  {
   "cell_type": "markdown",
   "id": "3555acc9",
   "metadata": {},
   "source": [
    "### Observation\n",
    "<p>\n",
    "    The logistic model trained using the reduces dataset performed the same as teh logistic model trained using the non-reduced\n",
    "    dataset\n",
    "</p>"
   ]
  },
  {
   "cell_type": "markdown",
   "id": "a2e078a3",
   "metadata": {},
   "source": [
    "#### Let's train the model using datasets reduced to even lower dimensions"
   ]
  },
  {
   "cell_type": "code",
   "execution_count": 22,
   "id": "6d8ecd2c",
   "metadata": {},
   "outputs": [
    {
     "name": "stdout",
     "output_type": "stream",
     "text": [
      "(768, 5)\n"
     ]
    }
   ],
   "source": [
    "# Set the n_components=5 to reduce dataset features from 9 to 5\n",
    "principle_sk_five=PCA(n_components=5)\n",
    "principle_sk_five.fit(Scaled_data)\n",
    "transformed_dataset_sk_five=principle_sk_five.transform(Scaled_data)\n",
    "\n",
    "# Check the dimensions of data after PCA\n",
    "print(transformed_dataset_sk_five.shape)"
   ]
  },
  {
   "cell_type": "code",
   "execution_count": 24,
   "id": "bd2713d2",
   "metadata": {},
   "outputs": [
    {
     "name": "stdout",
     "output_type": "stream",
     "text": [
      "Hence the new reduced dataset captures 81.16% variance of the original dataset\n"
     ]
    }
   ],
   "source": [
    "variance_captured_five = sum(principle_sk_five.explained_variance_ratio_) * 100\n",
    "print(f\"Hence the new reduced dataset captures {variance_captured_five:.2f}% variance of the original dataset\")"
   ]
  },
  {
   "cell_type": "code",
   "execution_count": 25,
   "id": "2e240d74",
   "metadata": {},
   "outputs": [
    {
     "name": "stdout",
     "output_type": "stream",
     "text": [
      "Accuracy of logistic regression for dataset reduced to 5 features by performing PCA using sklearn.decomposition: 0.710\n"
     ]
    }
   ],
   "source": [
    "df_sk_five = pd.DataFrame(transformed_dataset_sk_five)\n",
    "df_sk_five = pd.concat([df_sk_five, pima_outcome], axis = 1)\n",
    "print(f\"Accuracy of logistic regression for dataset reduced to 5 features by performing PCA using sklearn.decomposition: {log_regression(df_sk_five, 'Outcome'):.3f}\")"
   ]
  },
  {
   "cell_type": "markdown",
   "id": "f7bddb1c",
   "metadata": {},
   "source": [
    "### Reducing the features to capture about 90% of the variance seems to have no effect on the accuracy of logisitic regression model. Reducing the variance captured to 81% (5 PCs in our case) however had the effect of reducing overall accuracy of the logistic regression model."
   ]
  },
  {
   "cell_type": "code",
   "execution_count": null,
   "id": "eef342f9",
   "metadata": {},
   "outputs": [],
   "source": []
  }
 ],
 "metadata": {
  "kernelspec": {
   "display_name": "Python 3 (ipykernel)",
   "language": "python",
   "name": "python3"
  },
  "language_info": {
   "codemirror_mode": {
    "name": "ipython",
    "version": 3
   },
   "file_extension": ".py",
   "mimetype": "text/x-python",
   "name": "python",
   "nbconvert_exporter": "python",
   "pygments_lexer": "ipython3",
   "version": "3.9.0"
  }
 },
 "nbformat": 4,
 "nbformat_minor": 5
}
