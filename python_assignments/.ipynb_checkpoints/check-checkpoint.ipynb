{
 "cells": [
  {
   "cell_type": "code",
   "execution_count": 2,
   "id": "80680051",
   "metadata": {},
   "outputs": [],
   "source": [
    "import numpy as np\n",
    "import pandas as pd"
   ]
  },
  {
   "cell_type": "code",
   "execution_count": 3,
   "id": "b1cf4879",
   "metadata": {},
   "outputs": [
    {
     "data": {
      "text/plain": [
       "False"
      ]
     },
     "execution_count": 3,
     "metadata": {},
     "output_type": "execute_result"
    }
   ],
   "source": [
    "#q1\n",
    "\n",
    "def isLeapYear(year):\n",
    "    \"\"\" \n",
    "    checks whether a given year is a leapyear or not using \n",
    "    \"\"\"\n",
    "    #if the year is not divisible by 4 it is not a leap year further checking not required\n",
    "    if year % 4 != 0:\n",
    "        return False\n",
    "    #if divisible by 4 check divisibility by 100\n",
    "    elif year % 100 == 0:\n",
    "        #if divisible by both 4 and 100, divisibility by 400 determines whether it is leap year or not\n",
    "        if year % 400 == 0:\n",
    "            return True\n",
    "        else:\n",
    "            return False\n",
    "    #in case of the year being only divible by 4 and not 100 it is leap year\n",
    "    else:\n",
    "        return True\n",
    "isLeapYear(2500)"
   ]
  },
  {
   "cell_type": "code",
   "execution_count": 4,
   "id": "fb1e55ec",
   "metadata": {},
   "outputs": [
    {
     "name": "stdout",
     "output_type": "stream",
     "text": [
      "[1, 2, 3, 4, 5, 8]\n"
     ]
    }
   ],
   "source": [
    "#q2\n",
    "\n",
    "def intersection(l1,l2):\n",
    "    \"\"\"\n",
    "    l1 -> first list\n",
    "    l2 -> second list\n",
    "    finds the intersection of two lists ie returns the values that are common in both lists as a new list.\n",
    "    \"\"\"\n",
    "    #convert the list to set datatype in order to utilize the .intersection functions available for set datatype\n",
    "    #convert the set datatype back to the lists datatype\n",
    "    final_list = list(set(l1).intersection(set(l2)))\n",
    "    return final_list\n",
    "print(intersection([3,2,1,4,5,3,8], [5,5,5,8,8,1,7,4,2,3,7,1]))"
   ]
  },
  {
   "cell_type": "code",
   "execution_count": 5,
   "id": "5446506e",
   "metadata": {},
   "outputs": [
    {
     "name": "stdout",
     "output_type": "stream",
     "text": [
      "{'P': 0, 'r': 1, 'a': 2, 's': 3, 'h': 4, 'j': 5, 'e': 7, 'v': 8}\n"
     ]
    }
   ],
   "source": [
    "#q3\n",
    "\n",
    "def wordIndex(word):\n",
    "    \"\"\"\n",
    "    finds the index of each letter in a string and makes a dictionary with the keys as the albhabets and the \n",
    "    values as the index of letter\n",
    "    \"\"\"\n",
    "    #\n",
    "    index = np.array(range(len(word)))\n",
    "    return dict(zip(word, index))\n",
    "\n",
    "print(wordIndex(\"Prashjeev\"))"
   ]
  },
  {
   "cell_type": "code",
   "execution_count": 6,
   "id": "07b7d80e",
   "metadata": {},
   "outputs": [
    {
     "name": "stdout",
     "output_type": "stream",
     "text": [
      "[1, 3, 5, 7, 9, 2, 4, 6, 8, 10]\n"
     ]
    }
   ],
   "source": [
    "#q4\n",
    "\n",
    "def sort_list_odd_first(list):\n",
    "    \"\"\"\n",
    "    sorts a given list of integers in ascending order but the odd numbers are indexed first and then the even numbers\n",
    "    \"\"\"\n",
    "    l_odd = [x for x in list if x % 2 != 0]\n",
    "    l_even = [x for x in list if x%2 == 0]\n",
    "    l_odd.sort()\n",
    "    l_even.sort()\n",
    "    final_list = l_odd + l_even\n",
    "    return final_list\n",
    "\n",
    "print(sort_list_odd_first([1,2,3,4,5,6,7,8,9,10]))"
   ]
  },
  {
   "cell_type": "code",
   "execution_count": 9,
   "id": "177510a9",
   "metadata": {},
   "outputs": [
    {
     "data": {
      "text/plain": [
       "[1, 4, 5]"
      ]
     },
     "execution_count": 9,
     "metadata": {},
     "output_type": "execute_result"
    }
   ],
   "source": [
    "#q5\n",
    "\n",
    "def diff(list1, list2):\n",
    "    \"\"\"find the symmetric difference between two lists ie outputs (A-B) + (B-A) if A and B are the given lists\"\"\"\n",
    "    #converts the list datatype to set datatype to utilize the in-built symmetric_difference function\n",
    "    #convert back to list to maintain list in list out format\n",
    "    return list(set(list1).symmetric_difference(set(list2)))\n",
    "diff([4,2,4,3], [3,5,2,1])"
   ]
  },
  {
   "cell_type": "code",
   "execution_count": 11,
   "id": "db9e7d3d",
   "metadata": {},
   "outputs": [
    {
     "data": {
      "text/plain": [
       "['abba', 'oao']"
      ]
     },
     "execution_count": 11,
     "metadata": {},
     "output_type": "execute_result"
    }
   ],
   "source": [
    "#q6\n",
    "\n",
    "def isPalindrome(word):\n",
    "    \"\"\"checks if the given word is a palindrome\"\"\"\n",
    "    #converts all of the words to lowercase to avoid Aba being not identified as a palindrome\n",
    "    l_word = word.lower()\n",
    "    #returns boolean true if the string in revers matches the given string\n",
    "    return l_word == l_word[::-1]\n",
    "    \n",
    "def palindromes(list_of_words):\n",
    "    return [x for x in list_of_words if isPalindrome(x)]\n",
    "\n",
    "lists = [\"abba\", \"prashjeev\", \"baba\", \"oao\", \"malayam\"]\n",
    "palindromes(lists)"
   ]
  },
  {
   "cell_type": "code",
   "execution_count": 12,
   "id": "18448acb",
   "metadata": {},
   "outputs": [
    {
     "data": {
      "text/plain": [
       "[('aa', 20), ('aaaa', 10), ('tttt', 100), ('ppppp', 9)]"
      ]
     },
     "execution_count": 12,
     "metadata": {},
     "output_type": "execute_result"
    }
   ],
   "source": [
    "#q7\n",
    "\n",
    "def word_len(w):\n",
    "    \"\"\"returns length of object in 0 index of w\"\"\"\n",
    "    return len(w[0])\n",
    "def word_random(w):\n",
    "    \"\"\"returns length of object in 1 index of w\"\"\"\n",
    "    return w[1]\n",
    "\n",
    "l = [(\"ppppp\", 9), (\"tttt\", 100), (\"aa\", 20), (\"aaaa\", 10)]\n",
    "#the list of tuples are first sorted according to the integer values in ascending order\n",
    "l.sort(key = word_random)\n",
    "#the list of tuples are then sorted according to the length of the words in ascending order\n",
    "l.sort(key = word_len)\n",
    "\"\"\"\n",
    "as the tuples are sorted according to their integers first, incase of words of same length,\n",
    "their order is preserved when sorting according to the length of words the second time.\n",
    "\"\"\"\n",
    "l"
   ]
  },
  {
   "cell_type": "code",
   "execution_count": 14,
   "id": "bc313b9c",
   "metadata": {},
   "outputs": [
    {
     "data": {
      "text/plain": [
       "{'a': 200, 'c': 100, 'l': 89, 't': 10}"
      ]
     },
     "execution_count": 14,
     "metadata": {},
     "output_type": "execute_result"
    }
   ],
   "source": [
    "#q8\n",
    "d = {\n",
    "    \"c\": 100,\n",
    "    \"l\": 200,\n",
    "    \"a\": 10,\n",
    "    \"t\": 89\n",
    "}\n",
    "def dict_sort(dit):\n",
    "    \"\"\"takes a dictionary and returns a dictionary where the keys are alphabetically sorted in ascending order and the  \n",
    "    values are sorted according to integer value in descending order\"\"\"\n",
    "    #obtain list of dictionary keys and dictionary values\n",
    "    l1 = list(dit.keys())\n",
    "    l2 = list(dit.values())\n",
    "    #sort keys in ascending order and values in descending order\n",
    "    l1.sort()\n",
    "    l2.sort(reverse = True)\n",
    "    #zip the two sorted lists together and convert them into a dictionary datatype\n",
    "    return dict(zip(l1,l2))\n",
    "\n",
    "dict_sort(d)"
   ]
  },
  {
   "cell_type": "code",
   "execution_count": 15,
   "id": "7af09752",
   "metadata": {},
   "outputs": [
    {
     "data": {
      "text/plain": [
       "[('aaaa', [0, 10]), ('ppppp', [9, 5, 3]), ('aa', [20, 22]), ('tttt', [100, 1])]"
      ]
     },
     "execution_count": 15,
     "metadata": {},
     "output_type": "execute_result"
    }
   ],
   "source": [
    "#q9\n",
    "def word_len(w):\n",
    "    \"\"\"returns length of object in 0 index of w\"\"\"\n",
    "    return len(w[0])\n",
    "def integer_sum(w):\n",
    "    \"\"\"returns sum of object in 1 index of w\"\"\"\n",
    "    return sum(w[1])\n",
    "\n",
    "l = [(\"ppppp\", [9,5,3]), (\"tttt\", [100,1]), (\"aa\", [20,22]), (\"aaaa\", [0,10])]\n",
    "#the list of tuples are first sorted according to the length of words in ascending order\n",
    "l.sort(key = word_len)\n",
    "#the list of tuples are then sorted according to the sum of integers in the list in ascending order\n",
    "l.sort(key = integer_sum)\n",
    "\"\"\"\n",
    "as the tuples are sorted according to the length of words first, incase of tuples of same sum\n",
    "their order is preserved when sorting according to the sum of integers the second time.\n",
    "\"\"\"\n",
    "l"
   ]
  },
  {
   "cell_type": "code",
   "execution_count": 19,
   "id": "fb79e6a7",
   "metadata": {},
   "outputs": [
    {
     "data": {
      "text/plain": [
       "'house house house'"
      ]
     },
     "execution_count": 19,
     "metadata": {},
     "output_type": "execute_result"
    }
   ],
   "source": [
    "#q10\n",
    "from collections import Counter\n",
    "\n",
    "def most_common_word(sentence):\n",
    "    \"\"\"replces all of the words in a sentence with the most common word in that sentence\"\"\"\n",
    "    #sentence is made into a list\n",
    "    words = sentence.split()\n",
    "    #count the words and their occurences using Counter and store in counter object word_counts\n",
    "    word_counts = Counter(words)\n",
    "    \"\"\"\n",
    "    using max obtain the most common word in the sentence, key=word_counts.get is used so that words are \n",
    "    compared on their number of occurence and not the word itself\n",
    "    \"\"\"    \n",
    "    most_common_word = max(word_counts, key=word_counts.get)\n",
    "    return ' '.join([most_common_word] * len(words))\n",
    "\n",
    "sent = \"house house neighbour\"\n",
    "most_common_word(sent)"
   ]
  },
  {
   "cell_type": "code",
   "execution_count": 21,
   "id": "755d11e1",
   "metadata": {},
   "outputs": [
    {
     "data": {
      "text/plain": [
       "[('aaaa', [0, 10]), ('ppppp', [9, 5, 3]), ('aa', [20, 22]), ('tttt', [100, 1])]"
      ]
     },
     "execution_count": 21,
     "metadata": {},
     "output_type": "execute_result"
    }
   ],
   "source": [
    "#q11\n",
    "from statistics import median\n",
    "def word_len(w):\n",
    "    \"\"\"returns length of object in 0 index of w\"\"\"\n",
    "    return len(w[0])\n",
    "def integer_median(w):\n",
    "    \"\"\"returns median of object in 1 index of w\"\"\"\n",
    "    return median(w[1])\n",
    "\n",
    "l = [(\"ppppp\", [9,5,3]), (\"tttt\", [100,1]), (\"aa\", [20,22]), (\"aaaa\", [0,10])]\n",
    "# the list of tuples are first sorted according to the length of words in ascending order\n",
    "l.sort(key = word_len)\n",
    "# the list of tuples are then sorted according to the median of the list of integers in ascending order \n",
    "l.sort(key = integer_median)\n",
    "\"\"\"\n",
    "as the tuples are sorted according to the length of words first, incase of tuples of same median\n",
    "their order is preserved when sorting according to the median the second time.\n",
    "\"\"\"\n",
    "l"
   ]
  },
  {
   "cell_type": "code",
   "execution_count": 23,
   "id": "e05e689a",
   "metadata": {},
   "outputs": [
    {
     "name": "stdout",
     "output_type": "stream",
     "text": [
      "[5, 6, 7, 1, 2, 3, 4]\n"
     ]
    }
   ],
   "source": [
    "#q12\n",
    "def rotate(nums, k):\n",
    "    \"\"\"\n",
    "    nums -> list of numbers\n",
    "    k -> integer by which the list should rotate\n",
    "    rotates a given list in o(1) space complexity\n",
    "    k is the integer value by which all the numbers in the nums list shift to the right\n",
    "    \"\"\"\n",
    "    n = len(nums)\n",
    "    #done to insure that when k>n the function still works as intended\n",
    "    k %= n\n",
    "    \n",
    "    #sorts the list in reverse order from (n-k)th index value to the last index value\n",
    "    reverse(nums, n - k, n - 1)\n",
    "    \n",
    "    #sorts the list in reverse order from 0th index value to the (n-k-1)th index value\n",
    "    reverse(nums, 0, n - k - 1)\n",
    "    \n",
    "    #reverses the list one last time to bring the list in the correct order.\n",
    "    reverse(nums, 0, n - 1)\n",
    "\n",
    "def reverse(nums, start, end):\n",
    "    \"\"\"\n",
    "    nums -> list of numbers to be sorted in reverse\n",
    "    start -> starting index from which the list to be sorted\n",
    "    end -> index upto which the list should be sorted\n",
    "    reverses a given list with a space complexity of o(1)\n",
    "    \"\"\"\n",
    "    #exchanges the references of the start and end index in place without using additional memory\n",
    "    while start < end:\n",
    "        nums[start], nums[end] = nums[end], nums[start]\n",
    "        start += 1\n",
    "        end -= 1\n",
    "\n",
    "nums = [1, 2, 3, 4, 5, 6, 7]\n",
    "rotate(nums, 3)\n",
    "print(nums)\n"
   ]
  },
  {
   "cell_type": "code",
   "execution_count": null,
   "id": "ce55d30d",
   "metadata": {},
   "outputs": [],
   "source": []
  }
 ],
 "metadata": {
  "kernelspec": {
   "display_name": "Python 3 (ipykernel)",
   "language": "python",
   "name": "python3"
  },
  "language_info": {
   "codemirror_mode": {
    "name": "ipython",
    "version": 3
   },
   "file_extension": ".py",
   "mimetype": "text/x-python",
   "name": "python",
   "nbconvert_exporter": "python",
   "pygments_lexer": "ipython3",
   "version": "3.9.0"
  }
 },
 "nbformat": 4,
 "nbformat_minor": 5
}
