{
 "cells": [
  {
   "cell_type": "code",
   "execution_count": 1,
   "id": "b694f439",
   "metadata": {},
   "outputs": [],
   "source": [
    "import pandas as pd"
   ]
  },
  {
   "cell_type": "code",
   "execution_count": 2,
   "id": "0214dc69",
   "metadata": {},
   "outputs": [],
   "source": [
    "week1_df = pd.read_csv('../datasets/data2/data2/restaurant/week_1_sales.csv')\n",
    "week2_df = pd.read_csv('../datasets/data2/data2/restaurant/week_2_sales.csv')"
   ]
  },
  {
   "cell_type": "code",
   "execution_count": 4,
   "id": "5982fc27",
   "metadata": {},
   "outputs": [
    {
     "name": "stdout",
     "output_type": "stream",
     "text": [
      "            Customer ID  Food ID\n",
      "Week 1 0            537        9\n",
      "       1             97        4\n",
      "       2            658        1\n",
      "       3            202        2\n",
      "       4            155        9\n",
      "...                 ...      ...\n",
      "Week 2 245          783       10\n",
      "       246          556       10\n",
      "       247          547        9\n",
      "       248          252        9\n",
      "       249          249        6\n",
      "\n",
      "[500 rows x 2 columns]\n"
     ]
    }
   ],
   "source": [
    "# Concatenate the two DataFrames\n",
    "combined_df = pd.concat([week1_df, week2_df], keys=['Week 1', 'Week 2'])\n",
    "\n",
    "# Display the combined DataFrame\n",
    "print(combined_df)"
   ]
  },
  {
   "cell_type": "code",
   "execution_count": 5,
   "id": "387ae006",
   "metadata": {},
   "outputs": [
    {
     "name": "stdout",
     "output_type": "stream",
     "text": [
      "Customers who ate at the restaurant both weeks:\n",
      "[537 155 503 550 101  75  77 628 798 462 304 189 799  30 249 677 741 540\n",
      " 819 937 233  21 459 816 761  80 479 922 909 919 574  45 529 673 310 867\n",
      " 968 482 163 321 783 578 520 945 343 621]\n"
     ]
    }
   ],
   "source": [
    "# Merge the two DataFrames on the customer ID column\n",
    "both_weeks_customers = pd.merge(week1_df, week2_df, on='Customer ID', how='inner')\n",
    "\n",
    "# Extract unique customer IDs from the result\n",
    "unique_customers = both_weeks_customers['Customer ID'].unique()\n",
    "\n",
    "# Display the customers who ate at the restaurant both weeks\n",
    "print(\"Customers who ate at the restaurant both weeks:\")\n",
    "print(unique_customers)\n"
   ]
  },
  {
   "cell_type": "code",
   "execution_count": 7,
   "id": "e0a4e77a",
   "metadata": {},
   "outputs": [
    {
     "name": "stdout",
     "output_type": "stream",
     "text": [
      "Customers who ate at the restaurant both weeks and ordered the same item each week:\n",
      "[304 540 937 233  21 922 578]\n"
     ]
    }
   ],
   "source": [
    "# Merge the two DataFrames on both 'Customer ID' and 'Item' columns\n",
    "both_weeks_same_item = pd.merge(week1_df, week2_df, on=['Customer ID', 'Food ID'], how='inner')\n",
    "\n",
    "# Extract unique customer IDs from the result\n",
    "unique_customers = both_weeks_same_item['Customer ID'].unique()\n",
    "\n",
    "# Display the customers who ate at the restaurant both weeks and ordered the same item each week\n",
    "print(\"Customers who ate at the restaurant both weeks and ordered the same item each week:\")\n",
    "print(unique_customers)\n"
   ]
  },
  {
   "cell_type": "code",
   "execution_count": 8,
   "id": "e3179787",
   "metadata": {},
   "outputs": [
    {
     "name": "stdout",
     "output_type": "stream",
     "text": [
      "Customers who came in only on Week 1:\n",
      "     Customer ID  Food ID_x  Food ID_y\n",
      "1             97          4        NaN\n",
      "2            658          1        NaN\n",
      "3            202          2        NaN\n",
      "5            213          8        NaN\n",
      "6            600          1        NaN\n",
      "..           ...        ...        ...\n",
      "252          413          9        NaN\n",
      "253          926          6        NaN\n",
      "254          134          3        NaN\n",
      "255          396          6        NaN\n",
      "256          535         10        NaN\n",
      "\n",
      "[195 rows x 3 columns]\n",
      "\n",
      "Customers who came in only on Week 2:\n",
      "     Customer ID  Food ID_x  Food ID_y\n",
      "0            688        NaN         10\n",
      "1            813        NaN          7\n",
      "2            495        NaN         10\n",
      "4            267        NaN          3\n",
      "8            443        NaN          5\n",
      "..           ...        ...        ...\n",
      "249          734        NaN          1\n",
      "251          276        NaN          4\n",
      "255          556        NaN         10\n",
      "256          547        NaN          9\n",
      "257          252        NaN          9\n",
      "\n",
      "[197 rows x 3 columns]\n"
     ]
    }
   ],
   "source": [
    "# Perform left join to find customers unique to Week 1\n",
    "only_week1_customers = pd.merge(week1_df, week2_df, on='Customer ID', how='left', indicator=True)\n",
    "only_week1_customers = only_week1_customers[only_week1_customers['_merge'] == 'left_only']\n",
    "only_week1_customers = only_week1_customers.drop(columns='_merge')\n",
    "\n",
    "# Perform right join to find customers unique to Week 2\n",
    "only_week2_customers = pd.merge(week1_df, week2_df, on='Customer ID', how='right', indicator=True)\n",
    "only_week2_customers = only_week2_customers[only_week2_customers['_merge'] == 'right_only']\n",
    "only_week2_customers = only_week2_customers.drop(columns='_merge')\n",
    "\n",
    "# Display customers who came in only on Week 1\n",
    "print(\"Customers who came in only on Week 1:\")\n",
    "print(only_week1_customers)\n",
    "\n",
    "# Display customers who came in only on Week 2\n",
    "print(\"\\nCustomers who came in only on Week 2:\")\n",
    "print(only_week2_customers)\n"
   ]
  },
  {
   "cell_type": "code",
   "execution_count": 9,
   "id": "62b9b20c",
   "metadata": {},
   "outputs": [
    {
     "ename": "NameError",
     "evalue": "name 'customer_df' is not defined",
     "output_type": "error",
     "traceback": [
      "\u001b[1;31m---------------------------------------------------------------------------\u001b[0m",
      "\u001b[1;31mNameError\u001b[0m                                 Traceback (most recent call last)",
      "Cell \u001b[1;32mIn[9], line 2\u001b[0m\n\u001b[0;32m      1\u001b[0m \u001b[38;5;66;03m# Perform a merge operation to pull customer information from the customer DataFrame\u001b[39;00m\n\u001b[1;32m----> 2\u001b[0m week1_with_customer_info \u001b[38;5;241m=\u001b[39m pd\u001b[38;5;241m.\u001b[39mmerge(week1_df, \u001b[43mcustomer_df\u001b[49m, on\u001b[38;5;241m=\u001b[39m\u001b[38;5;124m'\u001b[39m\u001b[38;5;124mCustomer ID\u001b[39m\u001b[38;5;124m'\u001b[39m, how\u001b[38;5;241m=\u001b[39m\u001b[38;5;124m'\u001b[39m\u001b[38;5;124mleft\u001b[39m\u001b[38;5;124m'\u001b[39m)\n\u001b[0;32m      4\u001b[0m \u001b[38;5;66;03m# Display the DataFrame with customer information\u001b[39;00m\n\u001b[0;32m      5\u001b[0m \u001b[38;5;28mprint\u001b[39m(week1_with_customer_info)\n",
      "\u001b[1;31mNameError\u001b[0m: name 'customer_df' is not defined"
     ]
    }
   ],
   "source": [
    "# Perform a merge operation to pull customer information from the customer DataFrame\n",
    "week1_with_customer_info = pd.merge(week1_df, customer_df, on='Customer ID', how='left')\n",
    "\n",
    "# Display the DataFrame with customer information\n",
    "print(week1_with_customer_info)\n"
   ]
  },
  {
   "cell_type": "code",
   "execution_count": null,
   "id": "eef77d42",
   "metadata": {},
   "outputs": [],
   "source": []
  }
 ],
 "metadata": {
  "kernelspec": {
   "display_name": "Python 3 (ipykernel)",
   "language": "python",
   "name": "python3"
  },
  "language_info": {
   "codemirror_mode": {
    "name": "ipython",
    "version": 3
   },
   "file_extension": ".py",
   "mimetype": "text/x-python",
   "name": "python",
   "nbconvert_exporter": "python",
   "pygments_lexer": "ipython3",
   "version": "3.9.0"
  }
 },
 "nbformat": 4,
 "nbformat_minor": 5
}
