{
 "cells": [
  {
   "cell_type": "code",
   "execution_count": 1,
   "id": "3530b6f5",
   "metadata": {},
   "outputs": [],
   "source": [
    "import pandas as pd\n",
    "import numpy as np"
   ]
  },
  {
   "cell_type": "code",
   "execution_count": 2,
   "id": "f4d15da4",
   "metadata": {},
   "outputs": [],
   "source": [
    "# Load the CSV file into a DataFrame\n",
    "customers_df = pd.read_csv('../datasets/data2/data2/string_customers.csv')"
   ]
  },
  {
   "cell_type": "code",
   "execution_count": 3,
   "id": "0368ca01",
   "metadata": {},
   "outputs": [
    {
     "name": "stdout",
     "output_type": "stream",
     "text": [
      "                  Name                      Street          City  \\\n",
      "0        Frank Manning           6461 Quinn Groves  East Matthew   \n",
      "1    Elizabeth Johnson  1360 Tracey Ports Apt. 419      Kyleport   \n",
      "2      Donald Stephens        19120 Fleming Manors   Prestonstad   \n",
      "3  Michael Vincent III            441 Olivia Creek    Jimmymouth   \n",
      "4       Jasmine Zamora  4246 Chelsey Ford Apt. 310     Karamouth   \n",
      "\n",
      "           State    Zip  \n",
      "0  New Hampshire  16656  \n",
      "1        Vermont  31924  \n",
      "2        Montana  23495  \n",
      "3        Georgia  82991  \n",
      "4           Utah  76252  \n"
     ]
    }
   ],
   "source": [
    "# Split the 'Address' column into multiple columns\n",
    "address_split = customers_df['Address'].str.split(', ', expand=True)\n",
    "\n",
    "# Assign the split values to new columns\n",
    "customers_df['Street'] = address_split[0]\n",
    "customers_df['City'] = address_split[1]\n",
    "customers_df['State'] = address_split[2]\n",
    "customers_df['Zip'] = address_split[3]\n",
    "\n",
    "# Remove the 'Address' column\n",
    "customers_df.drop(columns=['Address'], inplace=True)\n",
    "\n",
    "# Display the updated DataFrame\n",
    "print(customers_df.head())\n"
   ]
  }
 ],
 "metadata": {
  "kernelspec": {
   "display_name": "Python 3 (ipykernel)",
   "language": "python",
   "name": "python3"
  },
  "language_info": {
   "codemirror_mode": {
    "name": "ipython",
    "version": 3
   },
   "file_extension": ".py",
   "mimetype": "text/x-python",
   "name": "python",
   "nbconvert_exporter": "python",
   "pygments_lexer": "ipython3",
   "version": "3.9.0"
  }
 },
 "nbformat": 4,
 "nbformat_minor": 5
}
