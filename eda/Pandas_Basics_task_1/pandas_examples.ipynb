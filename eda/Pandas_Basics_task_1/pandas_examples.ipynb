{
 "cells": [
  {
   "cell_type": "code",
   "execution_count": 1,
   "id": "10815896",
   "metadata": {},
   "outputs": [],
   "source": [
    "import numpy as np\n",
    "import pandas as pd"
   ]
  },
  {
   "cell_type": "markdown",
   "id": "77126ef6",
   "metadata": {},
   "source": [
    "### Q2 Create pandas dataframe from different data structures"
   ]
  },
  {
   "cell_type": "code",
   "execution_count": 2,
   "id": "0b912726",
   "metadata": {},
   "outputs": [
    {
     "name": "stdout",
     "output_type": "stream",
     "text": [
      "DataFrame from lists:\n",
      "     Name  Age Occupation\n",
      "0  Sunita   25   Engineer\n",
      "1  Rajesh   30     Doctor\n",
      "2  Sarita   35     Artist\n",
      "\n",
      "DataFrame from dictionary:\n",
      "     Name  Age Occupation\n",
      "0  Sunita   25   Engineer\n",
      "1  Rajesh   30     Doctor\n",
      "2  Sarita   35     Artist\n",
      "\n",
      "DataFrame from tuples:\n",
      "     Name  Age Occupation\n",
      "0  Sunita   25   Engineer\n",
      "1  Rajesh   30     Doctor\n",
      "2  Sarita   35     Artist\n",
      "\n",
      "DataFrame from arrays:\n",
      "        Name Age Occupation  Locations height_cm\n",
      "0     Sunita  25   Engineer  Kathmandu       170\n",
      "1     Rajesh  30     Doctor  Kathmandu       172\n",
      "2     Sarita  35     Artist  Kathmandu       140\n",
      "3  Prashjeev  24   Engineer  Kathmandu       165\n",
      "4       Hari  22     Singer    Pokhara       180\n",
      "5    Bahadur  50       Neta    Pokhara       200\n",
      "6     Sarita  28    Dentist    Pokhara       155\n",
      "7  Prashjeev  24   Engineer  Kathmandu       165\n",
      "8     Bardan  12    Student    Pokhara       160\n"
     ]
    }
   ],
   "source": [
    "# Using lists\n",
    "data_list = [['Sunita', 25, 'Engineer'],\n",
    "             ['Rajesh', 30, 'Doctor'],\n",
    "             ['Sarita', 35, 'Artist']]\n",
    "\n",
    "# Using dictionaries\n",
    "data_dict = {'Name': ['Sunita', 'Rajesh', 'Sarita'],\n",
    "             'Age': [25, 30, 35],\n",
    "             'Occupation': ['Engineer', 'Doctor', 'Artist']}\n",
    "\n",
    "# Using tuples\n",
    "data_tuples = [('Sunita', 25, 'Engineer'),\n",
    "               ('Rajesh', 30, 'Doctor'),\n",
    "               ('Sarita', 35, 'Artist')]\n",
    "\n",
    "#Using numpy arrays\n",
    "names = np.array(['Sunita', 'Rajesh', 'Sarita', 'Prashjeev', 'Hari', 'Bahadur', 'Sarita', 'Prashjeev', 'Bardan'])\n",
    "ages = np.array([25, 30, \"35\", 24, 22, \"50\", 28, 24, 12])\n",
    "occupations = np.array(['Engineer', 'Doctor', 'Artist', 'Engineer', 'Singer', 'Neta', 'Dentist', 'Engineer', 'Student'])\n",
    "locations = np.array([\"Kathmandu\" for _ in range(4)] + [\"Pokhara\" for _ in range(3)] + ['Kathmandu'] + ['Pokhara'])\n",
    "height = np.array(['170', '172', '140', '165', '180', '200', '155', '165', '160'])\n",
    "\n",
    "\n",
    "# Create DataFrame from lists\n",
    "df_list = pd.DataFrame(data_list, columns=['Name', 'Age', 'Occupation'])\n",
    "\n",
    "# Create DataFrame from dictionary\n",
    "df_dict = pd.DataFrame(data_dict)\n",
    "\n",
    "# Create DataFrame from tuples\n",
    "df_tuples = pd.DataFrame(data_tuples, columns=['Name', 'Age', 'Occupation'])\n",
    "\n",
    "# Create DataFrame from arrays\n",
    "df_arrays = pd.DataFrame({'Name': names, 'Age': ages, 'Occupation': occupations, 'Locations': locations, 'height_cm': height})\n",
    "\n",
    "\n",
    "print(\"DataFrame from lists:\")\n",
    "print(df_list)\n",
    "print(\"\\nDataFrame from dictionary:\")\n",
    "print(df_dict)\n",
    "print(\"\\nDataFrame from tuples:\")\n",
    "print(df_tuples)\n",
    "print(\"\\nDataFrame from arrays:\")\n",
    "print(df_arrays)\n"
   ]
  },
  {
   "cell_type": "markdown",
   "id": "06b57864",
   "metadata": {},
   "source": [
    "### Q3 Type casting and type conversion in pandas"
   ]
  },
  {
   "cell_type": "code",
   "execution_count": 110,
   "id": "532480b7",
   "metadata": {},
   "outputs": [
    {
     "name": "stdout",
     "output_type": "stream",
     "text": [
      "<class 'pandas.core.series.Series'>\n",
      "RangeIndex: 9 entries, 0 to 8\n",
      "Series name: Age\n",
      "Non-Null Count  Dtype \n",
      "--------------  ----- \n",
      "9 non-null      object\n",
      "dtypes: object(1)\n",
      "memory usage: 200.0+ bytes\n"
     ]
    }
   ],
   "source": [
    "df_arrays['Age'].info()"
   ]
  },
  {
   "cell_type": "code",
   "execution_count": 111,
   "id": "aa7d85bb",
   "metadata": {},
   "outputs": [
    {
     "name": "stdout",
     "output_type": "stream",
     "text": [
      "<class 'pandas.core.series.Series'>\n",
      "RangeIndex: 9 entries, 0 to 8\n",
      "Series name: Age\n",
      "Non-Null Count  Dtype\n",
      "--------------  -----\n",
      "9 non-null      int32\n",
      "dtypes: int32(1)\n",
      "memory usage: 164.0 bytes\n"
     ]
    }
   ],
   "source": [
    "# Type casting a column to integer\n",
    "df_arrays['Age'] = df_arrays['Age'].astype(int)\n",
    "df_arrays['Age'].info()"
   ]
  },
  {
   "cell_type": "code",
   "execution_count": 112,
   "id": "4628d313",
   "metadata": {},
   "outputs": [
    {
     "name": "stdout",
     "output_type": "stream",
     "text": [
      "<class 'pandas.core.series.Series'>\n",
      "RangeIndex: 9 entries, 0 to 8\n",
      "Series name: height_cm\n",
      "Non-Null Count  Dtype \n",
      "--------------  ----- \n",
      "9 non-null      object\n",
      "dtypes: object(1)\n",
      "memory usage: 200.0+ bytes\n"
     ]
    }
   ],
   "source": [
    "df_arrays['height_cm'].info()"
   ]
  },
  {
   "cell_type": "code",
   "execution_count": 113,
   "id": "61e1bc4f",
   "metadata": {},
   "outputs": [
    {
     "name": "stdout",
     "output_type": "stream",
     "text": [
      "<class 'pandas.core.series.Series'>\n",
      "RangeIndex: 9 entries, 0 to 8\n",
      "Series name: height_cm\n",
      "Non-Null Count  Dtype\n",
      "--------------  -----\n",
      "9 non-null      int64\n",
      "dtypes: int64(1)\n",
      "memory usage: 200.0 bytes\n"
     ]
    }
   ],
   "source": [
    "# Type conversion to numeric\n",
    "df_arrays['height_cm'] = pd.to_numeric(df_arrays['height_cm'])\n",
    "df_arrays['height_cm'].info()"
   ]
  },
  {
   "cell_type": "markdown",
   "id": "deda5595",
   "metadata": {},
   "source": [
    "### Q3 Dataframe Slicing operations"
   ]
  },
  {
   "cell_type": "code",
   "execution_count": 114,
   "id": "cf5d6fed",
   "metadata": {},
   "outputs": [
    {
     "name": "stdout",
     "output_type": "stream",
     "text": [
      "Print the first row using .loc: \n",
      "Name             Sunita\n",
      "Age                  25\n",
      "Occupation     Engineer\n",
      "Locations     Kathmandu\n",
      "height_cm           170\n",
      "Name: 0, dtype: object\n",
      "\n",
      "Print the first row using .iloc: \n",
      "Name             Sunita\n",
      "Age                  25\n",
      "Occupation     Engineer\n",
      "Locations     Kathmandu\n",
      "height_cm           170\n",
      "Name: 0, dtype: object\n",
      "\n",
      "Print the fifth row using .loc: \n",
      "Name             Hari\n",
      "Age                22\n",
      "Occupation     Singer\n",
      "Locations     Pokhara\n",
      "height_cm         180\n",
      "Name: 4, dtype: object\n",
      "\n",
      "Print the fifth row using .iloc: \n",
      "Name             Hari\n",
      "Age                22\n",
      "Occupation     Singer\n",
      "Locations     Pokhara\n",
      "height_cm         180\n",
      "Name: 4, dtype: object\n"
     ]
    }
   ],
   "source": [
    "#select specific rows\n",
    "print(f\"Print the first row using .loc: \\n{df_arrays.loc[0]}\")\n",
    "print(f\"\\nPrint the first row using .iloc: \\n{df_arrays.iloc[0]}\")\n",
    "print(f\"\\nPrint the fifth row using .loc: \\n{df_arrays.loc[4]}\")\n",
    "print(f\"\\nPrint the fifth row using .iloc: \\n{df_arrays.iloc[4]}\")"
   ]
  },
  {
   "cell_type": "code",
   "execution_count": 115,
   "id": "e9465619",
   "metadata": {},
   "outputs": [
    {
     "name": "stdout",
     "output_type": "stream",
     "text": [
      "Print the first column using .loc: \n",
      "0       Sunita\n",
      "1       Rajesh\n",
      "2       Sarita\n",
      "3    Prashjeev\n",
      "4         Hari\n",
      "5      Bahadur\n",
      "6       Sarita\n",
      "7    Prashjeev\n",
      "8       Bardan\n",
      "Name: Name, dtype: object\n",
      "\n",
      "Print the first column using .iloc: \n",
      "0       Sunita\n",
      "1       Rajesh\n",
      "2       Sarita\n",
      "3    Prashjeev\n",
      "4         Hari\n",
      "5      Bahadur\n",
      "6       Sarita\n",
      "7    Prashjeev\n",
      "8       Bardan\n",
      "Name: Name, dtype: object\n",
      "\n",
      "Print the third column using .loc: \n",
      "0    Engineer\n",
      "1      Doctor\n",
      "2      Artist\n",
      "3    Engineer\n",
      "4      Singer\n",
      "5        Neta\n",
      "6     Dentist\n",
      "7    Engineer\n",
      "8     Student\n",
      "Name: Occupation, dtype: object\n",
      "\n",
      "Print the third column using .iloc: \n",
      "0    Engineer\n",
      "1      Doctor\n",
      "2      Artist\n",
      "3    Engineer\n",
      "4      Singer\n",
      "5        Neta\n",
      "6     Dentist\n",
      "7    Engineer\n",
      "8     Student\n",
      "Name: Occupation, dtype: object\n"
     ]
    }
   ],
   "source": [
    "#selecting specific columns\n",
    "print(f\"Print the first column using .loc: \\n{df_arrays.loc[:, 'Name']}\")\n",
    "print(f\"\\nPrint the first column using .iloc: \\n{df_arrays.iloc[:, 0]}\")\n",
    "print(f\"\\nPrint the third column using .loc: \\n{df_arrays.loc[:, 'Occupation']}\")\n",
    "print(f\"\\nPrint the third column using .iloc: \\n{df_arrays.iloc[:, 2]}\")"
   ]
  },
  {
   "cell_type": "code",
   "execution_count": 116,
   "id": "b02e1398",
   "metadata": {},
   "outputs": [
    {
     "name": "stdout",
     "output_type": "stream",
     "text": [
      "Print the first 3 rows using .loc: \n",
      "     Name  Age Occupation  Locations  height_cm\n",
      "0  Sunita   25   Engineer  Kathmandu        170\n",
      "1  Rajesh   30     Doctor  Kathmandu        172\n",
      "2  Sarita   35     Artist  Kathmandu        140\n",
      "\n",
      "Print the first 3 rows using .iloc: \n",
      "     Name  Age Occupation  Locations  height_cm\n",
      "0  Sunita   25   Engineer  Kathmandu        170\n",
      "1  Rajesh   30     Doctor  Kathmandu        172\n",
      "2  Sarita   35     Artist  Kathmandu        140\n",
      "\n",
      "Print the 3rd to 6th row using .loc: \n",
      "        Name  Age Occupation  Locations  height_cm\n",
      "2     Sarita   35     Artist  Kathmandu        140\n",
      "3  Prashjeev   24   Engineer  Kathmandu        165\n",
      "4       Hari   22     Singer    Pokhara        180\n",
      "5    Bahadur   50       Neta    Pokhara        200\n",
      "\n",
      "Print the 3rd to 6th row using .iloc: \n",
      "        Name  Age Occupation  Locations  height_cm\n",
      "2     Sarita   35     Artist  Kathmandu        140\n",
      "3  Prashjeev   24   Engineer  Kathmandu        165\n",
      "4       Hari   22     Singer    Pokhara        180\n",
      "5    Bahadur   50       Neta    Pokhara        200\n"
     ]
    }
   ],
   "source": [
    "#slicing rows\n",
    "print(f\"Print the first 3 rows using .loc: \\n{df_arrays.loc[:2]}\")\n",
    "print(f\"\\nPrint the first 3 rows using .iloc: \\n{df_arrays.iloc[:3]}\")\n",
    "print(f\"\\nPrint the 3rd to 6th row using .loc: \\n{df_arrays.loc[2:5]}\")\n",
    "print(f\"\\nPrint the 3rd to 6th row using .iloc: \\n{df_arrays.iloc[2:6]}\")"
   ]
  },
  {
   "cell_type": "code",
   "execution_count": 117,
   "id": "4f6c5524",
   "metadata": {},
   "outputs": [
    {
     "name": "stdout",
     "output_type": "stream",
     "text": [
      "Print the first 3 column using .loc: \n",
      "        Name  Age Occupation\n",
      "0     Sunita   25   Engineer\n",
      "1     Rajesh   30     Doctor\n",
      "2     Sarita   35     Artist\n",
      "3  Prashjeev   24   Engineer\n",
      "4       Hari   22     Singer\n",
      "5    Bahadur   50       Neta\n",
      "6     Sarita   28    Dentist\n",
      "7  Prashjeev   24   Engineer\n",
      "8     Bardan   12    Student\n",
      "\n",
      "Print the first 3 columns using .iloc: \n",
      "        Name  Age Occupation\n",
      "0     Sunita   25   Engineer\n",
      "1     Rajesh   30     Doctor\n",
      "2     Sarita   35     Artist\n",
      "3  Prashjeev   24   Engineer\n",
      "4       Hari   22     Singer\n",
      "5    Bahadur   50       Neta\n",
      "6     Sarita   28    Dentist\n",
      "7  Prashjeev   24   Engineer\n",
      "8     Bardan   12    Student\n",
      "\n",
      "Print the 2nd to  4th columns using .loc: \n",
      "   Age Occupation  Locations\n",
      "0   25   Engineer  Kathmandu\n",
      "1   30     Doctor  Kathmandu\n",
      "2   35     Artist  Kathmandu\n",
      "3   24   Engineer  Kathmandu\n",
      "4   22     Singer    Pokhara\n",
      "5   50       Neta    Pokhara\n",
      "6   28    Dentist    Pokhara\n",
      "7   24   Engineer  Kathmandu\n",
      "8   12    Student    Pokhara\n",
      "\n",
      "Print the 2nd to 4th columns using .iloc: \n",
      "   Age Occupation  Locations\n",
      "0   25   Engineer  Kathmandu\n",
      "1   30     Doctor  Kathmandu\n",
      "2   35     Artist  Kathmandu\n",
      "3   24   Engineer  Kathmandu\n",
      "4   22     Singer    Pokhara\n",
      "5   50       Neta    Pokhara\n",
      "6   28    Dentist    Pokhara\n",
      "7   24   Engineer  Kathmandu\n",
      "8   12    Student    Pokhara\n"
     ]
    }
   ],
   "source": [
    "#slicing columns\n",
    "print(f\"Print the first 3 column using .loc: \\n{df_arrays.loc[:, :'Occupation']}\")\n",
    "print(f\"\\nPrint the first 3 columns using .iloc: \\n{df_arrays.iloc[:, :3]}\")\n",
    "print(f\"\\nPrint the 2nd to  4th columns using .loc: \\n{df_arrays.loc[:, 'Age':'Locations']}\")\n",
    "print(f\"\\nPrint the 2nd to 4th columns using .iloc: \\n{df_arrays.iloc[:, 1:4]}\")"
   ]
  },
  {
   "cell_type": "code",
   "execution_count": 118,
   "id": "e521bef6",
   "metadata": {},
   "outputs": [
    {
     "name": "stdout",
     "output_type": "stream",
     "text": [
      "Print the 2nd to 5th rows and first 3 columns using .loc: \n",
      "        Name  Age Occupation\n",
      "1     Rajesh   30     Doctor\n",
      "2     Sarita   35     Artist\n",
      "3  Prashjeev   24   Engineer\n",
      "4       Hari   22     Singer\n",
      "\n",
      "Print the 2nd to 5th rows first 3 columns using .iloc: \n",
      "        Name  Age Occupation\n",
      "1     Rajesh   30     Doctor\n",
      "2     Sarita   35     Artist\n",
      "3  Prashjeev   24   Engineer\n"
     ]
    }
   ],
   "source": [
    "#slicing rows and columns together\n",
    "print(f\"Print the 2nd to 5th rows and first 3 columns using .loc: \\n{df_arrays.loc[1:4, :'Occupation']}\")\n",
    "print(f\"\\nPrint the 2nd to 5th rows first 3 columns using .iloc: \\n{df_arrays.iloc[1:4, :3]}\")"
   ]
  },
  {
   "cell_type": "code",
   "execution_count": 119,
   "id": "0d7bd906",
   "metadata": {
    "scrolled": true
   },
   "outputs": [
    {
     "name": "stdout",
     "output_type": "stream",
     "text": [
      "Print all rows that have age greater than 25: \n",
      "      Name  Age Occupation  Locations  height_cm\n",
      "1   Rajesh   30     Doctor  Kathmandu        172\n",
      "2   Sarita   35     Artist  Kathmandu        140\n",
      "5  Bahadur   50       Neta    Pokhara        200\n",
      "6   Sarita   28    Dentist    Pokhara        155\n",
      "\n",
      "Print all rows that have location as 'Pokhara': \n",
      "      Name  Age Occupation Locations  height_cm\n",
      "4     Hari   22     Singer   Pokhara        180\n",
      "5  Bahadur   50       Neta   Pokhara        200\n",
      "6   Sarita   28    Dentist   Pokhara        155\n",
      "8   Bardan   12    Student   Pokhara        160\n",
      "\n",
      "Print all rows that have location as 'Pokhara' and age greater than 25: \n",
      "      Name  Age Occupation Locations  height_cm\n",
      "5  Bahadur   50       Neta   Pokhara        200\n",
      "6   Sarita   28    Dentist   Pokhara        155\n",
      "\n",
      "Print all rows that have location as 'Pokhara' or age greater than 25: \n",
      "      Name  Age Occupation  Locations  height_cm\n",
      "1   Rajesh   30     Doctor  Kathmandu        172\n",
      "2   Sarita   35     Artist  Kathmandu        140\n",
      "4     Hari   22     Singer    Pokhara        180\n",
      "5  Bahadur   50       Neta    Pokhara        200\n",
      "6   Sarita   28    Dentist    Pokhara        155\n",
      "8   Bardan   12    Student    Pokhara        160\n"
     ]
    }
   ],
   "source": [
    "#slicing using boolean indexing\n",
    "\n",
    "print(f\"Print all rows that have age greater than 25: \\n{df_arrays[df_arrays['Age'] > 25]}\")\n",
    "print(f\"\\nPrint all rows that have location as 'Pokhara': \\n{df_arrays[df_arrays['Locations'] == 'Pokhara']}\")\n",
    "print(f\"\\nPrint all rows that have location as 'Pokhara' and age greater than 25: \\n{df_arrays[(df_arrays['Locations'] == 'Pokhara') & (df_arrays['Age'] > 25)]}\")\n",
    "print(f\"\\nPrint all rows that have location as 'Pokhara' or age greater than 25: \\n{df_arrays[(df_arrays['Locations'] == 'Pokhara') | (df_arrays['Age'] > 25)]}\")"
   ]
  },
  {
   "cell_type": "markdown",
   "id": "a29d2153",
   "metadata": {},
   "source": [
    "### Q5 Find and drop duplicates"
   ]
  },
  {
   "cell_type": "code",
   "execution_count": 120,
   "id": "2f1d9104",
   "metadata": {},
   "outputs": [
    {
     "name": "stdout",
     "output_type": "stream",
     "text": [
      "Original DataFrame:\n",
      "        Name  Age Occupation  Locations  height_cm\n",
      "0     Sunita   25   Engineer  Kathmandu        170\n",
      "1     Rajesh   30     Doctor  Kathmandu        172\n",
      "2     Sarita   35     Artist  Kathmandu        140\n",
      "3  Prashjeev   24   Engineer  Kathmandu        165\n",
      "4       Hari   22     Singer    Pokhara        180\n",
      "5    Bahadur   50       Neta    Pokhara        200\n",
      "6     Sarita   28    Dentist    Pokhara        155\n",
      "7  Prashjeev   24   Engineer  Kathmandu        165\n",
      "8     Bardan   12    Student    Pokhara        160\n",
      "\n",
      "Duplicate Rows:\n",
      "        Name  Age Occupation  Locations  height_cm\n",
      "7  Prashjeev   24   Engineer  Kathmandu        165\n",
      "\n",
      "DataFrame after dropping duplicates:\n",
      "        Name  Age Occupation  Locations  height_cm\n",
      "0     Sunita   25   Engineer  Kathmandu        170\n",
      "1     Rajesh   30     Doctor  Kathmandu        172\n",
      "2     Sarita   35     Artist  Kathmandu        140\n",
      "3  Prashjeev   24   Engineer  Kathmandu        165\n",
      "4       Hari   22     Singer    Pokhara        180\n",
      "5    Bahadur   50       Neta    Pokhara        200\n",
      "6     Sarita   28    Dentist    Pokhara        155\n",
      "8     Bardan   12    Student    Pokhara        160\n"
     ]
    }
   ],
   "source": [
    "# Display the first few rows of the DataFrame\n",
    "print(\"Original DataFrame:\")\n",
    "print(df_arrays)\n",
    "\n",
    "# Find duplicates based on all columns\n",
    "duplicate_rows = df_arrays[df_arrays.duplicated()]\n",
    "\n",
    "# Display duplicate rows\n",
    "print(\"\\nDuplicate Rows:\")\n",
    "print(duplicate_rows)\n",
    "\n",
    "# Drop duplicates and update the DataFrame\n",
    "df_arrays.drop_duplicates(inplace=True)\n",
    "\n",
    "# Display the updated DataFrame after dropping duplicates\n",
    "print(\"\\nDataFrame after dropping duplicates:\")\n",
    "print(df_arrays)\n",
    "\n"
   ]
  },
  {
   "cell_type": "markdown",
   "id": "08eb0b88",
   "metadata": {},
   "source": [
    "### Q6 Create a new column and use the apply function"
   ]
  },
  {
   "cell_type": "code",
   "execution_count": 122,
   "id": "7faeecf5",
   "metadata": {},
   "outputs": [
    {
     "name": "stdout",
     "output_type": "stream",
     "text": [
      "The dataframe after new column was added\n",
      "        Name  Age Occupation  Locations  height_cm adult_or_kid\n",
      "0     Sunita   25   Engineer  Kathmandu        170        Adult\n",
      "1     Rajesh   30     Doctor  Kathmandu        172        Adult\n",
      "2     Sarita   35     Artist  Kathmandu        140        Adult\n",
      "3  Prashjeev   24   Engineer  Kathmandu        165        Adult\n",
      "4       Hari   22     Singer    Pokhara        180        Adult\n",
      "5    Bahadur   50       Neta    Pokhara        200        Adult\n",
      "6     Sarita   28    Dentist    Pokhara        155        Adult\n",
      "8     Bardan   12    Student    Pokhara        160          Kid\n"
     ]
    }
   ],
   "source": [
    "def adult_or_kid(age):\n",
    "    if age > 18:\n",
    "        return \"Adult\"\n",
    "    else:\n",
    "        return \"Kid\"\n",
    "df_arrays['adult_or_kid'] = df_arrays['Age'].apply(adult_or_kid)\n",
    "print(\"The dataframe after new column was added\")\n",
    "print(df_arrays)"
   ]
  },
  {
   "cell_type": "markdown",
   "id": "10458e45",
   "metadata": {},
   "source": [
    "### Q7 Summary functions"
   ]
  },
  {
   "cell_type": "code",
   "execution_count": 124,
   "id": "10e9682d",
   "metadata": {},
   "outputs": [
    {
     "name": "stdout",
     "output_type": "stream",
     "text": [
      "<class 'pandas.core.frame.DataFrame'>\n",
      "Index: 8 entries, 0 to 8\n",
      "Data columns (total 6 columns):\n",
      " #   Column        Non-Null Count  Dtype \n",
      "---  ------        --------------  ----- \n",
      " 0   Name          8 non-null      object\n",
      " 1   Age           8 non-null      int32 \n",
      " 2   Occupation    8 non-null      object\n",
      " 3   Locations     8 non-null      object\n",
      " 4   height_cm     8 non-null      int64 \n",
      " 5   adult_or_kid  8 non-null      object\n",
      "dtypes: int32(1), int64(1), object(4)\n",
      "memory usage: 416.0+ bytes\n"
     ]
    }
   ],
   "source": [
    "# Display concise summary information about the DataFrame\n",
    "df_arrays.info()"
   ]
  },
  {
   "cell_type": "code",
   "execution_count": 125,
   "id": "e44e1048",
   "metadata": {},
   "outputs": [
    {
     "data": {
      "text/html": [
       "<div>\n",
       "<style scoped>\n",
       "    .dataframe tbody tr th:only-of-type {\n",
       "        vertical-align: middle;\n",
       "    }\n",
       "\n",
       "    .dataframe tbody tr th {\n",
       "        vertical-align: top;\n",
       "    }\n",
       "\n",
       "    .dataframe thead th {\n",
       "        text-align: right;\n",
       "    }\n",
       "</style>\n",
       "<table border=\"1\" class=\"dataframe\">\n",
       "  <thead>\n",
       "    <tr style=\"text-align: right;\">\n",
       "      <th></th>\n",
       "      <th>Age</th>\n",
       "      <th>height_cm</th>\n",
       "    </tr>\n",
       "  </thead>\n",
       "  <tbody>\n",
       "    <tr>\n",
       "      <th>count</th>\n",
       "      <td>8.000000</td>\n",
       "      <td>8.000000</td>\n",
       "    </tr>\n",
       "    <tr>\n",
       "      <th>mean</th>\n",
       "      <td>28.250000</td>\n",
       "      <td>167.750000</td>\n",
       "    </tr>\n",
       "    <tr>\n",
       "      <th>std</th>\n",
       "      <td>11.042127</td>\n",
       "      <td>17.782415</td>\n",
       "    </tr>\n",
       "    <tr>\n",
       "      <th>min</th>\n",
       "      <td>12.000000</td>\n",
       "      <td>140.000000</td>\n",
       "    </tr>\n",
       "    <tr>\n",
       "      <th>25%</th>\n",
       "      <td>23.500000</td>\n",
       "      <td>158.750000</td>\n",
       "    </tr>\n",
       "    <tr>\n",
       "      <th>50%</th>\n",
       "      <td>26.500000</td>\n",
       "      <td>167.500000</td>\n",
       "    </tr>\n",
       "    <tr>\n",
       "      <th>75%</th>\n",
       "      <td>31.250000</td>\n",
       "      <td>174.000000</td>\n",
       "    </tr>\n",
       "    <tr>\n",
       "      <th>max</th>\n",
       "      <td>50.000000</td>\n",
       "      <td>200.000000</td>\n",
       "    </tr>\n",
       "  </tbody>\n",
       "</table>\n",
       "</div>"
      ],
      "text/plain": [
       "             Age   height_cm\n",
       "count   8.000000    8.000000\n",
       "mean   28.250000  167.750000\n",
       "std    11.042127   17.782415\n",
       "min    12.000000  140.000000\n",
       "25%    23.500000  158.750000\n",
       "50%    26.500000  167.500000\n",
       "75%    31.250000  174.000000\n",
       "max    50.000000  200.000000"
      ]
     },
     "execution_count": 125,
     "metadata": {},
     "output_type": "execute_result"
    }
   ],
   "source": [
    "# Generate descriptive statistics summarizing the central tendency, dispersion, and shape of the DataFrame's distribution for numeric columns\n",
    "df_arrays.describe()"
   ]
  },
  {
   "cell_type": "code",
   "execution_count": 126,
   "id": "a800e6d3",
   "metadata": {},
   "outputs": [
    {
     "data": {
      "text/plain": [
       "Locations\n",
       "Kathmandu    4\n",
       "Pokhara      4\n",
       "Name: count, dtype: int64"
      ]
     },
     "execution_count": 126,
     "metadata": {},
     "output_type": "execute_result"
    }
   ],
   "source": [
    "# returns a Series containing counts of unique values in a DataFrame column.\n",
    "df_arrays['Locations'].value_counts()"
   ]
  },
  {
   "cell_type": "code",
   "execution_count": 129,
   "id": "327c3773",
   "metadata": {},
   "outputs": [
    {
     "data": {
      "text/html": [
       "<div>\n",
       "<style scoped>\n",
       "    .dataframe tbody tr th:only-of-type {\n",
       "        vertical-align: middle;\n",
       "    }\n",
       "\n",
       "    .dataframe tbody tr th {\n",
       "        vertical-align: top;\n",
       "    }\n",
       "\n",
       "    .dataframe thead th {\n",
       "        text-align: right;\n",
       "    }\n",
       "</style>\n",
       "<table border=\"1\" class=\"dataframe\">\n",
       "  <thead>\n",
       "    <tr style=\"text-align: right;\">\n",
       "      <th></th>\n",
       "      <th>Age</th>\n",
       "      <th>height_cm</th>\n",
       "    </tr>\n",
       "  </thead>\n",
       "  <tbody>\n",
       "    <tr>\n",
       "      <th>Age</th>\n",
       "      <td>1.000000</td>\n",
       "      <td>0.420883</td>\n",
       "    </tr>\n",
       "    <tr>\n",
       "      <th>height_cm</th>\n",
       "      <td>0.420883</td>\n",
       "      <td>1.000000</td>\n",
       "    </tr>\n",
       "  </tbody>\n",
       "</table>\n",
       "</div>"
      ],
      "text/plain": [
       "                Age  height_cm\n",
       "Age        1.000000   0.420883\n",
       "height_cm  0.420883   1.000000"
      ]
     },
     "execution_count": 129,
     "metadata": {},
     "output_type": "execute_result"
    }
   ],
   "source": [
    "# Calculates the correlation between columns in a DataFrame\n",
    "df_arrays[[\"Age\", \"height_cm\"]].corr()"
   ]
  },
  {
   "cell_type": "code",
   "execution_count": 131,
   "id": "c807c9d1",
   "metadata": {},
   "outputs": [
    {
     "data": {
      "text/html": [
       "<div>\n",
       "<style scoped>\n",
       "    .dataframe tbody tr th:only-of-type {\n",
       "        vertical-align: middle;\n",
       "    }\n",
       "\n",
       "    .dataframe tbody tr th {\n",
       "        vertical-align: top;\n",
       "    }\n",
       "\n",
       "    .dataframe thead th {\n",
       "        text-align: right;\n",
       "    }\n",
       "</style>\n",
       "<table border=\"1\" class=\"dataframe\">\n",
       "  <thead>\n",
       "    <tr style=\"text-align: right;\">\n",
       "      <th></th>\n",
       "      <th>Age</th>\n",
       "      <th>height_cm</th>\n",
       "    </tr>\n",
       "  </thead>\n",
       "  <tbody>\n",
       "    <tr>\n",
       "      <th>Age</th>\n",
       "      <td>121.928571</td>\n",
       "      <td>82.642857</td>\n",
       "    </tr>\n",
       "    <tr>\n",
       "      <th>height_cm</th>\n",
       "      <td>82.642857</td>\n",
       "      <td>316.214286</td>\n",
       "    </tr>\n",
       "  </tbody>\n",
       "</table>\n",
       "</div>"
      ],
      "text/plain": [
       "                  Age   height_cm\n",
       "Age        121.928571   82.642857\n",
       "height_cm   82.642857  316.214286"
      ]
     },
     "execution_count": 131,
     "metadata": {},
     "output_type": "execute_result"
    }
   ],
   "source": [
    "# Calculates the covariance between columns in a DataFrame\n",
    "df_arrays[[\"Age\", \"height_cm\"]].cov()"
   ]
  },
  {
   "cell_type": "code",
   "execution_count": null,
   "id": "f8505f7a",
   "metadata": {},
   "outputs": [],
   "source": []
  }
 ],
 "metadata": {
  "kernelspec": {
   "display_name": "Python 3 (ipykernel)",
   "language": "python",
   "name": "python3"
  },
  "language_info": {
   "codemirror_mode": {
    "name": "ipython",
    "version": 3
   },
   "file_extension": ".py",
   "mimetype": "text/x-python",
   "name": "python",
   "nbconvert_exporter": "python",
   "pygments_lexer": "ipython3",
   "version": "3.9.0"
  }
 },
 "nbformat": 4,
 "nbformat_minor": 5
}
