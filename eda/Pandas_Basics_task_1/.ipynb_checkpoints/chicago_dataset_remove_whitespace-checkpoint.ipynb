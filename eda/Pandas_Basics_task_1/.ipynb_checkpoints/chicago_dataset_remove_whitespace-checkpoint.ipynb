{
 "cells": [
  {
   "cell_type": "code",
   "execution_count": 1,
   "id": "c9333d56",
   "metadata": {},
   "outputs": [],
   "source": [
    "import pandas as pd\n",
    "import numpy as np"
   ]
  },
  {
   "cell_type": "code",
   "execution_count": 12,
   "id": "155c725c",
   "metadata": {},
   "outputs": [],
   "source": [
    "#make two copies of the dataset to test two methods ie str and apply\n",
    "chicago_food_inspection = pd.read_csv('../datasets/chicago_food_inspections.csv')\n",
    "chicago = chicago_food_inspection"
   ]
  },
  {
   "cell_type": "code",
   "execution_count": 13,
   "id": "48bc34fc",
   "metadata": {},
   "outputs": [
    {
     "name": "stdout",
     "output_type": "stream",
     "text": [
      "<class 'pandas.core.frame.DataFrame'>\n",
      "RangeIndex: 153810 entries, 0 to 153809\n",
      "Data columns (total 2 columns):\n",
      " #   Column  Non-Null Count   Dtype \n",
      "---  ------  --------------   ----- \n",
      " 0   Name    153810 non-null  object\n",
      " 1   Risk    153744 non-null  object\n",
      "dtypes: object(2)\n",
      "memory usage: 2.3+ MB\n"
     ]
    }
   ],
   "source": [
    "chicago_food_inspection.info()"
   ]
  },
  {
   "cell_type": "code",
   "execution_count": 14,
   "id": "fe5978df",
   "metadata": {},
   "outputs": [
    {
     "data": {
      "text/html": [
       "<div>\n",
       "<style scoped>\n",
       "    .dataframe tbody tr th:only-of-type {\n",
       "        vertical-align: middle;\n",
       "    }\n",
       "\n",
       "    .dataframe tbody tr th {\n",
       "        vertical-align: top;\n",
       "    }\n",
       "\n",
       "    .dataframe thead th {\n",
       "        text-align: right;\n",
       "    }\n",
       "</style>\n",
       "<table border=\"1\" class=\"dataframe\">\n",
       "  <thead>\n",
       "    <tr style=\"text-align: right;\">\n",
       "      <th></th>\n",
       "      <th>Name</th>\n",
       "      <th>Risk</th>\n",
       "    </tr>\n",
       "  </thead>\n",
       "  <tbody>\n",
       "    <tr>\n",
       "      <th>0</th>\n",
       "      <td>MARRIOT MARQUIS CHICAGO</td>\n",
       "      <td>Risk 1 (High)</td>\n",
       "    </tr>\n",
       "    <tr>\n",
       "      <th>1</th>\n",
       "      <td>JETS PIZZA</td>\n",
       "      <td>Risk 2 (Medium)</td>\n",
       "    </tr>\n",
       "    <tr>\n",
       "      <th>2</th>\n",
       "      <td>ROOM 1520</td>\n",
       "      <td>Risk 3 (Low)</td>\n",
       "    </tr>\n",
       "    <tr>\n",
       "      <th>3</th>\n",
       "      <td>MARRIOT MARQUIS CHICAGO</td>\n",
       "      <td>Risk 1 (High)</td>\n",
       "    </tr>\n",
       "    <tr>\n",
       "      <th>4</th>\n",
       "      <td>CHARTWELLS</td>\n",
       "      <td>Risk 1 (High)</td>\n",
       "    </tr>\n",
       "  </tbody>\n",
       "</table>\n",
       "</div>"
      ],
      "text/plain": [
       "                          Name             Risk\n",
       "0   MARRIOT MARQUIS CHICAGO       Risk 1 (High)\n",
       "1                  JETS PIZZA   Risk 2 (Medium)\n",
       "2                   ROOM 1520      Risk 3 (Low)\n",
       "3    MARRIOT MARQUIS CHICAGO      Risk 1 (High)\n",
       "4                CHARTWELLS       Risk 1 (High)"
      ]
     },
     "execution_count": 14,
     "metadata": {},
     "output_type": "execute_result"
    }
   ],
   "source": [
    "chicago_food_inspection.head()"
   ]
  },
  {
   "cell_type": "code",
   "execution_count": 15,
   "id": "55ed155d",
   "metadata": {},
   "outputs": [
    {
     "name": "stdout",
     "output_type": "stream",
     "text": [
      "\n",
      "DataFrame after using string functions:\n",
      "                          Name             Risk\n",
      "0   MARRIOT MARQUIS CHICAGO       risk 1 (high)\n",
      "1                  JETS PIZZA   risk 2 (medium)\n",
      "2                   ROOM 1520      risk 3 (low)\n",
      "3    MARRIOT MARQUIS CHICAGO      risk 1 (high)\n",
      "4                CHARTWELLS       risk 1 (high)\n"
     ]
    }
   ],
   "source": [
    "# Strip whitespaces and change case to lowercase for 'Risk' column using string functions\n",
    "chicago_food_inspection['Risk'] = chicago_food_inspection['Risk'].str.strip().str.lower()\n",
    "\n",
    "# Display the DataFrame after performing operations with string functions\n",
    "print(\"\\nDataFrame after using string functions:\")\n",
    "print(chicago_food_inspection.head())"
   ]
  },
  {
   "cell_type": "code",
   "execution_count": 16,
   "id": "bc747101",
   "metadata": {},
   "outputs": [
    {
     "name": "stdout",
     "output_type": "stream",
     "text": [
      "\n",
      "DataFrame after using apply function:\n",
      "                          Name             Risk\n",
      "0   MARRIOT MARQUIS CHICAGO       risk 1 (high)\n",
      "1                  JETS PIZZA   risk 2 (medium)\n",
      "2                   ROOM 1520      risk 3 (low)\n",
      "3    MARRIOT MARQUIS CHICAGO      risk 1 (high)\n",
      "4                CHARTWELLS       risk 1 (high)\n"
     ]
    }
   ],
   "source": [
    "# Define a function to strip whitespaces and change case to lowercase\n",
    "def clean_risk(risk):\n",
    "    risk = str(risk)\n",
    "    return risk.strip().lower()\n",
    "\n",
    "# Apply the function to the 'Risk' column using apply function\n",
    "chicago['Risk'] = chicago['Risk'].apply(clean_risk)\n",
    "\n",
    "# Display the DataFrame after using apply function\n",
    "print(\"\\nDataFrame after using apply function:\")\n",
    "print(chicago.head())"
   ]
  },
  {
   "cell_type": "code",
   "execution_count": null,
   "id": "a10603cb",
   "metadata": {},
   "outputs": [],
   "source": []
  }
 ],
 "metadata": {
  "kernelspec": {
   "display_name": "Python 3 (ipykernel)",
   "language": "python",
   "name": "python3"
  },
  "language_info": {
   "codemirror_mode": {
    "name": "ipython",
    "version": 3
   },
   "file_extension": ".py",
   "mimetype": "text/x-python",
   "name": "python",
   "nbconvert_exporter": "python",
   "pygments_lexer": "ipython3",
   "version": "3.9.0"
  }
 },
 "nbformat": 4,
 "nbformat_minor": 5
}
