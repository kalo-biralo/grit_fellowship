{
 "cells": [
  {
   "cell_type": "code",
   "execution_count": null,
   "id": "83a324b9",
   "metadata": {},
   "outputs": [],
   "source": [
    "pick_sports = np.array(athlete_df['Sport'].value_counts().index)\n",
    "\n",
    "career_df = athlete_df[athlete_df['Sport'].isin(pick_sports)]\n",
    "\n",
    "# Calculate career length\n",
    "career_df['Career_Length'] = athlete_df.groupby('Name')['Age'].transform(lambda x: x.max() - x.min())\n",
    "\n",
    "# Group data by sport and calculate average career length\n",
    "average_career_length_by_sport = career_df.groupby('Sport')['Career_Length'].mean().reset_index()\n",
    "average_career_length_by_sport.columns = ['Sport', 'Average_Career_Length']\n",
    "\n",
    "# Assuming performance is measured by the number of medals won\n",
    "# You can replace 'Medal' with the appropriate column name if performance is measured differently\n",
    "performance_by_sport = career_df.groupby('Sport')['Medal'].value_counts().unstack(fill_value = 0)\n",
    "performance_by_sport.drop(columns = 'NA')\n",
    "performance_by_sport['Total Medals'] = performance_by_sport['Bronze'] + performance_by_sport['Gold'] + performance_by_sport['Silver']\n",
    "performance_by_sport.reset_index(inplace = True)\n",
    "\n",
    "\n",
    "# Merge the two DataFrames on 'Sport'\n",
    "sport_stats = average_career_length_by_sport.merge(performance_by_sport, on='Sport', how='inner')\n",
    "\n",
    "sport_stats\n",
    "\n",
    "# Extract data\n",
    "sports = sport_stats['Sport']\n",
    "average_career_length = sport_stats['Average_Career_Length']\n",
    "total_medals = sport_stats['Total Medals']\n",
    "\n",
    "# Create scatter plot\n",
    "plt.figure(figsize=(10, 6))\n",
    "plt.scatter(average_career_length, total_medals, color='blue')\n",
    "\n",
    "\n",
    "plt.title('Average Career Length of All Athletes vs Total Medals by Sport')\n",
    "plt.xlabel('Average Career Length')\n",
    "plt.ylabel('Total Medals')\n",
    "plt.grid(True)\n",
    "plt.tight_layout()\n",
    "plt.show()\n"
   ]
  }
 ],
 "metadata": {
  "kernelspec": {
   "display_name": "Python 3 (ipykernel)",
   "language": "python",
   "name": "python3"
  },
  "language_info": {
   "codemirror_mode": {
    "name": "ipython",
    "version": 3
   },
   "file_extension": ".py",
   "mimetype": "text/x-python",
   "name": "python",
   "nbconvert_exporter": "python",
   "pygments_lexer": "ipython3",
   "version": "3.9.0"
  }
 },
 "nbformat": 4,
 "nbformat_minor": 5
}
