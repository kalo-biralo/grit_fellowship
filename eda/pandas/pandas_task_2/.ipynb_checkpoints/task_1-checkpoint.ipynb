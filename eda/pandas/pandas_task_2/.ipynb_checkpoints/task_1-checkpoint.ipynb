{
 "cells": [
  {
   "cell_type": "code",
   "execution_count": 1,
   "id": "c7640e0e",
   "metadata": {},
   "outputs": [],
   "source": [
    "import pandas as pd\n",
    "import numpy as np"
   ]
  },
  {
   "cell_type": "code",
   "execution_count": 2,
   "id": "60645c33",
   "metadata": {},
   "outputs": [],
   "source": [
    "cereal = pd.read_csv('../datasets/data2/data2/cereals.csv')"
   ]
  },
  {
   "cell_type": "code",
   "execution_count": 3,
   "id": "a1dba169",
   "metadata": {},
   "outputs": [
    {
     "name": "stdout",
     "output_type": "stream",
     "text": [
      "<class 'pandas.core.frame.DataFrame'>\n",
      "RangeIndex: 77 entries, 0 to 76\n",
      "Data columns (total 6 columns):\n",
      " #   Column        Non-Null Count  Dtype  \n",
      "---  ------        --------------  -----  \n",
      " 0   Name          77 non-null     object \n",
      " 1   Manufacturer  77 non-null     object \n",
      " 2   Type          77 non-null     object \n",
      " 3   Calories      77 non-null     int64  \n",
      " 4   Fiber         77 non-null     float64\n",
      " 5   Sugars        77 non-null     int64  \n",
      "dtypes: float64(1), int64(2), object(3)\n",
      "memory usage: 3.7+ KB\n"
     ]
    }
   ],
   "source": [
    "cereal.info()"
   ]
  },
  {
   "cell_type": "code",
   "execution_count": 4,
   "id": "ce4f2bf6",
   "metadata": {},
   "outputs": [
    {
     "data": {
      "text/html": [
       "<div>\n",
       "<style scoped>\n",
       "    .dataframe tbody tr th:only-of-type {\n",
       "        vertical-align: middle;\n",
       "    }\n",
       "\n",
       "    .dataframe tbody tr th {\n",
       "        vertical-align: top;\n",
       "    }\n",
       "\n",
       "    .dataframe thead th {\n",
       "        text-align: right;\n",
       "    }\n",
       "</style>\n",
       "<table border=\"1\" class=\"dataframe\">\n",
       "  <thead>\n",
       "    <tr style=\"text-align: right;\">\n",
       "      <th></th>\n",
       "      <th>Name</th>\n",
       "      <th>Manufacturer</th>\n",
       "      <th>Type</th>\n",
       "      <th>Calories</th>\n",
       "      <th>Fiber</th>\n",
       "      <th>Sugars</th>\n",
       "    </tr>\n",
       "  </thead>\n",
       "  <tbody>\n",
       "    <tr>\n",
       "      <th>0</th>\n",
       "      <td>100% Bran</td>\n",
       "      <td>Nabisco</td>\n",
       "      <td>Cold</td>\n",
       "      <td>70</td>\n",
       "      <td>10.0</td>\n",
       "      <td>6</td>\n",
       "    </tr>\n",
       "    <tr>\n",
       "      <th>1</th>\n",
       "      <td>100% Natural Bran</td>\n",
       "      <td>Quaker Oats</td>\n",
       "      <td>Cold</td>\n",
       "      <td>120</td>\n",
       "      <td>2.0</td>\n",
       "      <td>8</td>\n",
       "    </tr>\n",
       "    <tr>\n",
       "      <th>2</th>\n",
       "      <td>All-Bran</td>\n",
       "      <td>Kellogg's</td>\n",
       "      <td>Cold</td>\n",
       "      <td>70</td>\n",
       "      <td>9.0</td>\n",
       "      <td>5</td>\n",
       "    </tr>\n",
       "    <tr>\n",
       "      <th>3</th>\n",
       "      <td>All-Bran with Extra Fiber</td>\n",
       "      <td>Kellogg's</td>\n",
       "      <td>Cold</td>\n",
       "      <td>50</td>\n",
       "      <td>14.0</td>\n",
       "      <td>0</td>\n",
       "    </tr>\n",
       "    <tr>\n",
       "      <th>4</th>\n",
       "      <td>Almond Delight</td>\n",
       "      <td>Ralston Purina</td>\n",
       "      <td>Cold</td>\n",
       "      <td>110</td>\n",
       "      <td>1.0</td>\n",
       "      <td>8</td>\n",
       "    </tr>\n",
       "  </tbody>\n",
       "</table>\n",
       "</div>"
      ],
      "text/plain": [
       "                        Name    Manufacturer  Type  Calories  Fiber  Sugars\n",
       "0                  100% Bran         Nabisco  Cold        70   10.0       6\n",
       "1          100% Natural Bran     Quaker Oats  Cold       120    2.0       8\n",
       "2                   All-Bran       Kellogg's  Cold        70    9.0       5\n",
       "3  All-Bran with Extra Fiber       Kellogg's  Cold        50   14.0       0\n",
       "4             Almond Delight  Ralston Purina  Cold       110    1.0       8"
      ]
     },
     "execution_count": 4,
     "metadata": {},
     "output_type": "execute_result"
    }
   ],
   "source": [
    "cereal.head()"
   ]
  },
  {
   "cell_type": "code",
   "execution_count": 5,
   "id": "39dbdde6",
   "metadata": {},
   "outputs": [
    {
     "data": {
      "text/plain": [
       "Manufacturer\n",
       "Kellogg's                      23\n",
       "General Mills                  22\n",
       "Post                            9\n",
       "Quaker Oats                     8\n",
       "Ralston Purina                  8\n",
       "Nabisco                         6\n",
       "American Home Food Products     1\n",
       "Name: count, dtype: int64"
      ]
     },
     "execution_count": 5,
     "metadata": {},
     "output_type": "execute_result"
    }
   ],
   "source": [
    "cereal['Manufacturer'].value_counts()"
   ]
  },
  {
   "cell_type": "code",
   "execution_count": 6,
   "id": "a52261e4",
   "metadata": {},
   "outputs": [],
   "source": [
    "grouped_cereal = cereal.groupby('Manufacturer')"
   ]
  },
  {
   "cell_type": "code",
   "execution_count": 12,
   "id": "4eaa3b94",
   "metadata": {},
   "outputs": [
    {
     "name": "stdout",
     "output_type": "stream",
     "text": [
      "Total number of groups: 7\n",
      "\n",
      "Number of cereals per group:\n",
      "Manufacturer\n",
      "American Home Food Products     1\n",
      "General Mills                  22\n",
      "Kellogg's                      23\n",
      "Nabisco                         6\n",
      "Post                            9\n",
      "Quaker Oats                     8\n",
      "Ralston Purina                  8\n",
      "dtype: int64\n"
     ]
    }
   ],
   "source": [
    "# Grouping data by 'Manufacturer' and counting the number of cereals per group\n",
    "grouped = grouped_cereal.size()\n",
    "\n",
    "# Displaying the total number of groups and the number of cereals per group\n",
    "print(\"Total number of groups:\", len(grouped))\n",
    "print(\"\\nNumber of cereals per group:\")\n",
    "print(grouped)"
   ]
  },
  {
   "cell_type": "code",
   "execution_count": 21,
   "id": "b0fe32a4",
   "metadata": {},
   "outputs": [
    {
     "name": "stdout",
     "output_type": "stream",
     "text": [
      "Cereals belonging to Nebisco:\n",
      "                         Name Manufacturer  Type  Calories  Fiber  Sugars\n",
      "0                   100% Bran      Nabisco  Cold        70   10.0       6\n",
      "20     Cream of Wheat (Quick)      Nabisco   Hot       100    1.0       0\n",
      "63             Shredded Wheat      Nabisco  Cold        80    3.0       0\n",
      "64     Shredded Wheat 'n'Bran      Nabisco  Cold        90    4.0       0\n",
      "65  Shredded Wheat spoon size      Nabisco  Cold        90    3.0       0\n",
      "68    Strawberry Fruit Wheats      Nabisco  Cold        90    3.0       5\n"
     ]
    }
   ],
   "source": [
    "# Extract cereals belonging to the manufacturer 'Nabisco'\n",
    "nebisco_group = grouped_cereal.get_group('Nabisco')\n",
    "\n",
    "# Displaying the cereals belonging to 'Nebisco'\n",
    "print(\"Cereals belonging to Nebisco:\")\n",
    "print(nebisco_group)\n",
    "\n"
   ]
  },
  {
   "cell_type": "code",
   "execution_count": 20,
   "id": "ae3455fd",
   "metadata": {},
   "outputs": [
    {
     "name": "stdout",
     "output_type": "stream",
     "text": [
      "Average values for each manufacturer:\n",
      "                               Calories     Fiber    Sugars\n",
      "Manufacturer                                               \n",
      "American Home Food Products  100.000000  0.000000  3.000000\n",
      "General Mills                111.363636  1.272727  7.954545\n",
      "Kellogg's                    108.695652  2.739130  7.565217\n",
      "Nabisco                       86.666667  4.000000  1.833333\n",
      "Post                         108.888889  2.777778  8.777778\n",
      "Quaker Oats                   95.000000  1.337500  5.250000\n",
      "Ralston Purina               115.000000  1.875000  6.125000\n"
     ]
    }
   ],
   "source": [
    "# Grouping data by 'Manufacturer' and calculating the average values for 'Calories', 'Fiber', and 'Sugar'\n",
    "manufacturer_avg = grouped_cereal[['Calories', 'Fiber', 'Sugars']].mean()\n",
    "\n",
    "# Displaying the average values for each manufacturer\n",
    "print(\"Average values for each manufacturer:\")\n",
    "print(manufacturer_avg)\n"
   ]
  },
  {
   "cell_type": "code",
   "execution_count": 22,
   "id": "89bd95aa",
   "metadata": {},
   "outputs": [
    {
     "name": "stdout",
     "output_type": "stream",
     "text": [
      "Maximum value in the 'Sugars' column for each manufacturer:\n",
      "Manufacturer\n",
      "American Home Food Products     3\n",
      "General Mills                  14\n",
      "Kellogg's                      15\n",
      "Nabisco                         6\n",
      "Post                           15\n",
      "Quaker Oats                    12\n",
      "Ralston Purina                 11\n",
      "Name: Sugars, dtype: int64\n"
     ]
    }
   ],
   "source": [
    "# Calculate the maximum value in the 'Sugars' column for each manufacturer\n",
    "max_sugars_per_manufacturer = grouped_cereal['Sugars'].max()\n",
    "\n",
    "# Displaying the maximum value in the 'Sugars' column for each manufacturer\n",
    "print(\"Maximum value in the 'Sugars' column for each manufacturer:\")\n",
    "print(max_sugars_per_manufacturer)"
   ]
  },
  {
   "cell_type": "code",
   "execution_count": 23,
   "id": "4aba37aa",
   "metadata": {},
   "outputs": [
    {
     "name": "stdout",
     "output_type": "stream",
     "text": [
      "Maximum value in the 'Sugars' column for each manufacturer:\n",
      "Manufacturer\n",
      "American Home Food Products    0.0\n",
      "General Mills                  0.0\n",
      "Kellogg's                      0.0\n",
      "Nabisco                        1.0\n",
      "Post                           0.0\n",
      "Quaker Oats                    0.0\n",
      "Ralston Purina                 0.0\n",
      "Name: Fiber, dtype: float64\n"
     ]
    }
   ],
   "source": [
    "# Calculate the maximum value in the 'Fiber' column for each manufacturer\n",
    "max_sugars_per_manufacturer = grouped_cereal['Fiber'].min()\n",
    "\n",
    "# Displaying the maximum value in the 'Fiber' column for each manufacturer\n",
    "print(\"Maximum value in the 'Sugars' column for each manufacturer:\")\n",
    "print(max_sugars_per_manufacturer)"
   ]
  },
  {
   "cell_type": "code",
   "execution_count": 26,
   "id": "39b8f2e3",
   "metadata": {},
   "outputs": [
    {
     "name": "stdout",
     "output_type": "stream",
     "text": [
      "Cereals with the lowest amount of sugar per manufacturer:\n",
      "                         Name                 Manufacturer  Type  Calories  \\\n",
      "43                      Maypo  American Home Food Products   Hot       100   \n",
      "11                   Cheerios                General Mills  Cold       110   \n",
      "3   All-Bran with Extra Fiber                    Kellogg's  Cold        50   \n",
      "20     Cream of Wheat (Quick)                      Nabisco   Hot       100   \n",
      "33                 Grape-Nuts                         Post  Cold       110   \n",
      "57             Quaker Oatmeal                  Quaker Oats   Hot       100   \n",
      "61                  Rice Chex               Ralston Purina  Cold       110   \n",
      "\n",
      "    Fiber  Sugars  \n",
      "43    0.0       3  \n",
      "11    2.0       1  \n",
      "3    14.0       0  \n",
      "20    1.0       0  \n",
      "33    3.0       3  \n",
      "57    2.7      -1  \n",
      "61    0.0       2  \n"
     ]
    }
   ],
   "source": [
    "# Grouping data by 'Manufacturer' and finding the index of the cereal with the lowest amount of sugar in each group\n",
    "min_sugar_indices = grouped_cereal['Sugars'].idxmin()\n",
    "\n",
    "# Extracting the rows corresponding to the indices\n",
    "cereals_with_lowest_sugar = cereal.loc[min_sugar_indices]\n",
    "\n",
    "# Displaying the cereals with the lowest amount of sugar per manufacturer in a new DataFrame\n",
    "print(\"Cereals with the lowest amount of sugar per manufacturer:\")\n",
    "print(cereals_with_lowest_sugar)"
   ]
  }
 ],
 "metadata": {
  "kernelspec": {
   "display_name": "Python 3 (ipykernel)",
   "language": "python",
   "name": "python3"
  },
  "language_info": {
   "codemirror_mode": {
    "name": "ipython",
    "version": 3
   },
   "file_extension": ".py",
   "mimetype": "text/x-python",
   "name": "python",
   "nbconvert_exporter": "python",
   "pygments_lexer": "ipython3",
   "version": "3.9.0"
  }
 },
 "nbformat": 4,
 "nbformat_minor": 5
}
