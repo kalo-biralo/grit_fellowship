{
 "cells": [
  {
   "cell_type": "code",
   "execution_count": 1,
   "id": "b694f439",
   "metadata": {},
   "outputs": [],
   "source": [
    "import pandas as pd"
   ]
  },
  {
   "cell_type": "code",
   "execution_count": 15,
   "id": "0214dc69",
   "metadata": {},
   "outputs": [],
   "source": [
    "week1_df = pd.read_csv('../datasets/data2/data2/restaurant/week_1_sales.csv')\n",
    "week2_df = pd.read_csv('../datasets/data2/data2/restaurant/week_2_sales.csv')\n",
    "customer_df =  pd.read_csv('../datasets/data2/data2/restaurant/customers.csv')"
   ]
  },
  {
   "cell_type": "code",
   "execution_count": 18,
   "id": "2142cd2c",
   "metadata": {},
   "outputs": [
    {
     "data": {
      "text/html": [
       "<div>\n",
       "<style scoped>\n",
       "    .dataframe tbody tr th:only-of-type {\n",
       "        vertical-align: middle;\n",
       "    }\n",
       "\n",
       "    .dataframe tbody tr th {\n",
       "        vertical-align: top;\n",
       "    }\n",
       "\n",
       "    .dataframe thead th {\n",
       "        text-align: right;\n",
       "    }\n",
       "</style>\n",
       "<table border=\"1\" class=\"dataframe\">\n",
       "  <thead>\n",
       "    <tr style=\"text-align: right;\">\n",
       "      <th></th>\n",
       "      <th>ID</th>\n",
       "      <th>First Name</th>\n",
       "      <th>Last Name</th>\n",
       "      <th>Gender</th>\n",
       "      <th>Company</th>\n",
       "      <th>Occupation</th>\n",
       "    </tr>\n",
       "  </thead>\n",
       "  <tbody>\n",
       "    <tr>\n",
       "      <th>0</th>\n",
       "      <td>1</td>\n",
       "      <td>Joseph</td>\n",
       "      <td>Perkins</td>\n",
       "      <td>Male</td>\n",
       "      <td>Dynazzy</td>\n",
       "      <td>Community Outreach Specialist</td>\n",
       "    </tr>\n",
       "    <tr>\n",
       "      <th>1</th>\n",
       "      <td>2</td>\n",
       "      <td>Jennifer</td>\n",
       "      <td>Alvarez</td>\n",
       "      <td>Female</td>\n",
       "      <td>DabZ</td>\n",
       "      <td>Senior Quality Engineer</td>\n",
       "    </tr>\n",
       "    <tr>\n",
       "      <th>2</th>\n",
       "      <td>3</td>\n",
       "      <td>Roger</td>\n",
       "      <td>Black</td>\n",
       "      <td>Male</td>\n",
       "      <td>Tagfeed</td>\n",
       "      <td>Account Executive</td>\n",
       "    </tr>\n",
       "    <tr>\n",
       "      <th>3</th>\n",
       "      <td>4</td>\n",
       "      <td>Steven</td>\n",
       "      <td>Evans</td>\n",
       "      <td>Male</td>\n",
       "      <td>Fatz</td>\n",
       "      <td>Registered Nurse</td>\n",
       "    </tr>\n",
       "    <tr>\n",
       "      <th>4</th>\n",
       "      <td>5</td>\n",
       "      <td>Judy</td>\n",
       "      <td>Morrison</td>\n",
       "      <td>Female</td>\n",
       "      <td>Demivee</td>\n",
       "      <td>Legal Assistant</td>\n",
       "    </tr>\n",
       "  </tbody>\n",
       "</table>\n",
       "</div>"
      ],
      "text/plain": [
       "   ID First Name Last Name  Gender  Company                     Occupation\n",
       "0   1     Joseph   Perkins    Male  Dynazzy  Community Outreach Specialist\n",
       "1   2   Jennifer   Alvarez  Female     DabZ        Senior Quality Engineer\n",
       "2   3      Roger     Black    Male  Tagfeed              Account Executive\n",
       "3   4     Steven     Evans    Male     Fatz               Registered Nurse\n",
       "4   5       Judy  Morrison  Female  Demivee                Legal Assistant"
      ]
     },
     "execution_count": 18,
     "metadata": {},
     "output_type": "execute_result"
    }
   ],
   "source": [
    "customer_df.head()"
   ]
  },
  {
   "cell_type": "code",
   "execution_count": 17,
   "id": "5982fc27",
   "metadata": {},
   "outputs": [
    {
     "name": "stdout",
     "output_type": "stream",
     "text": [
      "            Customer ID  Food ID\n",
      "Week 1 0            537        9\n",
      "       1             97        4\n",
      "       2            658        1\n",
      "       3            202        2\n",
      "       4            155        9\n",
      "...                 ...      ...\n",
      "Week 2 245          783       10\n",
      "       246          556       10\n",
      "       247          547        9\n",
      "       248          252        9\n",
      "       249          249        6\n",
      "\n",
      "[500 rows x 2 columns]\n"
     ]
    }
   ],
   "source": [
    "# Concatenate the two DataFrames\n",
    "combined_df = pd.concat([week1_df, week2_df], keys=['Week 1', 'Week 2'])\n",
    "\n",
    "# Display the combined DataFrame\n",
    "print(combined_df)"
   ]
  },
  {
   "cell_type": "code",
   "execution_count": 4,
   "id": "387ae006",
   "metadata": {},
   "outputs": [
    {
     "name": "stdout",
     "output_type": "stream",
     "text": [
      "Customers who ate at the restaurant both weeks:\n",
      "[537 155 503 550 101  75  77 628 798 462 304 189 799  30 249 677 741 540\n",
      " 819 937 233  21 459 816 761  80 479 922 909 919 574  45 529 673 310 867\n",
      " 968 482 163 321 783 578 520 945 343 621]\n"
     ]
    }
   ],
   "source": [
    "# Merge the two DataFrames on the customer ID column\n",
    "both_weeks_customers = pd.merge(week1_df, week2_df, on='Customer ID', how='inner')\n",
    "\n",
    "# Extract unique customer IDs from the result\n",
    "unique_customers = both_weeks_customers['Customer ID'].unique()\n",
    "\n",
    "# Display the customers who ate at the restaurant both weeks\n",
    "print(\"Customers who ate at the restaurant both weeks:\")\n",
    "print(unique_customers)\n"
   ]
  },
  {
   "cell_type": "code",
   "execution_count": 5,
   "id": "e0a4e77a",
   "metadata": {},
   "outputs": [
    {
     "name": "stdout",
     "output_type": "stream",
     "text": [
      "Customers who ate at the restaurant both weeks and ordered the same item each week:\n",
      "[304 540 937 233  21 922 578]\n"
     ]
    }
   ],
   "source": [
    "# Merge the two DataFrames on both 'Customer ID' and 'Item' columns\n",
    "both_weeks_same_item = pd.merge(week1_df, week2_df, on=['Customer ID', 'Food ID'], how='inner')\n",
    "\n",
    "# Extract unique customer IDs from the result\n",
    "unique_customers = both_weeks_same_item['Customer ID'].unique()\n",
    "\n",
    "# Display the customers who ate at the restaurant both weeks and ordered the same item each week\n",
    "print(\"Customers who ate at the restaurant both weeks and ordered the same item each week:\")\n",
    "print(unique_customers)\n"
   ]
  },
  {
   "cell_type": "code",
   "execution_count": 6,
   "id": "e3179787",
   "metadata": {},
   "outputs": [
    {
     "name": "stdout",
     "output_type": "stream",
     "text": [
      "Customers who came in only on Week 1:\n",
      "     Customer ID  Food ID_x  Food ID_y\n",
      "1             97          4        NaN\n",
      "2            658          1        NaN\n",
      "3            202          2        NaN\n",
      "5            213          8        NaN\n",
      "6            600          1        NaN\n",
      "..           ...        ...        ...\n",
      "252          413          9        NaN\n",
      "253          926          6        NaN\n",
      "254          134          3        NaN\n",
      "255          396          6        NaN\n",
      "256          535         10        NaN\n",
      "\n",
      "[195 rows x 3 columns]\n",
      "\n",
      "Customers who came in only on Week 2:\n",
      "     Customer ID  Food ID_x  Food ID_y\n",
      "0            688        NaN         10\n",
      "1            813        NaN          7\n",
      "2            495        NaN         10\n",
      "4            267        NaN          3\n",
      "8            443        NaN          5\n",
      "..           ...        ...        ...\n",
      "249          734        NaN          1\n",
      "251          276        NaN          4\n",
      "255          556        NaN         10\n",
      "256          547        NaN          9\n",
      "257          252        NaN          9\n",
      "\n",
      "[197 rows x 3 columns]\n"
     ]
    }
   ],
   "source": [
    "# Perform left join to find customers unique to Week 1\n",
    "only_week1_customers = pd.merge(week1_df, week2_df, on='Customer ID', how='left', indicator=True)\n",
    "only_week1_customers = only_week1_customers[only_week1_customers['_merge'] == 'left_only']\n",
    "only_week1_customers = only_week1_customers.drop(columns='_merge')\n",
    "\n",
    "# Perform right join to find customers unique to Week 2\n",
    "only_week2_customers = pd.merge(week1_df, week2_df, on='Customer ID', how='right', indicator=True)\n",
    "only_week2_customers = only_week2_customers[only_week2_customers['_merge'] == 'right_only']\n",
    "only_week2_customers = only_week2_customers.drop(columns='_merge')\n",
    "\n",
    "# Display customers who came in only on Week 1\n",
    "print(\"Customers who came in only on Week 1:\")\n",
    "print(only_week1_customers)\n",
    "\n",
    "# Display customers who came in only on Week 2\n",
    "print(\"\\nCustomers who came in only on Week 2:\")\n",
    "print(only_week2_customers)\n"
   ]
  },
  {
   "cell_type": "code",
   "execution_count": 20,
   "id": "62b9b20c",
   "metadata": {},
   "outputs": [
    {
     "name": "stdout",
     "output_type": "stream",
     "text": [
      "     Customer ID  Food ID   ID First Name Last Name  Gender    Company  \\\n",
      "0            537        9  537     Cheryl   Carroll  Female   Zoombeat   \n",
      "1             97        4   97     Amanda   Watkins  Female        Ozu   \n",
      "2            658        1  658    Patrick      Webb    Male  Browsebug   \n",
      "3            202        2  202      Louis  Campbell    Male  Rhynoodle   \n",
      "4            155        9  155    Carolyn      Diaz  Female   Gigazoom   \n",
      "..           ...      ...  ...        ...       ...     ...        ...   \n",
      "245          413        9  413      Diane    Bailey  Female    Wikibox   \n",
      "246          926        6  926       Anne    Wagner  Female      Skyba   \n",
      "247          134        3  134      Diana      Hall  Female      Quinu   \n",
      "248          396        6  396       Juan    Romero    Male    Zoonder   \n",
      "249          535       10  535      Nancy       Cox  Female     Trudeo   \n",
      "\n",
      "                        Occupation  \n",
      "0                 Registered Nurse  \n",
      "1              Account Coordinator  \n",
      "2    Community Outreach Specialist  \n",
      "3       Account Representative III  \n",
      "4       Database Administrator III  \n",
      "..                             ...  \n",
      "245               Technical Writer  \n",
      "246                Legal Assistant  \n",
      "247              Financial Advisor  \n",
      "248             Analyst Programmer  \n",
      "249             Research Associate  \n",
      "\n",
      "[250 rows x 8 columns]\n"
     ]
    }
   ],
   "source": [
    "# Perform a merge operation to pull customer information from the customer DataFrame\n",
    "week1_with_customer_info = pd.merge(week1_df, customer_df, left_on='Customer ID', right_on='ID', how='left')\n",
    "\n",
    "# Display the DataFrame with customer information\n",
    "print(week1_with_customer_info)\n"
   ]
  },
  {
   "cell_type": "code",
   "execution_count": null,
   "id": "c8e21f98",
   "metadata": {},
   "outputs": [],
   "source": []
  }
 ],
 "metadata": {
  "kernelspec": {
   "display_name": "Python 3 (ipykernel)",
   "language": "python",
   "name": "python3"
  },
  "language_info": {
   "codemirror_mode": {
    "name": "ipython",
    "version": 3
   },
   "file_extension": ".py",
   "mimetype": "text/x-python",
   "name": "python",
   "nbconvert_exporter": "python",
   "pygments_lexer": "ipython3",
   "version": "3.9.0"
  }
 },
 "nbformat": 4,
 "nbformat_minor": 5
}
